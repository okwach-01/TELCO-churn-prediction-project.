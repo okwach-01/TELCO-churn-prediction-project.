{
  "metadata": {
    "colab": {
      "provenance": [],
      "gpuType": "T4"
    },
    "kernelspec": {
      "name": "python3",
      "display_name": "Python 3"
    },
    "language_info": {
      "name": "python",
      "version": "3.10.13",
      "mimetype": "text/x-python",
      "codemirror_mode": {
        "name": "ipython",
        "version": 3
      },
      "pygments_lexer": "ipython3",
      "nbconvert_exporter": "python",
      "file_extension": ".py"
    },
    "kaggle": {
      "accelerator": "none",
      "dataSources": [
        {
          "sourceId": 18858,
          "sourceType": "datasetVersion",
          "datasetId": 13996
        }
      ],
      "dockerImageVersionId": 30664,
      "isInternetEnabled": false,
      "language": "python",
      "sourceType": "notebook",
      "isGpuEnabled": false
    },
    "accelerator": "GPU"
  },
  "nbformat_minor": 0,
  "nbformat": 4,
  "cells": [
    {
      "cell_type": "markdown",
      "source": [
        "# Introduction\n",
        "\n",
        "Customer churn is a significant concern for businesses, particularly in industries with high competition and low switching costs, such as telecommunications. Churn occurs when customers stop using a product or service, leading to lost revenue and increased costs for acquiring new customers. Understanding the factors that contribute to churn and being able to predict it can greatly benefit businesses by enabling proactive measures to retain customers.\n",
        "\n",
        "This project aims to address the challenge of customer churn prediction by analyzing a real-world telecommunications dataset. Using machine learning techniques, the goal is to build a predictive model that can identify customers at risk of churning. This will help businesses implement targeted retention strategies and improve overall customer satisfaction. The code in this repository provides a detailed approach to data exploration, feature engineering, model selection, and evaluation to achieve accurate churn prediction.\n"
      ],
      "metadata": {
        "id": "K57lJ-NthzKx"
      }
    },
    {
      "cell_type": "markdown",
      "source": [
        "# Importing Libraries\n",
        "\n",
        "> The initial step in this project was importing all relevant libraries required for data analysis, visualization, and machine learning. These libraries form the backbone of our project and allow us to perform operations like data manipulation, statistical analysis, data visualization, and building machine learning models. By importing these libraries at the beginning, we ensure our code has access to all the necessary tools for the subsequent stages of the project.\n",
        "\n"
      ],
      "metadata": {
        "id": "Gg0-_5NgDbYw"
      }
    },
    {
      "cell_type": "markdown",
      "source": [
        "# Problem Statement:\n",
        "\n",
        " The goal is to analyze a telecommunications dataset and create a machine learning model that can accurately predict customer churn. Churn refers to the phenomenon where customers leave or discontinue a service. Predicting customer churn is crucial for businesses to identify at-risk customers and take proactive measures to retain them. By developing a robust predictive model, we aim to assist businesses in reducing customer churn and improving customer retention.\n",
        "\n",
        "The dataset source is (https://www.kaggle.com/datasets/blastchar/telco-customer-churn)"
      ],
      "metadata": {
        "id": "M0G5YKWhgfk_"
      }
    },
    {
      "cell_type": "code",
      "source": [
        "import numpy as np\n",
        "import pandas as pd\n",
        "import matplotlib.pyplot as plt\n",
        "import seaborn as sns\n",
        "from sklearn.preprocessing import LabelEncoder, MinMaxScaler\n",
        "from sklearn.model_selection import train_test_split, cross_val_score\n",
        "from sklearn.ensemble import RandomForestClassifier, GradientBoostingClassifier\n",
        "from sklearn.metrics import accuracy_score, confusion_matrix\n",
        "from imblearn.over_sampling import RandomOverSampler\n",
        "from sklearn.model_selection import KFold\n",
        "from sklearn.model_selection import RandomizedSearchCV\n",
        "from sklearn.svm import SVC\n",
        "from sklearn.linear_model import LogisticRegression\n",
        "from sklearn.neighbors import KNeighborsClassifier\n",
        "from sklearn.naive_bayes import MultinomialNB\n",
        "from sklearn import metrics\n",
        "from sklearn.model_selection import GridSearchCV"
      ],
      "metadata": {
        "id": "_g-Qci52DiQO",
        "execution": {
          "iopub.status.busy": "2024-03-19T16:10:51.774394Z",
          "iopub.execute_input": "2024-03-19T16:10:51.774906Z",
          "iopub.status.idle": "2024-03-19T16:10:55.781099Z",
          "shell.execute_reply.started": "2024-03-19T16:10:51.774862Z",
          "shell.execute_reply": "2024-03-19T16:10:55.7798Z"
        },
        "trusted": true
      },
      "execution_count": 57,
      "outputs": []
    },
    {
      "cell_type": "markdown",
      "source": [
        "# Data Loading and Cleaning"
      ],
      "metadata": {
        "id": "HpaZ6raFDpV_"
      }
    },
    {
      "cell_type": "code",
      "source": [
        "data = pd.read_csv(\"/content/archive (2).zip\");"
      ],
      "metadata": {
        "id": "5ebt721xbovn",
        "execution": {
          "iopub.status.busy": "2024-03-19T16:10:55.783233Z",
          "iopub.execute_input": "2024-03-19T16:10:55.783905Z",
          "iopub.status.idle": "2024-03-19T16:10:55.877565Z",
          "shell.execute_reply.started": "2024-03-19T16:10:55.78386Z",
          "shell.execute_reply": "2024-03-19T16:10:55.87638Z"
        },
        "trusted": true
      },
      "execution_count": 8,
      "outputs": []
    },
    {
      "cell_type": "code",
      "source": [
        "data.head()"
      ],
      "metadata": {
        "id": "Hd5JQAGVb5jW",
        "execution": {
          "iopub.status.busy": "2024-03-19T16:10:55.87906Z",
          "iopub.execute_input": "2024-03-19T16:10:55.879483Z",
          "iopub.status.idle": "2024-03-19T16:10:55.924936Z",
          "shell.execute_reply.started": "2024-03-19T16:10:55.879445Z",
          "shell.execute_reply": "2024-03-19T16:10:55.923948Z"
        },
        "trusted": true,
        "colab": {
          "base_uri": "https://localhost:8080/",
          "height": 342
        },
        "outputId": "23faec7b-3aec-452d-f733-2ad136ecd2e7"
      },
      "execution_count": 9,
      "outputs": [
        {
          "output_type": "execute_result",
          "data": {
            "text/plain": [
              "   customerID  gender  SeniorCitizen Partner Dependents  tenure PhoneService  \\\n",
              "0  7590-VHVEG  Female              0     Yes         No       1           No   \n",
              "1  5575-GNVDE    Male              0      No         No      34          Yes   \n",
              "2  3668-QPYBK    Male              0      No         No       2          Yes   \n",
              "3  7795-CFOCW    Male              0      No         No      45           No   \n",
              "4  9237-HQITU  Female              0      No         No       2          Yes   \n",
              "\n",
              "      MultipleLines InternetService OnlineSecurity  ... DeviceProtection  \\\n",
              "0  No phone service             DSL             No  ...               No   \n",
              "1                No             DSL            Yes  ...              Yes   \n",
              "2                No             DSL            Yes  ...               No   \n",
              "3  No phone service             DSL            Yes  ...              Yes   \n",
              "4                No     Fiber optic             No  ...               No   \n",
              "\n",
              "  TechSupport StreamingTV StreamingMovies        Contract PaperlessBilling  \\\n",
              "0          No          No              No  Month-to-month              Yes   \n",
              "1          No          No              No        One year               No   \n",
              "2          No          No              No  Month-to-month              Yes   \n",
              "3         Yes          No              No        One year               No   \n",
              "4          No          No              No  Month-to-month              Yes   \n",
              "\n",
              "               PaymentMethod MonthlyCharges  TotalCharges Churn  \n",
              "0           Electronic check          29.85         29.85    No  \n",
              "1               Mailed check          56.95        1889.5    No  \n",
              "2               Mailed check          53.85        108.15   Yes  \n",
              "3  Bank transfer (automatic)          42.30       1840.75    No  \n",
              "4           Electronic check          70.70        151.65   Yes  \n",
              "\n",
              "[5 rows x 21 columns]"
            ],
            "text/html": [
              "\n",
              "  <div id=\"df-91d12724-648e-405a-9119-58792490d9f6\" class=\"colab-df-container\">\n",
              "    <div>\n",
              "<style scoped>\n",
              "    .dataframe tbody tr th:only-of-type {\n",
              "        vertical-align: middle;\n",
              "    }\n",
              "\n",
              "    .dataframe tbody tr th {\n",
              "        vertical-align: top;\n",
              "    }\n",
              "\n",
              "    .dataframe thead th {\n",
              "        text-align: right;\n",
              "    }\n",
              "</style>\n",
              "<table border=\"1\" class=\"dataframe\">\n",
              "  <thead>\n",
              "    <tr style=\"text-align: right;\">\n",
              "      <th></th>\n",
              "      <th>customerID</th>\n",
              "      <th>gender</th>\n",
              "      <th>SeniorCitizen</th>\n",
              "      <th>Partner</th>\n",
              "      <th>Dependents</th>\n",
              "      <th>tenure</th>\n",
              "      <th>PhoneService</th>\n",
              "      <th>MultipleLines</th>\n",
              "      <th>InternetService</th>\n",
              "      <th>OnlineSecurity</th>\n",
              "      <th>...</th>\n",
              "      <th>DeviceProtection</th>\n",
              "      <th>TechSupport</th>\n",
              "      <th>StreamingTV</th>\n",
              "      <th>StreamingMovies</th>\n",
              "      <th>Contract</th>\n",
              "      <th>PaperlessBilling</th>\n",
              "      <th>PaymentMethod</th>\n",
              "      <th>MonthlyCharges</th>\n",
              "      <th>TotalCharges</th>\n",
              "      <th>Churn</th>\n",
              "    </tr>\n",
              "  </thead>\n",
              "  <tbody>\n",
              "    <tr>\n",
              "      <th>0</th>\n",
              "      <td>7590-VHVEG</td>\n",
              "      <td>Female</td>\n",
              "      <td>0</td>\n",
              "      <td>Yes</td>\n",
              "      <td>No</td>\n",
              "      <td>1</td>\n",
              "      <td>No</td>\n",
              "      <td>No phone service</td>\n",
              "      <td>DSL</td>\n",
              "      <td>No</td>\n",
              "      <td>...</td>\n",
              "      <td>No</td>\n",
              "      <td>No</td>\n",
              "      <td>No</td>\n",
              "      <td>No</td>\n",
              "      <td>Month-to-month</td>\n",
              "      <td>Yes</td>\n",
              "      <td>Electronic check</td>\n",
              "      <td>29.85</td>\n",
              "      <td>29.85</td>\n",
              "      <td>No</td>\n",
              "    </tr>\n",
              "    <tr>\n",
              "      <th>1</th>\n",
              "      <td>5575-GNVDE</td>\n",
              "      <td>Male</td>\n",
              "      <td>0</td>\n",
              "      <td>No</td>\n",
              "      <td>No</td>\n",
              "      <td>34</td>\n",
              "      <td>Yes</td>\n",
              "      <td>No</td>\n",
              "      <td>DSL</td>\n",
              "      <td>Yes</td>\n",
              "      <td>...</td>\n",
              "      <td>Yes</td>\n",
              "      <td>No</td>\n",
              "      <td>No</td>\n",
              "      <td>No</td>\n",
              "      <td>One year</td>\n",
              "      <td>No</td>\n",
              "      <td>Mailed check</td>\n",
              "      <td>56.95</td>\n",
              "      <td>1889.5</td>\n",
              "      <td>No</td>\n",
              "    </tr>\n",
              "    <tr>\n",
              "      <th>2</th>\n",
              "      <td>3668-QPYBK</td>\n",
              "      <td>Male</td>\n",
              "      <td>0</td>\n",
              "      <td>No</td>\n",
              "      <td>No</td>\n",
              "      <td>2</td>\n",
              "      <td>Yes</td>\n",
              "      <td>No</td>\n",
              "      <td>DSL</td>\n",
              "      <td>Yes</td>\n",
              "      <td>...</td>\n",
              "      <td>No</td>\n",
              "      <td>No</td>\n",
              "      <td>No</td>\n",
              "      <td>No</td>\n",
              "      <td>Month-to-month</td>\n",
              "      <td>Yes</td>\n",
              "      <td>Mailed check</td>\n",
              "      <td>53.85</td>\n",
              "      <td>108.15</td>\n",
              "      <td>Yes</td>\n",
              "    </tr>\n",
              "    <tr>\n",
              "      <th>3</th>\n",
              "      <td>7795-CFOCW</td>\n",
              "      <td>Male</td>\n",
              "      <td>0</td>\n",
              "      <td>No</td>\n",
              "      <td>No</td>\n",
              "      <td>45</td>\n",
              "      <td>No</td>\n",
              "      <td>No phone service</td>\n",
              "      <td>DSL</td>\n",
              "      <td>Yes</td>\n",
              "      <td>...</td>\n",
              "      <td>Yes</td>\n",
              "      <td>Yes</td>\n",
              "      <td>No</td>\n",
              "      <td>No</td>\n",
              "      <td>One year</td>\n",
              "      <td>No</td>\n",
              "      <td>Bank transfer (automatic)</td>\n",
              "      <td>42.30</td>\n",
              "      <td>1840.75</td>\n",
              "      <td>No</td>\n",
              "    </tr>\n",
              "    <tr>\n",
              "      <th>4</th>\n",
              "      <td>9237-HQITU</td>\n",
              "      <td>Female</td>\n",
              "      <td>0</td>\n",
              "      <td>No</td>\n",
              "      <td>No</td>\n",
              "      <td>2</td>\n",
              "      <td>Yes</td>\n",
              "      <td>No</td>\n",
              "      <td>Fiber optic</td>\n",
              "      <td>No</td>\n",
              "      <td>...</td>\n",
              "      <td>No</td>\n",
              "      <td>No</td>\n",
              "      <td>No</td>\n",
              "      <td>No</td>\n",
              "      <td>Month-to-month</td>\n",
              "      <td>Yes</td>\n",
              "      <td>Electronic check</td>\n",
              "      <td>70.70</td>\n",
              "      <td>151.65</td>\n",
              "      <td>Yes</td>\n",
              "    </tr>\n",
              "  </tbody>\n",
              "</table>\n",
              "<p>5 rows × 21 columns</p>\n",
              "</div>\n",
              "    <div class=\"colab-df-buttons\">\n",
              "\n",
              "  <div class=\"colab-df-container\">\n",
              "    <button class=\"colab-df-convert\" onclick=\"convertToInteractive('df-91d12724-648e-405a-9119-58792490d9f6')\"\n",
              "            title=\"Convert this dataframe to an interactive table.\"\n",
              "            style=\"display:none;\">\n",
              "\n",
              "  <svg xmlns=\"http://www.w3.org/2000/svg\" height=\"24px\" viewBox=\"0 -960 960 960\">\n",
              "    <path d=\"M120-120v-720h720v720H120Zm60-500h600v-160H180v160Zm220 220h160v-160H400v160Zm0 220h160v-160H400v160ZM180-400h160v-160H180v160Zm440 0h160v-160H620v160ZM180-180h160v-160H180v160Zm440 0h160v-160H620v160Z\"/>\n",
              "  </svg>\n",
              "    </button>\n",
              "\n",
              "  <style>\n",
              "    .colab-df-container {\n",
              "      display:flex;\n",
              "      gap: 12px;\n",
              "    }\n",
              "\n",
              "    .colab-df-convert {\n",
              "      background-color: #E8F0FE;\n",
              "      border: none;\n",
              "      border-radius: 50%;\n",
              "      cursor: pointer;\n",
              "      display: none;\n",
              "      fill: #1967D2;\n",
              "      height: 32px;\n",
              "      padding: 0 0 0 0;\n",
              "      width: 32px;\n",
              "    }\n",
              "\n",
              "    .colab-df-convert:hover {\n",
              "      background-color: #E2EBFA;\n",
              "      box-shadow: 0px 1px 2px rgba(60, 64, 67, 0.3), 0px 1px 3px 1px rgba(60, 64, 67, 0.15);\n",
              "      fill: #174EA6;\n",
              "    }\n",
              "\n",
              "    .colab-df-buttons div {\n",
              "      margin-bottom: 4px;\n",
              "    }\n",
              "\n",
              "    [theme=dark] .colab-df-convert {\n",
              "      background-color: #3B4455;\n",
              "      fill: #D2E3FC;\n",
              "    }\n",
              "\n",
              "    [theme=dark] .colab-df-convert:hover {\n",
              "      background-color: #434B5C;\n",
              "      box-shadow: 0px 1px 3px 1px rgba(0, 0, 0, 0.15);\n",
              "      filter: drop-shadow(0px 1px 2px rgba(0, 0, 0, 0.3));\n",
              "      fill: #FFFFFF;\n",
              "    }\n",
              "  </style>\n",
              "\n",
              "    <script>\n",
              "      const buttonEl =\n",
              "        document.querySelector('#df-91d12724-648e-405a-9119-58792490d9f6 button.colab-df-convert');\n",
              "      buttonEl.style.display =\n",
              "        google.colab.kernel.accessAllowed ? 'block' : 'none';\n",
              "\n",
              "      async function convertToInteractive(key) {\n",
              "        const element = document.querySelector('#df-91d12724-648e-405a-9119-58792490d9f6');\n",
              "        const dataTable =\n",
              "          await google.colab.kernel.invokeFunction('convertToInteractive',\n",
              "                                                    [key], {});\n",
              "        if (!dataTable) return;\n",
              "\n",
              "        const docLinkHtml = 'Like what you see? Visit the ' +\n",
              "          '<a target=\"_blank\" href=https://colab.research.google.com/notebooks/data_table.ipynb>data table notebook</a>'\n",
              "          + ' to learn more about interactive tables.';\n",
              "        element.innerHTML = '';\n",
              "        dataTable['output_type'] = 'display_data';\n",
              "        await google.colab.output.renderOutput(dataTable, element);\n",
              "        const docLink = document.createElement('div');\n",
              "        docLink.innerHTML = docLinkHtml;\n",
              "        element.appendChild(docLink);\n",
              "      }\n",
              "    </script>\n",
              "  </div>\n",
              "\n",
              "\n",
              "<div id=\"df-889098fa-bfa5-4f6e-8cec-eea994c2437c\">\n",
              "  <button class=\"colab-df-quickchart\" onclick=\"quickchart('df-889098fa-bfa5-4f6e-8cec-eea994c2437c')\"\n",
              "            title=\"Suggest charts\"\n",
              "            style=\"display:none;\">\n",
              "\n",
              "<svg xmlns=\"http://www.w3.org/2000/svg\" height=\"24px\"viewBox=\"0 0 24 24\"\n",
              "     width=\"24px\">\n",
              "    <g>\n",
              "        <path d=\"M19 3H5c-1.1 0-2 .9-2 2v14c0 1.1.9 2 2 2h14c1.1 0 2-.9 2-2V5c0-1.1-.9-2-2-2zM9 17H7v-7h2v7zm4 0h-2V7h2v10zm4 0h-2v-4h2v4z\"/>\n",
              "    </g>\n",
              "</svg>\n",
              "  </button>\n",
              "\n",
              "<style>\n",
              "  .colab-df-quickchart {\n",
              "      --bg-color: #E8F0FE;\n",
              "      --fill-color: #1967D2;\n",
              "      --hover-bg-color: #E2EBFA;\n",
              "      --hover-fill-color: #174EA6;\n",
              "      --disabled-fill-color: #AAA;\n",
              "      --disabled-bg-color: #DDD;\n",
              "  }\n",
              "\n",
              "  [theme=dark] .colab-df-quickchart {\n",
              "      --bg-color: #3B4455;\n",
              "      --fill-color: #D2E3FC;\n",
              "      --hover-bg-color: #434B5C;\n",
              "      --hover-fill-color: #FFFFFF;\n",
              "      --disabled-bg-color: #3B4455;\n",
              "      --disabled-fill-color: #666;\n",
              "  }\n",
              "\n",
              "  .colab-df-quickchart {\n",
              "    background-color: var(--bg-color);\n",
              "    border: none;\n",
              "    border-radius: 50%;\n",
              "    cursor: pointer;\n",
              "    display: none;\n",
              "    fill: var(--fill-color);\n",
              "    height: 32px;\n",
              "    padding: 0;\n",
              "    width: 32px;\n",
              "  }\n",
              "\n",
              "  .colab-df-quickchart:hover {\n",
              "    background-color: var(--hover-bg-color);\n",
              "    box-shadow: 0 1px 2px rgba(60, 64, 67, 0.3), 0 1px 3px 1px rgba(60, 64, 67, 0.15);\n",
              "    fill: var(--button-hover-fill-color);\n",
              "  }\n",
              "\n",
              "  .colab-df-quickchart-complete:disabled,\n",
              "  .colab-df-quickchart-complete:disabled:hover {\n",
              "    background-color: var(--disabled-bg-color);\n",
              "    fill: var(--disabled-fill-color);\n",
              "    box-shadow: none;\n",
              "  }\n",
              "\n",
              "  .colab-df-spinner {\n",
              "    border: 2px solid var(--fill-color);\n",
              "    border-color: transparent;\n",
              "    border-bottom-color: var(--fill-color);\n",
              "    animation:\n",
              "      spin 1s steps(1) infinite;\n",
              "  }\n",
              "\n",
              "  @keyframes spin {\n",
              "    0% {\n",
              "      border-color: transparent;\n",
              "      border-bottom-color: var(--fill-color);\n",
              "      border-left-color: var(--fill-color);\n",
              "    }\n",
              "    20% {\n",
              "      border-color: transparent;\n",
              "      border-left-color: var(--fill-color);\n",
              "      border-top-color: var(--fill-color);\n",
              "    }\n",
              "    30% {\n",
              "      border-color: transparent;\n",
              "      border-left-color: var(--fill-color);\n",
              "      border-top-color: var(--fill-color);\n",
              "      border-right-color: var(--fill-color);\n",
              "    }\n",
              "    40% {\n",
              "      border-color: transparent;\n",
              "      border-right-color: var(--fill-color);\n",
              "      border-top-color: var(--fill-color);\n",
              "    }\n",
              "    60% {\n",
              "      border-color: transparent;\n",
              "      border-right-color: var(--fill-color);\n",
              "    }\n",
              "    80% {\n",
              "      border-color: transparent;\n",
              "      border-right-color: var(--fill-color);\n",
              "      border-bottom-color: var(--fill-color);\n",
              "    }\n",
              "    90% {\n",
              "      border-color: transparent;\n",
              "      border-bottom-color: var(--fill-color);\n",
              "    }\n",
              "  }\n",
              "</style>\n",
              "\n",
              "  <script>\n",
              "    async function quickchart(key) {\n",
              "      const quickchartButtonEl =\n",
              "        document.querySelector('#' + key + ' button');\n",
              "      quickchartButtonEl.disabled = true;  // To prevent multiple clicks.\n",
              "      quickchartButtonEl.classList.add('colab-df-spinner');\n",
              "      try {\n",
              "        const charts = await google.colab.kernel.invokeFunction(\n",
              "            'suggestCharts', [key], {});\n",
              "      } catch (error) {\n",
              "        console.error('Error during call to suggestCharts:', error);\n",
              "      }\n",
              "      quickchartButtonEl.classList.remove('colab-df-spinner');\n",
              "      quickchartButtonEl.classList.add('colab-df-quickchart-complete');\n",
              "    }\n",
              "    (() => {\n",
              "      let quickchartButtonEl =\n",
              "        document.querySelector('#df-889098fa-bfa5-4f6e-8cec-eea994c2437c button');\n",
              "      quickchartButtonEl.style.display =\n",
              "        google.colab.kernel.accessAllowed ? 'block' : 'none';\n",
              "    })();\n",
              "  </script>\n",
              "</div>\n",
              "\n",
              "    </div>\n",
              "  </div>\n"
            ],
            "application/vnd.google.colaboratory.intrinsic+json": {
              "type": "dataframe",
              "variable_name": "data"
            }
          },
          "metadata": {},
          "execution_count": 9
        }
      ]
    },
    {
      "cell_type": "markdown",
      "source": [
        "The 'customerID' column is dropped because it does not contain predictive information and could lead to overfitting due to its uniqueness.\n",
        "Removing it helps reduce model complexity and improves generalization."
      ],
      "metadata": {
        "id": "6ukboD0lnxRS"
      }
    },
    {
      "cell_type": "code",
      "source": [
        "data.drop('customerID', axis = 1, inplace = True)"
      ],
      "metadata": {
        "id": "KbkrlhDgcOV0",
        "execution": {
          "iopub.status.busy": "2024-03-19T16:10:55.927584Z",
          "iopub.execute_input": "2024-03-19T16:10:55.92791Z",
          "iopub.status.idle": "2024-03-19T16:10:55.934799Z",
          "shell.execute_reply.started": "2024-03-19T16:10:55.927882Z",
          "shell.execute_reply": "2024-03-19T16:10:55.93318Z"
        },
        "trusted": true
      },
      "execution_count": 10,
      "outputs": []
    },
    {
      "cell_type": "code",
      "source": [
        "data.isnull().sum()"
      ],
      "metadata": {
        "id": "5eFNEJBYgEAl",
        "execution": {
          "iopub.status.busy": "2024-03-19T16:10:55.936442Z",
          "iopub.execute_input": "2024-03-19T16:10:55.936773Z",
          "iopub.status.idle": "2024-03-19T16:10:55.96888Z",
          "shell.execute_reply.started": "2024-03-19T16:10:55.936746Z",
          "shell.execute_reply": "2024-03-19T16:10:55.966889Z"
        },
        "trusted": true,
        "colab": {
          "base_uri": "https://localhost:8080/"
        },
        "outputId": "cf503fa3-f95f-45cd-fb9b-37c00a6aeb43"
      },
      "execution_count": 11,
      "outputs": [
        {
          "output_type": "execute_result",
          "data": {
            "text/plain": [
              "gender              0\n",
              "SeniorCitizen       0\n",
              "Partner             0\n",
              "Dependents          0\n",
              "tenure              0\n",
              "PhoneService        0\n",
              "MultipleLines       0\n",
              "InternetService     0\n",
              "OnlineSecurity      0\n",
              "OnlineBackup        0\n",
              "DeviceProtection    0\n",
              "TechSupport         0\n",
              "StreamingTV         0\n",
              "StreamingMovies     0\n",
              "Contract            0\n",
              "PaperlessBilling    0\n",
              "PaymentMethod       0\n",
              "MonthlyCharges      0\n",
              "TotalCharges        0\n",
              "Churn               0\n",
              "dtype: int64"
            ]
          },
          "metadata": {},
          "execution_count": 11
        }
      ]
    },
    {
      "cell_type": "markdown",
      "source": [
        "The dataset has been thoroughly examined, and there are no null (missing) values in any of the columns. This indicates that the data is complete and ready for further analysis without the need for additional imputation or cleaning related to missing data."
      ],
      "metadata": {
        "id": "N-LfRg5UpHx4"
      }
    },
    {
      "cell_type": "code",
      "source": [
        "data.shape"
      ],
      "metadata": {
        "id": "gyT_t96JgN1d",
        "execution": {
          "iopub.status.busy": "2024-03-19T16:10:55.970222Z",
          "iopub.execute_input": "2024-03-19T16:10:55.971342Z",
          "iopub.status.idle": "2024-03-19T16:10:55.978978Z",
          "shell.execute_reply.started": "2024-03-19T16:10:55.971293Z",
          "shell.execute_reply": "2024-03-19T16:10:55.977664Z"
        },
        "trusted": true,
        "colab": {
          "base_uri": "https://localhost:8080/"
        },
        "outputId": "d6f894ee-5ed6-4334-82af-394dee9deb8e"
      },
      "execution_count": 12,
      "outputs": [
        {
          "output_type": "execute_result",
          "data": {
            "text/plain": [
              "(7043, 20)"
            ]
          },
          "metadata": {},
          "execution_count": 12
        }
      ]
    },
    {
      "cell_type": "code",
      "source": [
        "data.info()"
      ],
      "metadata": {
        "id": "D6KYmeCrg6AL",
        "execution": {
          "iopub.status.busy": "2024-03-19T16:10:55.980215Z",
          "iopub.execute_input": "2024-03-19T16:10:55.980544Z",
          "iopub.status.idle": "2024-03-19T16:10:56.024817Z",
          "shell.execute_reply.started": "2024-03-19T16:10:55.980516Z",
          "shell.execute_reply": "2024-03-19T16:10:56.023773Z"
        },
        "trusted": true,
        "colab": {
          "base_uri": "https://localhost:8080/"
        },
        "outputId": "5d9196e8-c19c-4af7-c813-ec0a97084cce"
      },
      "execution_count": 13,
      "outputs": [
        {
          "output_type": "stream",
          "name": "stdout",
          "text": [
            "<class 'pandas.core.frame.DataFrame'>\n",
            "RangeIndex: 7043 entries, 0 to 7042\n",
            "Data columns (total 20 columns):\n",
            " #   Column            Non-Null Count  Dtype  \n",
            "---  ------            --------------  -----  \n",
            " 0   gender            7043 non-null   object \n",
            " 1   SeniorCitizen     7043 non-null   int64  \n",
            " 2   Partner           7043 non-null   object \n",
            " 3   Dependents        7043 non-null   object \n",
            " 4   tenure            7043 non-null   int64  \n",
            " 5   PhoneService      7043 non-null   object \n",
            " 6   MultipleLines     7043 non-null   object \n",
            " 7   InternetService   7043 non-null   object \n",
            " 8   OnlineSecurity    7043 non-null   object \n",
            " 9   OnlineBackup      7043 non-null   object \n",
            " 10  DeviceProtection  7043 non-null   object \n",
            " 11  TechSupport       7043 non-null   object \n",
            " 12  StreamingTV       7043 non-null   object \n",
            " 13  StreamingMovies   7043 non-null   object \n",
            " 14  Contract          7043 non-null   object \n",
            " 15  PaperlessBilling  7043 non-null   object \n",
            " 16  PaymentMethod     7043 non-null   object \n",
            " 17  MonthlyCharges    7043 non-null   float64\n",
            " 18  TotalCharges      7043 non-null   object \n",
            " 19  Churn             7043 non-null   object \n",
            "dtypes: float64(1), int64(2), object(17)\n",
            "memory usage: 1.1+ MB\n"
          ]
        }
      ]
    },
    {
      "cell_type": "markdown",
      "source": [
        "The 'TotalCharges' column contains values that represent numbers, but the data type is not recognized as a numerical type. Therefore, it's necessary to convert this column to a numerical data type for proper analysis and computation."
      ],
      "metadata": {
        "id": "I0gcf-1_Q9Ip"
      }
    },
    {
      "cell_type": "code",
      "source": [
        "data['TotalCharges'] = data['TotalCharges'].apply(lambda x: pd.to_numeric(x, errors='coerce'))"
      ],
      "metadata": {
        "id": "LgF5d4TJRNIs",
        "execution": {
          "iopub.status.busy": "2024-03-19T16:10:56.026029Z",
          "iopub.execute_input": "2024-03-19T16:10:56.02632Z",
          "iopub.status.idle": "2024-03-19T16:10:56.183163Z",
          "shell.execute_reply.started": "2024-03-19T16:10:56.026295Z",
          "shell.execute_reply": "2024-03-19T16:10:56.181995Z"
        },
        "trusted": true
      },
      "execution_count": 14,
      "outputs": []
    },
    {
      "cell_type": "code",
      "source": [
        "data.info()"
      ],
      "metadata": {
        "id": "69r0VkZzUOcQ",
        "execution": {
          "iopub.status.busy": "2024-03-19T16:10:56.184901Z",
          "iopub.execute_input": "2024-03-19T16:10:56.185338Z",
          "iopub.status.idle": "2024-03-19T16:10:56.213187Z",
          "shell.execute_reply.started": "2024-03-19T16:10:56.185299Z",
          "shell.execute_reply": "2024-03-19T16:10:56.212073Z"
        },
        "trusted": true,
        "colab": {
          "base_uri": "https://localhost:8080/"
        },
        "outputId": "b175d81b-adc1-4387-8594-e7d1294916fb"
      },
      "execution_count": 15,
      "outputs": [
        {
          "output_type": "stream",
          "name": "stdout",
          "text": [
            "<class 'pandas.core.frame.DataFrame'>\n",
            "RangeIndex: 7043 entries, 0 to 7042\n",
            "Data columns (total 20 columns):\n",
            " #   Column            Non-Null Count  Dtype  \n",
            "---  ------            --------------  -----  \n",
            " 0   gender            7043 non-null   object \n",
            " 1   SeniorCitizen     7043 non-null   int64  \n",
            " 2   Partner           7043 non-null   object \n",
            " 3   Dependents        7043 non-null   object \n",
            " 4   tenure            7043 non-null   int64  \n",
            " 5   PhoneService      7043 non-null   object \n",
            " 6   MultipleLines     7043 non-null   object \n",
            " 7   InternetService   7043 non-null   object \n",
            " 8   OnlineSecurity    7043 non-null   object \n",
            " 9   OnlineBackup      7043 non-null   object \n",
            " 10  DeviceProtection  7043 non-null   object \n",
            " 11  TechSupport       7043 non-null   object \n",
            " 12  StreamingTV       7043 non-null   object \n",
            " 13  StreamingMovies   7043 non-null   object \n",
            " 14  Contract          7043 non-null   object \n",
            " 15  PaperlessBilling  7043 non-null   object \n",
            " 16  PaymentMethod     7043 non-null   object \n",
            " 17  MonthlyCharges    7043 non-null   float64\n",
            " 18  TotalCharges      7032 non-null   float64\n",
            " 19  Churn             7043 non-null   object \n",
            "dtypes: float64(2), int64(2), object(16)\n",
            "memory usage: 1.1+ MB\n"
          ]
        }
      ]
    },
    {
      "cell_type": "markdown",
      "source": [
        "Next lets check if there are any null values in TotalCharges now."
      ],
      "metadata": {
        "id": "rnys8VYZUang"
      }
    },
    {
      "cell_type": "code",
      "source": [
        "data['TotalCharges'].isnull().sum()"
      ],
      "metadata": {
        "id": "BixGXI0LUfmO",
        "execution": {
          "iopub.status.busy": "2024-03-19T16:10:56.217359Z",
          "iopub.execute_input": "2024-03-19T16:10:56.217707Z",
          "iopub.status.idle": "2024-03-19T16:10:56.225928Z",
          "shell.execute_reply.started": "2024-03-19T16:10:56.21768Z",
          "shell.execute_reply": "2024-03-19T16:10:56.224801Z"
        },
        "trusted": true,
        "colab": {
          "base_uri": "https://localhost:8080/"
        },
        "outputId": "adcdcfe1-0b4e-4dfe-8f32-525492ddb00a"
      },
      "execution_count": 16,
      "outputs": [
        {
          "output_type": "execute_result",
          "data": {
            "text/plain": [
              "11"
            ]
          },
          "metadata": {},
          "execution_count": 16
        }
      ]
    },
    {
      "cell_type": "markdown",
      "source": [
        "It's essential to eliminate the 11 missing values from the dataset before proceeding with analysis or modeling."
      ],
      "metadata": {
        "id": "ly7uuCunUnZZ"
      }
    },
    {
      "cell_type": "code",
      "source": [
        "data = data.dropna().reset_index(drop=True)"
      ],
      "metadata": {
        "id": "TGJDTys3Umsf",
        "execution": {
          "iopub.status.busy": "2024-03-19T16:10:56.227036Z",
          "iopub.execute_input": "2024-03-19T16:10:56.227378Z",
          "iopub.status.idle": "2024-03-19T16:10:56.259443Z",
          "shell.execute_reply.started": "2024-03-19T16:10:56.227349Z",
          "shell.execute_reply": "2024-03-19T16:10:56.258548Z"
        },
        "trusted": true
      },
      "execution_count": 17,
      "outputs": []
    },
    {
      "cell_type": "code",
      "source": [
        "for column in data.columns:\n",
        "    print(column + \":\")\n",
        "    print(data[column].unique())"
      ],
      "metadata": {
        "id": "OHiZbBYdVvo7",
        "execution": {
          "iopub.status.busy": "2024-03-19T16:10:56.260748Z",
          "iopub.execute_input": "2024-03-19T16:10:56.26128Z",
          "iopub.status.idle": "2024-03-19T16:10:56.287026Z",
          "shell.execute_reply.started": "2024-03-19T16:10:56.26125Z",
          "shell.execute_reply": "2024-03-19T16:10:56.285847Z"
        },
        "trusted": true,
        "colab": {
          "base_uri": "https://localhost:8080/"
        },
        "outputId": "9386eada-fc07-4f85-9a6d-1c197cb3eeae"
      },
      "execution_count": 18,
      "outputs": [
        {
          "output_type": "stream",
          "name": "stdout",
          "text": [
            "gender:\n",
            "['Female' 'Male']\n",
            "SeniorCitizen:\n",
            "[0 1]\n",
            "Partner:\n",
            "['Yes' 'No']\n",
            "Dependents:\n",
            "['No' 'Yes']\n",
            "tenure:\n",
            "[ 1 34  2 45  8 22 10 28 62 13 16 58 49 25 69 52 71 21 12 30 47 72 17 27\n",
            "  5 46 11 70 63 43 15 60 18 66  9  3 31 50 64 56  7 42 35 48 29 65 38 68\n",
            " 32 55 37 36 41  6  4 33 67 23 57 61 14 20 53 40 59 24 44 19 54 51 26 39]\n",
            "PhoneService:\n",
            "['No' 'Yes']\n",
            "MultipleLines:\n",
            "['No phone service' 'No' 'Yes']\n",
            "InternetService:\n",
            "['DSL' 'Fiber optic' 'No']\n",
            "OnlineSecurity:\n",
            "['No' 'Yes' 'No internet service']\n",
            "OnlineBackup:\n",
            "['Yes' 'No' 'No internet service']\n",
            "DeviceProtection:\n",
            "['No' 'Yes' 'No internet service']\n",
            "TechSupport:\n",
            "['No' 'Yes' 'No internet service']\n",
            "StreamingTV:\n",
            "['No' 'Yes' 'No internet service']\n",
            "StreamingMovies:\n",
            "['No' 'Yes' 'No internet service']\n",
            "Contract:\n",
            "['Month-to-month' 'One year' 'Two year']\n",
            "PaperlessBilling:\n",
            "['Yes' 'No']\n",
            "PaymentMethod:\n",
            "['Electronic check' 'Mailed check' 'Bank transfer (automatic)'\n",
            " 'Credit card (automatic)']\n",
            "MonthlyCharges:\n",
            "[29.85 56.95 53.85 ... 63.1  44.2  78.7 ]\n",
            "TotalCharges:\n",
            "[  29.85 1889.5   108.15 ...  346.45  306.6  6844.5 ]\n",
            "Churn:\n",
            "['No' 'Yes']\n"
          ]
        }
      ]
    },
    {
      "cell_type": "markdown",
      "source": [
        "\n",
        "\n",
        "We used the code snippet to inspect the unique values present in each column of the dataset. By iterating through each column and printing its unique values, we gained insights into the diversity and distribution of data within each feature. This process helps us understand the nature of the dataset, identify any potential data quality issues such as misspellings or inconsistencies, and determine appropriate preprocessing steps required for further analysis or modeling. Overall, examining unique values in each column provides valuable context for interpreting the dataset and informs subsequent data processing decisions."
      ],
      "metadata": {
        "id": "WaIatmj8sDav"
      }
    },
    {
      "cell_type": "code",
      "source": [
        "############\n"
      ],
      "metadata": {
        "id": "hPGrRPYVs-xa"
      },
      "execution_count": 19,
      "outputs": []
    },
    {
      "cell_type": "markdown",
      "source": [
        "# Data Manipulation"
      ],
      "metadata": {
        "id": "iD3KBuoKDxMY"
      }
    },
    {
      "cell_type": "markdown",
      "source": [
        "The dataset contains several categorical columns with various values. For instance, the Gender column includes 'Female' or 'Male', and the Partner column has 'Yes' or 'No'. Additionally, the Senior Citizen column is represented by '1' or '0'. Standardizing these columns is crucial for inputting them into a model."
      ],
      "metadata": {
        "id": "1jduCpUs402E"
      }
    },
    {
      "cell_type": "code",
      "source": [
        "#List of columns with Yes or No values\n",
        "yes_no_columns = ['Partner','Dependents','PhoneService','PaperlessBilling','Churn']\n",
        "yes_no_dummy_data = data.loc[:,yes_no_columns]\n",
        "yes_no_dummy_data.replace(['Yes','No'], [1,0], inplace=True)\n",
        "yes_no_dummy_data.head()"
      ],
      "metadata": {
        "id": "G3PmGLd7WGTh",
        "execution": {
          "iopub.status.busy": "2024-03-19T16:10:56.288348Z",
          "iopub.execute_input": "2024-03-19T16:10:56.2887Z",
          "iopub.status.idle": "2024-03-19T16:10:56.332257Z",
          "shell.execute_reply.started": "2024-03-19T16:10:56.28867Z",
          "shell.execute_reply": "2024-03-19T16:10:56.330925Z"
        },
        "trusted": true,
        "colab": {
          "base_uri": "https://localhost:8080/",
          "height": 206
        },
        "outputId": "71cb1253-1e40-4991-86e1-a813ba9adad7"
      },
      "execution_count": 20,
      "outputs": [
        {
          "output_type": "execute_result",
          "data": {
            "text/plain": [
              "   Partner  Dependents  PhoneService  PaperlessBilling  Churn\n",
              "0        1           0             0                 1      0\n",
              "1        0           0             1                 0      0\n",
              "2        0           0             1                 1      1\n",
              "3        0           0             0                 0      0\n",
              "4        0           0             1                 1      1"
            ],
            "text/html": [
              "\n",
              "  <div id=\"df-fd354af9-c43b-4891-a1cf-b6339af2ba89\" class=\"colab-df-container\">\n",
              "    <div>\n",
              "<style scoped>\n",
              "    .dataframe tbody tr th:only-of-type {\n",
              "        vertical-align: middle;\n",
              "    }\n",
              "\n",
              "    .dataframe tbody tr th {\n",
              "        vertical-align: top;\n",
              "    }\n",
              "\n",
              "    .dataframe thead th {\n",
              "        text-align: right;\n",
              "    }\n",
              "</style>\n",
              "<table border=\"1\" class=\"dataframe\">\n",
              "  <thead>\n",
              "    <tr style=\"text-align: right;\">\n",
              "      <th></th>\n",
              "      <th>Partner</th>\n",
              "      <th>Dependents</th>\n",
              "      <th>PhoneService</th>\n",
              "      <th>PaperlessBilling</th>\n",
              "      <th>Churn</th>\n",
              "    </tr>\n",
              "  </thead>\n",
              "  <tbody>\n",
              "    <tr>\n",
              "      <th>0</th>\n",
              "      <td>1</td>\n",
              "      <td>0</td>\n",
              "      <td>0</td>\n",
              "      <td>1</td>\n",
              "      <td>0</td>\n",
              "    </tr>\n",
              "    <tr>\n",
              "      <th>1</th>\n",
              "      <td>0</td>\n",
              "      <td>0</td>\n",
              "      <td>1</td>\n",
              "      <td>0</td>\n",
              "      <td>0</td>\n",
              "    </tr>\n",
              "    <tr>\n",
              "      <th>2</th>\n",
              "      <td>0</td>\n",
              "      <td>0</td>\n",
              "      <td>1</td>\n",
              "      <td>1</td>\n",
              "      <td>1</td>\n",
              "    </tr>\n",
              "    <tr>\n",
              "      <th>3</th>\n",
              "      <td>0</td>\n",
              "      <td>0</td>\n",
              "      <td>0</td>\n",
              "      <td>0</td>\n",
              "      <td>0</td>\n",
              "    </tr>\n",
              "    <tr>\n",
              "      <th>4</th>\n",
              "      <td>0</td>\n",
              "      <td>0</td>\n",
              "      <td>1</td>\n",
              "      <td>1</td>\n",
              "      <td>1</td>\n",
              "    </tr>\n",
              "  </tbody>\n",
              "</table>\n",
              "</div>\n",
              "    <div class=\"colab-df-buttons\">\n",
              "\n",
              "  <div class=\"colab-df-container\">\n",
              "    <button class=\"colab-df-convert\" onclick=\"convertToInteractive('df-fd354af9-c43b-4891-a1cf-b6339af2ba89')\"\n",
              "            title=\"Convert this dataframe to an interactive table.\"\n",
              "            style=\"display:none;\">\n",
              "\n",
              "  <svg xmlns=\"http://www.w3.org/2000/svg\" height=\"24px\" viewBox=\"0 -960 960 960\">\n",
              "    <path d=\"M120-120v-720h720v720H120Zm60-500h600v-160H180v160Zm220 220h160v-160H400v160Zm0 220h160v-160H400v160ZM180-400h160v-160H180v160Zm440 0h160v-160H620v160ZM180-180h160v-160H180v160Zm440 0h160v-160H620v160Z\"/>\n",
              "  </svg>\n",
              "    </button>\n",
              "\n",
              "  <style>\n",
              "    .colab-df-container {\n",
              "      display:flex;\n",
              "      gap: 12px;\n",
              "    }\n",
              "\n",
              "    .colab-df-convert {\n",
              "      background-color: #E8F0FE;\n",
              "      border: none;\n",
              "      border-radius: 50%;\n",
              "      cursor: pointer;\n",
              "      display: none;\n",
              "      fill: #1967D2;\n",
              "      height: 32px;\n",
              "      padding: 0 0 0 0;\n",
              "      width: 32px;\n",
              "    }\n",
              "\n",
              "    .colab-df-convert:hover {\n",
              "      background-color: #E2EBFA;\n",
              "      box-shadow: 0px 1px 2px rgba(60, 64, 67, 0.3), 0px 1px 3px 1px rgba(60, 64, 67, 0.15);\n",
              "      fill: #174EA6;\n",
              "    }\n",
              "\n",
              "    .colab-df-buttons div {\n",
              "      margin-bottom: 4px;\n",
              "    }\n",
              "\n",
              "    [theme=dark] .colab-df-convert {\n",
              "      background-color: #3B4455;\n",
              "      fill: #D2E3FC;\n",
              "    }\n",
              "\n",
              "    [theme=dark] .colab-df-convert:hover {\n",
              "      background-color: #434B5C;\n",
              "      box-shadow: 0px 1px 3px 1px rgba(0, 0, 0, 0.15);\n",
              "      filter: drop-shadow(0px 1px 2px rgba(0, 0, 0, 0.3));\n",
              "      fill: #FFFFFF;\n",
              "    }\n",
              "  </style>\n",
              "\n",
              "    <script>\n",
              "      const buttonEl =\n",
              "        document.querySelector('#df-fd354af9-c43b-4891-a1cf-b6339af2ba89 button.colab-df-convert');\n",
              "      buttonEl.style.display =\n",
              "        google.colab.kernel.accessAllowed ? 'block' : 'none';\n",
              "\n",
              "      async function convertToInteractive(key) {\n",
              "        const element = document.querySelector('#df-fd354af9-c43b-4891-a1cf-b6339af2ba89');\n",
              "        const dataTable =\n",
              "          await google.colab.kernel.invokeFunction('convertToInteractive',\n",
              "                                                    [key], {});\n",
              "        if (!dataTable) return;\n",
              "\n",
              "        const docLinkHtml = 'Like what you see? Visit the ' +\n",
              "          '<a target=\"_blank\" href=https://colab.research.google.com/notebooks/data_table.ipynb>data table notebook</a>'\n",
              "          + ' to learn more about interactive tables.';\n",
              "        element.innerHTML = '';\n",
              "        dataTable['output_type'] = 'display_data';\n",
              "        await google.colab.output.renderOutput(dataTable, element);\n",
              "        const docLink = document.createElement('div');\n",
              "        docLink.innerHTML = docLinkHtml;\n",
              "        element.appendChild(docLink);\n",
              "      }\n",
              "    </script>\n",
              "  </div>\n",
              "\n",
              "\n",
              "<div id=\"df-34dd8842-fc1e-425f-a0ef-f7c51962e012\">\n",
              "  <button class=\"colab-df-quickchart\" onclick=\"quickchart('df-34dd8842-fc1e-425f-a0ef-f7c51962e012')\"\n",
              "            title=\"Suggest charts\"\n",
              "            style=\"display:none;\">\n",
              "\n",
              "<svg xmlns=\"http://www.w3.org/2000/svg\" height=\"24px\"viewBox=\"0 0 24 24\"\n",
              "     width=\"24px\">\n",
              "    <g>\n",
              "        <path d=\"M19 3H5c-1.1 0-2 .9-2 2v14c0 1.1.9 2 2 2h14c1.1 0 2-.9 2-2V5c0-1.1-.9-2-2-2zM9 17H7v-7h2v7zm4 0h-2V7h2v10zm4 0h-2v-4h2v4z\"/>\n",
              "    </g>\n",
              "</svg>\n",
              "  </button>\n",
              "\n",
              "<style>\n",
              "  .colab-df-quickchart {\n",
              "      --bg-color: #E8F0FE;\n",
              "      --fill-color: #1967D2;\n",
              "      --hover-bg-color: #E2EBFA;\n",
              "      --hover-fill-color: #174EA6;\n",
              "      --disabled-fill-color: #AAA;\n",
              "      --disabled-bg-color: #DDD;\n",
              "  }\n",
              "\n",
              "  [theme=dark] .colab-df-quickchart {\n",
              "      --bg-color: #3B4455;\n",
              "      --fill-color: #D2E3FC;\n",
              "      --hover-bg-color: #434B5C;\n",
              "      --hover-fill-color: #FFFFFF;\n",
              "      --disabled-bg-color: #3B4455;\n",
              "      --disabled-fill-color: #666;\n",
              "  }\n",
              "\n",
              "  .colab-df-quickchart {\n",
              "    background-color: var(--bg-color);\n",
              "    border: none;\n",
              "    border-radius: 50%;\n",
              "    cursor: pointer;\n",
              "    display: none;\n",
              "    fill: var(--fill-color);\n",
              "    height: 32px;\n",
              "    padding: 0;\n",
              "    width: 32px;\n",
              "  }\n",
              "\n",
              "  .colab-df-quickchart:hover {\n",
              "    background-color: var(--hover-bg-color);\n",
              "    box-shadow: 0 1px 2px rgba(60, 64, 67, 0.3), 0 1px 3px 1px rgba(60, 64, 67, 0.15);\n",
              "    fill: var(--button-hover-fill-color);\n",
              "  }\n",
              "\n",
              "  .colab-df-quickchart-complete:disabled,\n",
              "  .colab-df-quickchart-complete:disabled:hover {\n",
              "    background-color: var(--disabled-bg-color);\n",
              "    fill: var(--disabled-fill-color);\n",
              "    box-shadow: none;\n",
              "  }\n",
              "\n",
              "  .colab-df-spinner {\n",
              "    border: 2px solid var(--fill-color);\n",
              "    border-color: transparent;\n",
              "    border-bottom-color: var(--fill-color);\n",
              "    animation:\n",
              "      spin 1s steps(1) infinite;\n",
              "  }\n",
              "\n",
              "  @keyframes spin {\n",
              "    0% {\n",
              "      border-color: transparent;\n",
              "      border-bottom-color: var(--fill-color);\n",
              "      border-left-color: var(--fill-color);\n",
              "    }\n",
              "    20% {\n",
              "      border-color: transparent;\n",
              "      border-left-color: var(--fill-color);\n",
              "      border-top-color: var(--fill-color);\n",
              "    }\n",
              "    30% {\n",
              "      border-color: transparent;\n",
              "      border-left-color: var(--fill-color);\n",
              "      border-top-color: var(--fill-color);\n",
              "      border-right-color: var(--fill-color);\n",
              "    }\n",
              "    40% {\n",
              "      border-color: transparent;\n",
              "      border-right-color: var(--fill-color);\n",
              "      border-top-color: var(--fill-color);\n",
              "    }\n",
              "    60% {\n",
              "      border-color: transparent;\n",
              "      border-right-color: var(--fill-color);\n",
              "    }\n",
              "    80% {\n",
              "      border-color: transparent;\n",
              "      border-right-color: var(--fill-color);\n",
              "      border-bottom-color: var(--fill-color);\n",
              "    }\n",
              "    90% {\n",
              "      border-color: transparent;\n",
              "      border-bottom-color: var(--fill-color);\n",
              "    }\n",
              "  }\n",
              "</style>\n",
              "\n",
              "  <script>\n",
              "    async function quickchart(key) {\n",
              "      const quickchartButtonEl =\n",
              "        document.querySelector('#' + key + ' button');\n",
              "      quickchartButtonEl.disabled = true;  // To prevent multiple clicks.\n",
              "      quickchartButtonEl.classList.add('colab-df-spinner');\n",
              "      try {\n",
              "        const charts = await google.colab.kernel.invokeFunction(\n",
              "            'suggestCharts', [key], {});\n",
              "      } catch (error) {\n",
              "        console.error('Error during call to suggestCharts:', error);\n",
              "      }\n",
              "      quickchartButtonEl.classList.remove('colab-df-spinner');\n",
              "      quickchartButtonEl.classList.add('colab-df-quickchart-complete');\n",
              "    }\n",
              "    (() => {\n",
              "      let quickchartButtonEl =\n",
              "        document.querySelector('#df-34dd8842-fc1e-425f-a0ef-f7c51962e012 button');\n",
              "      quickchartButtonEl.style.display =\n",
              "        google.colab.kernel.accessAllowed ? 'block' : 'none';\n",
              "    })();\n",
              "  </script>\n",
              "</div>\n",
              "\n",
              "    </div>\n",
              "  </div>\n"
            ],
            "application/vnd.google.colaboratory.intrinsic+json": {
              "type": "dataframe",
              "variable_name": "yes_no_dummy_data",
              "summary": "{\n  \"name\": \"yes_no_dummy_data\",\n  \"rows\": 7032,\n  \"fields\": [\n    {\n      \"column\": \"Partner\",\n      \"properties\": {\n        \"dtype\": \"number\",\n        \"std\": 0,\n        \"min\": 0,\n        \"max\": 1,\n        \"num_unique_values\": 2,\n        \"samples\": [\n          0,\n          1\n        ],\n        \"semantic_type\": \"\",\n        \"description\": \"\"\n      }\n    },\n    {\n      \"column\": \"Dependents\",\n      \"properties\": {\n        \"dtype\": \"number\",\n        \"std\": 0,\n        \"min\": 0,\n        \"max\": 1,\n        \"num_unique_values\": 2,\n        \"samples\": [\n          1,\n          0\n        ],\n        \"semantic_type\": \"\",\n        \"description\": \"\"\n      }\n    },\n    {\n      \"column\": \"PhoneService\",\n      \"properties\": {\n        \"dtype\": \"number\",\n        \"std\": 0,\n        \"min\": 0,\n        \"max\": 1,\n        \"num_unique_values\": 2,\n        \"samples\": [\n          1,\n          0\n        ],\n        \"semantic_type\": \"\",\n        \"description\": \"\"\n      }\n    },\n    {\n      \"column\": \"PaperlessBilling\",\n      \"properties\": {\n        \"dtype\": \"number\",\n        \"std\": 0,\n        \"min\": 0,\n        \"max\": 1,\n        \"num_unique_values\": 2,\n        \"samples\": [\n          0,\n          1\n        ],\n        \"semantic_type\": \"\",\n        \"description\": \"\"\n      }\n    },\n    {\n      \"column\": \"Churn\",\n      \"properties\": {\n        \"dtype\": \"number\",\n        \"std\": 0,\n        \"min\": 0,\n        \"max\": 1,\n        \"num_unique_values\": 2,\n        \"samples\": [\n          1,\n          0\n        ],\n        \"semantic_type\": \"\",\n        \"description\": \"\"\n      }\n    }\n  ]\n}"
            }
          },
          "metadata": {},
          "execution_count": 20
        }
      ]
    },
    {
      "cell_type": "markdown",
      "source": [
        "Next let's create dummy columns for the remaining features."
      ],
      "metadata": {
        "id": "iGoLXGn5e3ml"
      }
    },
    {
      "cell_type": "code",
      "source": [
        "dummy_data = data.drop(yes_no_columns, axis=1)\n",
        "dummy_data = pd.get_dummies(dummy_data)\n",
        "dummy_data.head()"
      ],
      "metadata": {
        "id": "K0pVLJewL2EF",
        "execution": {
          "iopub.status.busy": "2024-03-19T16:10:56.333841Z",
          "iopub.execute_input": "2024-03-19T16:10:56.334312Z",
          "iopub.status.idle": "2024-03-19T16:10:56.384718Z",
          "shell.execute_reply.started": "2024-03-19T16:10:56.334278Z",
          "shell.execute_reply": "2024-03-19T16:10:56.38344Z"
        },
        "trusted": true,
        "colab": {
          "base_uri": "https://localhost:8080/",
          "height": 290
        },
        "outputId": "56f4cf37-b4ae-4433-d6e3-bf2311cf0c4a"
      },
      "execution_count": 21,
      "outputs": [
        {
          "output_type": "execute_result",
          "data": {
            "text/plain": [
              "   SeniorCitizen  tenure  MonthlyCharges  TotalCharges  gender_Female  \\\n",
              "0              0       1           29.85         29.85           True   \n",
              "1              0      34           56.95       1889.50          False   \n",
              "2              0       2           53.85        108.15          False   \n",
              "3              0      45           42.30       1840.75          False   \n",
              "4              0       2           70.70        151.65           True   \n",
              "\n",
              "   gender_Male  MultipleLines_No  MultipleLines_No phone service  \\\n",
              "0        False             False                            True   \n",
              "1         True              True                           False   \n",
              "2         True              True                           False   \n",
              "3         True             False                            True   \n",
              "4        False              True                           False   \n",
              "\n",
              "   MultipleLines_Yes  InternetService_DSL  ...  StreamingMovies_No  \\\n",
              "0              False                 True  ...                True   \n",
              "1              False                 True  ...                True   \n",
              "2              False                 True  ...                True   \n",
              "3              False                 True  ...                True   \n",
              "4              False                False  ...                True   \n",
              "\n",
              "   StreamingMovies_No internet service  StreamingMovies_Yes  \\\n",
              "0                                False                False   \n",
              "1                                False                False   \n",
              "2                                False                False   \n",
              "3                                False                False   \n",
              "4                                False                False   \n",
              "\n",
              "   Contract_Month-to-month  Contract_One year  Contract_Two year  \\\n",
              "0                     True              False              False   \n",
              "1                    False               True              False   \n",
              "2                     True              False              False   \n",
              "3                    False               True              False   \n",
              "4                     True              False              False   \n",
              "\n",
              "   PaymentMethod_Bank transfer (automatic)  \\\n",
              "0                                    False   \n",
              "1                                    False   \n",
              "2                                    False   \n",
              "3                                     True   \n",
              "4                                    False   \n",
              "\n",
              "   PaymentMethod_Credit card (automatic)  PaymentMethod_Electronic check  \\\n",
              "0                                  False                            True   \n",
              "1                                  False                           False   \n",
              "2                                  False                           False   \n",
              "3                                  False                           False   \n",
              "4                                  False                            True   \n",
              "\n",
              "   PaymentMethod_Mailed check  \n",
              "0                       False  \n",
              "1                        True  \n",
              "2                        True  \n",
              "3                       False  \n",
              "4                       False  \n",
              "\n",
              "[5 rows x 37 columns]"
            ],
            "text/html": [
              "\n",
              "  <div id=\"df-8122d491-61cd-4fed-9529-7b06b28fbce8\" class=\"colab-df-container\">\n",
              "    <div>\n",
              "<style scoped>\n",
              "    .dataframe tbody tr th:only-of-type {\n",
              "        vertical-align: middle;\n",
              "    }\n",
              "\n",
              "    .dataframe tbody tr th {\n",
              "        vertical-align: top;\n",
              "    }\n",
              "\n",
              "    .dataframe thead th {\n",
              "        text-align: right;\n",
              "    }\n",
              "</style>\n",
              "<table border=\"1\" class=\"dataframe\">\n",
              "  <thead>\n",
              "    <tr style=\"text-align: right;\">\n",
              "      <th></th>\n",
              "      <th>SeniorCitizen</th>\n",
              "      <th>tenure</th>\n",
              "      <th>MonthlyCharges</th>\n",
              "      <th>TotalCharges</th>\n",
              "      <th>gender_Female</th>\n",
              "      <th>gender_Male</th>\n",
              "      <th>MultipleLines_No</th>\n",
              "      <th>MultipleLines_No phone service</th>\n",
              "      <th>MultipleLines_Yes</th>\n",
              "      <th>InternetService_DSL</th>\n",
              "      <th>...</th>\n",
              "      <th>StreamingMovies_No</th>\n",
              "      <th>StreamingMovies_No internet service</th>\n",
              "      <th>StreamingMovies_Yes</th>\n",
              "      <th>Contract_Month-to-month</th>\n",
              "      <th>Contract_One year</th>\n",
              "      <th>Contract_Two year</th>\n",
              "      <th>PaymentMethod_Bank transfer (automatic)</th>\n",
              "      <th>PaymentMethod_Credit card (automatic)</th>\n",
              "      <th>PaymentMethod_Electronic check</th>\n",
              "      <th>PaymentMethod_Mailed check</th>\n",
              "    </tr>\n",
              "  </thead>\n",
              "  <tbody>\n",
              "    <tr>\n",
              "      <th>0</th>\n",
              "      <td>0</td>\n",
              "      <td>1</td>\n",
              "      <td>29.85</td>\n",
              "      <td>29.85</td>\n",
              "      <td>True</td>\n",
              "      <td>False</td>\n",
              "      <td>False</td>\n",
              "      <td>True</td>\n",
              "      <td>False</td>\n",
              "      <td>True</td>\n",
              "      <td>...</td>\n",
              "      <td>True</td>\n",
              "      <td>False</td>\n",
              "      <td>False</td>\n",
              "      <td>True</td>\n",
              "      <td>False</td>\n",
              "      <td>False</td>\n",
              "      <td>False</td>\n",
              "      <td>False</td>\n",
              "      <td>True</td>\n",
              "      <td>False</td>\n",
              "    </tr>\n",
              "    <tr>\n",
              "      <th>1</th>\n",
              "      <td>0</td>\n",
              "      <td>34</td>\n",
              "      <td>56.95</td>\n",
              "      <td>1889.50</td>\n",
              "      <td>False</td>\n",
              "      <td>True</td>\n",
              "      <td>True</td>\n",
              "      <td>False</td>\n",
              "      <td>False</td>\n",
              "      <td>True</td>\n",
              "      <td>...</td>\n",
              "      <td>True</td>\n",
              "      <td>False</td>\n",
              "      <td>False</td>\n",
              "      <td>False</td>\n",
              "      <td>True</td>\n",
              "      <td>False</td>\n",
              "      <td>False</td>\n",
              "      <td>False</td>\n",
              "      <td>False</td>\n",
              "      <td>True</td>\n",
              "    </tr>\n",
              "    <tr>\n",
              "      <th>2</th>\n",
              "      <td>0</td>\n",
              "      <td>2</td>\n",
              "      <td>53.85</td>\n",
              "      <td>108.15</td>\n",
              "      <td>False</td>\n",
              "      <td>True</td>\n",
              "      <td>True</td>\n",
              "      <td>False</td>\n",
              "      <td>False</td>\n",
              "      <td>True</td>\n",
              "      <td>...</td>\n",
              "      <td>True</td>\n",
              "      <td>False</td>\n",
              "      <td>False</td>\n",
              "      <td>True</td>\n",
              "      <td>False</td>\n",
              "      <td>False</td>\n",
              "      <td>False</td>\n",
              "      <td>False</td>\n",
              "      <td>False</td>\n",
              "      <td>True</td>\n",
              "    </tr>\n",
              "    <tr>\n",
              "      <th>3</th>\n",
              "      <td>0</td>\n",
              "      <td>45</td>\n",
              "      <td>42.30</td>\n",
              "      <td>1840.75</td>\n",
              "      <td>False</td>\n",
              "      <td>True</td>\n",
              "      <td>False</td>\n",
              "      <td>True</td>\n",
              "      <td>False</td>\n",
              "      <td>True</td>\n",
              "      <td>...</td>\n",
              "      <td>True</td>\n",
              "      <td>False</td>\n",
              "      <td>False</td>\n",
              "      <td>False</td>\n",
              "      <td>True</td>\n",
              "      <td>False</td>\n",
              "      <td>True</td>\n",
              "      <td>False</td>\n",
              "      <td>False</td>\n",
              "      <td>False</td>\n",
              "    </tr>\n",
              "    <tr>\n",
              "      <th>4</th>\n",
              "      <td>0</td>\n",
              "      <td>2</td>\n",
              "      <td>70.70</td>\n",
              "      <td>151.65</td>\n",
              "      <td>True</td>\n",
              "      <td>False</td>\n",
              "      <td>True</td>\n",
              "      <td>False</td>\n",
              "      <td>False</td>\n",
              "      <td>False</td>\n",
              "      <td>...</td>\n",
              "      <td>True</td>\n",
              "      <td>False</td>\n",
              "      <td>False</td>\n",
              "      <td>True</td>\n",
              "      <td>False</td>\n",
              "      <td>False</td>\n",
              "      <td>False</td>\n",
              "      <td>False</td>\n",
              "      <td>True</td>\n",
              "      <td>False</td>\n",
              "    </tr>\n",
              "  </tbody>\n",
              "</table>\n",
              "<p>5 rows × 37 columns</p>\n",
              "</div>\n",
              "    <div class=\"colab-df-buttons\">\n",
              "\n",
              "  <div class=\"colab-df-container\">\n",
              "    <button class=\"colab-df-convert\" onclick=\"convertToInteractive('df-8122d491-61cd-4fed-9529-7b06b28fbce8')\"\n",
              "            title=\"Convert this dataframe to an interactive table.\"\n",
              "            style=\"display:none;\">\n",
              "\n",
              "  <svg xmlns=\"http://www.w3.org/2000/svg\" height=\"24px\" viewBox=\"0 -960 960 960\">\n",
              "    <path d=\"M120-120v-720h720v720H120Zm60-500h600v-160H180v160Zm220 220h160v-160H400v160Zm0 220h160v-160H400v160ZM180-400h160v-160H180v160Zm440 0h160v-160H620v160ZM180-180h160v-160H180v160Zm440 0h160v-160H620v160Z\"/>\n",
              "  </svg>\n",
              "    </button>\n",
              "\n",
              "  <style>\n",
              "    .colab-df-container {\n",
              "      display:flex;\n",
              "      gap: 12px;\n",
              "    }\n",
              "\n",
              "    .colab-df-convert {\n",
              "      background-color: #E8F0FE;\n",
              "      border: none;\n",
              "      border-radius: 50%;\n",
              "      cursor: pointer;\n",
              "      display: none;\n",
              "      fill: #1967D2;\n",
              "      height: 32px;\n",
              "      padding: 0 0 0 0;\n",
              "      width: 32px;\n",
              "    }\n",
              "\n",
              "    .colab-df-convert:hover {\n",
              "      background-color: #E2EBFA;\n",
              "      box-shadow: 0px 1px 2px rgba(60, 64, 67, 0.3), 0px 1px 3px 1px rgba(60, 64, 67, 0.15);\n",
              "      fill: #174EA6;\n",
              "    }\n",
              "\n",
              "    .colab-df-buttons div {\n",
              "      margin-bottom: 4px;\n",
              "    }\n",
              "\n",
              "    [theme=dark] .colab-df-convert {\n",
              "      background-color: #3B4455;\n",
              "      fill: #D2E3FC;\n",
              "    }\n",
              "\n",
              "    [theme=dark] .colab-df-convert:hover {\n",
              "      background-color: #434B5C;\n",
              "      box-shadow: 0px 1px 3px 1px rgba(0, 0, 0, 0.15);\n",
              "      filter: drop-shadow(0px 1px 2px rgba(0, 0, 0, 0.3));\n",
              "      fill: #FFFFFF;\n",
              "    }\n",
              "  </style>\n",
              "\n",
              "    <script>\n",
              "      const buttonEl =\n",
              "        document.querySelector('#df-8122d491-61cd-4fed-9529-7b06b28fbce8 button.colab-df-convert');\n",
              "      buttonEl.style.display =\n",
              "        google.colab.kernel.accessAllowed ? 'block' : 'none';\n",
              "\n",
              "      async function convertToInteractive(key) {\n",
              "        const element = document.querySelector('#df-8122d491-61cd-4fed-9529-7b06b28fbce8');\n",
              "        const dataTable =\n",
              "          await google.colab.kernel.invokeFunction('convertToInteractive',\n",
              "                                                    [key], {});\n",
              "        if (!dataTable) return;\n",
              "\n",
              "        const docLinkHtml = 'Like what you see? Visit the ' +\n",
              "          '<a target=\"_blank\" href=https://colab.research.google.com/notebooks/data_table.ipynb>data table notebook</a>'\n",
              "          + ' to learn more about interactive tables.';\n",
              "        element.innerHTML = '';\n",
              "        dataTable['output_type'] = 'display_data';\n",
              "        await google.colab.output.renderOutput(dataTable, element);\n",
              "        const docLink = document.createElement('div');\n",
              "        docLink.innerHTML = docLinkHtml;\n",
              "        element.appendChild(docLink);\n",
              "      }\n",
              "    </script>\n",
              "  </div>\n",
              "\n",
              "\n",
              "<div id=\"df-04f740c2-6a6e-42d7-9dc6-44273dc5c7f2\">\n",
              "  <button class=\"colab-df-quickchart\" onclick=\"quickchart('df-04f740c2-6a6e-42d7-9dc6-44273dc5c7f2')\"\n",
              "            title=\"Suggest charts\"\n",
              "            style=\"display:none;\">\n",
              "\n",
              "<svg xmlns=\"http://www.w3.org/2000/svg\" height=\"24px\"viewBox=\"0 0 24 24\"\n",
              "     width=\"24px\">\n",
              "    <g>\n",
              "        <path d=\"M19 3H5c-1.1 0-2 .9-2 2v14c0 1.1.9 2 2 2h14c1.1 0 2-.9 2-2V5c0-1.1-.9-2-2-2zM9 17H7v-7h2v7zm4 0h-2V7h2v10zm4 0h-2v-4h2v4z\"/>\n",
              "    </g>\n",
              "</svg>\n",
              "  </button>\n",
              "\n",
              "<style>\n",
              "  .colab-df-quickchart {\n",
              "      --bg-color: #E8F0FE;\n",
              "      --fill-color: #1967D2;\n",
              "      --hover-bg-color: #E2EBFA;\n",
              "      --hover-fill-color: #174EA6;\n",
              "      --disabled-fill-color: #AAA;\n",
              "      --disabled-bg-color: #DDD;\n",
              "  }\n",
              "\n",
              "  [theme=dark] .colab-df-quickchart {\n",
              "      --bg-color: #3B4455;\n",
              "      --fill-color: #D2E3FC;\n",
              "      --hover-bg-color: #434B5C;\n",
              "      --hover-fill-color: #FFFFFF;\n",
              "      --disabled-bg-color: #3B4455;\n",
              "      --disabled-fill-color: #666;\n",
              "  }\n",
              "\n",
              "  .colab-df-quickchart {\n",
              "    background-color: var(--bg-color);\n",
              "    border: none;\n",
              "    border-radius: 50%;\n",
              "    cursor: pointer;\n",
              "    display: none;\n",
              "    fill: var(--fill-color);\n",
              "    height: 32px;\n",
              "    padding: 0;\n",
              "    width: 32px;\n",
              "  }\n",
              "\n",
              "  .colab-df-quickchart:hover {\n",
              "    background-color: var(--hover-bg-color);\n",
              "    box-shadow: 0 1px 2px rgba(60, 64, 67, 0.3), 0 1px 3px 1px rgba(60, 64, 67, 0.15);\n",
              "    fill: var(--button-hover-fill-color);\n",
              "  }\n",
              "\n",
              "  .colab-df-quickchart-complete:disabled,\n",
              "  .colab-df-quickchart-complete:disabled:hover {\n",
              "    background-color: var(--disabled-bg-color);\n",
              "    fill: var(--disabled-fill-color);\n",
              "    box-shadow: none;\n",
              "  }\n",
              "\n",
              "  .colab-df-spinner {\n",
              "    border: 2px solid var(--fill-color);\n",
              "    border-color: transparent;\n",
              "    border-bottom-color: var(--fill-color);\n",
              "    animation:\n",
              "      spin 1s steps(1) infinite;\n",
              "  }\n",
              "\n",
              "  @keyframes spin {\n",
              "    0% {\n",
              "      border-color: transparent;\n",
              "      border-bottom-color: var(--fill-color);\n",
              "      border-left-color: var(--fill-color);\n",
              "    }\n",
              "    20% {\n",
              "      border-color: transparent;\n",
              "      border-left-color: var(--fill-color);\n",
              "      border-top-color: var(--fill-color);\n",
              "    }\n",
              "    30% {\n",
              "      border-color: transparent;\n",
              "      border-left-color: var(--fill-color);\n",
              "      border-top-color: var(--fill-color);\n",
              "      border-right-color: var(--fill-color);\n",
              "    }\n",
              "    40% {\n",
              "      border-color: transparent;\n",
              "      border-right-color: var(--fill-color);\n",
              "      border-top-color: var(--fill-color);\n",
              "    }\n",
              "    60% {\n",
              "      border-color: transparent;\n",
              "      border-right-color: var(--fill-color);\n",
              "    }\n",
              "    80% {\n",
              "      border-color: transparent;\n",
              "      border-right-color: var(--fill-color);\n",
              "      border-bottom-color: var(--fill-color);\n",
              "    }\n",
              "    90% {\n",
              "      border-color: transparent;\n",
              "      border-bottom-color: var(--fill-color);\n",
              "    }\n",
              "  }\n",
              "</style>\n",
              "\n",
              "  <script>\n",
              "    async function quickchart(key) {\n",
              "      const quickchartButtonEl =\n",
              "        document.querySelector('#' + key + ' button');\n",
              "      quickchartButtonEl.disabled = true;  // To prevent multiple clicks.\n",
              "      quickchartButtonEl.classList.add('colab-df-spinner');\n",
              "      try {\n",
              "        const charts = await google.colab.kernel.invokeFunction(\n",
              "            'suggestCharts', [key], {});\n",
              "      } catch (error) {\n",
              "        console.error('Error during call to suggestCharts:', error);\n",
              "      }\n",
              "      quickchartButtonEl.classList.remove('colab-df-spinner');\n",
              "      quickchartButtonEl.classList.add('colab-df-quickchart-complete');\n",
              "    }\n",
              "    (() => {\n",
              "      let quickchartButtonEl =\n",
              "        document.querySelector('#df-04f740c2-6a6e-42d7-9dc6-44273dc5c7f2 button');\n",
              "      quickchartButtonEl.style.display =\n",
              "        google.colab.kernel.accessAllowed ? 'block' : 'none';\n",
              "    })();\n",
              "  </script>\n",
              "</div>\n",
              "\n",
              "    </div>\n",
              "  </div>\n"
            ],
            "application/vnd.google.colaboratory.intrinsic+json": {
              "type": "dataframe",
              "variable_name": "dummy_data"
            }
          },
          "metadata": {},
          "execution_count": 21
        }
      ]
    },
    {
      "cell_type": "code",
      "source": [
        "data_dummies = pd.concat([dummy_data, yes_no_dummy_data], axis=1)\n",
        "data_dummies.head()"
      ],
      "metadata": {
        "id": "OqHEnRPwq-PN",
        "execution": {
          "iopub.status.busy": "2024-03-19T16:10:56.386279Z",
          "iopub.execute_input": "2024-03-19T16:10:56.387363Z",
          "iopub.status.idle": "2024-03-19T16:10:56.413617Z",
          "shell.execute_reply.started": "2024-03-19T16:10:56.38731Z",
          "shell.execute_reply": "2024-03-19T16:10:56.412772Z"
        },
        "trusted": true,
        "colab": {
          "base_uri": "https://localhost:8080/",
          "height": 290
        },
        "outputId": "78c9a047-c93f-4684-a2b2-cc353ca26684"
      },
      "execution_count": 22,
      "outputs": [
        {
          "output_type": "execute_result",
          "data": {
            "text/plain": [
              "   SeniorCitizen  tenure  MonthlyCharges  TotalCharges  gender_Female  \\\n",
              "0              0       1           29.85         29.85           True   \n",
              "1              0      34           56.95       1889.50          False   \n",
              "2              0       2           53.85        108.15          False   \n",
              "3              0      45           42.30       1840.75          False   \n",
              "4              0       2           70.70        151.65           True   \n",
              "\n",
              "   gender_Male  MultipleLines_No  MultipleLines_No phone service  \\\n",
              "0        False             False                            True   \n",
              "1         True              True                           False   \n",
              "2         True              True                           False   \n",
              "3         True             False                            True   \n",
              "4        False              True                           False   \n",
              "\n",
              "   MultipleLines_Yes  InternetService_DSL  ...  Contract_Two year  \\\n",
              "0              False                 True  ...              False   \n",
              "1              False                 True  ...              False   \n",
              "2              False                 True  ...              False   \n",
              "3              False                 True  ...              False   \n",
              "4              False                False  ...              False   \n",
              "\n",
              "   PaymentMethod_Bank transfer (automatic)  \\\n",
              "0                                    False   \n",
              "1                                    False   \n",
              "2                                    False   \n",
              "3                                     True   \n",
              "4                                    False   \n",
              "\n",
              "   PaymentMethod_Credit card (automatic)  PaymentMethod_Electronic check  \\\n",
              "0                                  False                            True   \n",
              "1                                  False                           False   \n",
              "2                                  False                           False   \n",
              "3                                  False                           False   \n",
              "4                                  False                            True   \n",
              "\n",
              "   PaymentMethod_Mailed check  Partner  Dependents  PhoneService  \\\n",
              "0                       False        1           0             0   \n",
              "1                        True        0           0             1   \n",
              "2                        True        0           0             1   \n",
              "3                       False        0           0             0   \n",
              "4                       False        0           0             1   \n",
              "\n",
              "   PaperlessBilling  Churn  \n",
              "0                 1      0  \n",
              "1                 0      0  \n",
              "2                 1      1  \n",
              "3                 0      0  \n",
              "4                 1      1  \n",
              "\n",
              "[5 rows x 42 columns]"
            ],
            "text/html": [
              "\n",
              "  <div id=\"df-9a0504bb-247e-496a-8380-bc0c75781893\" class=\"colab-df-container\">\n",
              "    <div>\n",
              "<style scoped>\n",
              "    .dataframe tbody tr th:only-of-type {\n",
              "        vertical-align: middle;\n",
              "    }\n",
              "\n",
              "    .dataframe tbody tr th {\n",
              "        vertical-align: top;\n",
              "    }\n",
              "\n",
              "    .dataframe thead th {\n",
              "        text-align: right;\n",
              "    }\n",
              "</style>\n",
              "<table border=\"1\" class=\"dataframe\">\n",
              "  <thead>\n",
              "    <tr style=\"text-align: right;\">\n",
              "      <th></th>\n",
              "      <th>SeniorCitizen</th>\n",
              "      <th>tenure</th>\n",
              "      <th>MonthlyCharges</th>\n",
              "      <th>TotalCharges</th>\n",
              "      <th>gender_Female</th>\n",
              "      <th>gender_Male</th>\n",
              "      <th>MultipleLines_No</th>\n",
              "      <th>MultipleLines_No phone service</th>\n",
              "      <th>MultipleLines_Yes</th>\n",
              "      <th>InternetService_DSL</th>\n",
              "      <th>...</th>\n",
              "      <th>Contract_Two year</th>\n",
              "      <th>PaymentMethod_Bank transfer (automatic)</th>\n",
              "      <th>PaymentMethod_Credit card (automatic)</th>\n",
              "      <th>PaymentMethod_Electronic check</th>\n",
              "      <th>PaymentMethod_Mailed check</th>\n",
              "      <th>Partner</th>\n",
              "      <th>Dependents</th>\n",
              "      <th>PhoneService</th>\n",
              "      <th>PaperlessBilling</th>\n",
              "      <th>Churn</th>\n",
              "    </tr>\n",
              "  </thead>\n",
              "  <tbody>\n",
              "    <tr>\n",
              "      <th>0</th>\n",
              "      <td>0</td>\n",
              "      <td>1</td>\n",
              "      <td>29.85</td>\n",
              "      <td>29.85</td>\n",
              "      <td>True</td>\n",
              "      <td>False</td>\n",
              "      <td>False</td>\n",
              "      <td>True</td>\n",
              "      <td>False</td>\n",
              "      <td>True</td>\n",
              "      <td>...</td>\n",
              "      <td>False</td>\n",
              "      <td>False</td>\n",
              "      <td>False</td>\n",
              "      <td>True</td>\n",
              "      <td>False</td>\n",
              "      <td>1</td>\n",
              "      <td>0</td>\n",
              "      <td>0</td>\n",
              "      <td>1</td>\n",
              "      <td>0</td>\n",
              "    </tr>\n",
              "    <tr>\n",
              "      <th>1</th>\n",
              "      <td>0</td>\n",
              "      <td>34</td>\n",
              "      <td>56.95</td>\n",
              "      <td>1889.50</td>\n",
              "      <td>False</td>\n",
              "      <td>True</td>\n",
              "      <td>True</td>\n",
              "      <td>False</td>\n",
              "      <td>False</td>\n",
              "      <td>True</td>\n",
              "      <td>...</td>\n",
              "      <td>False</td>\n",
              "      <td>False</td>\n",
              "      <td>False</td>\n",
              "      <td>False</td>\n",
              "      <td>True</td>\n",
              "      <td>0</td>\n",
              "      <td>0</td>\n",
              "      <td>1</td>\n",
              "      <td>0</td>\n",
              "      <td>0</td>\n",
              "    </tr>\n",
              "    <tr>\n",
              "      <th>2</th>\n",
              "      <td>0</td>\n",
              "      <td>2</td>\n",
              "      <td>53.85</td>\n",
              "      <td>108.15</td>\n",
              "      <td>False</td>\n",
              "      <td>True</td>\n",
              "      <td>True</td>\n",
              "      <td>False</td>\n",
              "      <td>False</td>\n",
              "      <td>True</td>\n",
              "      <td>...</td>\n",
              "      <td>False</td>\n",
              "      <td>False</td>\n",
              "      <td>False</td>\n",
              "      <td>False</td>\n",
              "      <td>True</td>\n",
              "      <td>0</td>\n",
              "      <td>0</td>\n",
              "      <td>1</td>\n",
              "      <td>1</td>\n",
              "      <td>1</td>\n",
              "    </tr>\n",
              "    <tr>\n",
              "      <th>3</th>\n",
              "      <td>0</td>\n",
              "      <td>45</td>\n",
              "      <td>42.30</td>\n",
              "      <td>1840.75</td>\n",
              "      <td>False</td>\n",
              "      <td>True</td>\n",
              "      <td>False</td>\n",
              "      <td>True</td>\n",
              "      <td>False</td>\n",
              "      <td>True</td>\n",
              "      <td>...</td>\n",
              "      <td>False</td>\n",
              "      <td>True</td>\n",
              "      <td>False</td>\n",
              "      <td>False</td>\n",
              "      <td>False</td>\n",
              "      <td>0</td>\n",
              "      <td>0</td>\n",
              "      <td>0</td>\n",
              "      <td>0</td>\n",
              "      <td>0</td>\n",
              "    </tr>\n",
              "    <tr>\n",
              "      <th>4</th>\n",
              "      <td>0</td>\n",
              "      <td>2</td>\n",
              "      <td>70.70</td>\n",
              "      <td>151.65</td>\n",
              "      <td>True</td>\n",
              "      <td>False</td>\n",
              "      <td>True</td>\n",
              "      <td>False</td>\n",
              "      <td>False</td>\n",
              "      <td>False</td>\n",
              "      <td>...</td>\n",
              "      <td>False</td>\n",
              "      <td>False</td>\n",
              "      <td>False</td>\n",
              "      <td>True</td>\n",
              "      <td>False</td>\n",
              "      <td>0</td>\n",
              "      <td>0</td>\n",
              "      <td>1</td>\n",
              "      <td>1</td>\n",
              "      <td>1</td>\n",
              "    </tr>\n",
              "  </tbody>\n",
              "</table>\n",
              "<p>5 rows × 42 columns</p>\n",
              "</div>\n",
              "    <div class=\"colab-df-buttons\">\n",
              "\n",
              "  <div class=\"colab-df-container\">\n",
              "    <button class=\"colab-df-convert\" onclick=\"convertToInteractive('df-9a0504bb-247e-496a-8380-bc0c75781893')\"\n",
              "            title=\"Convert this dataframe to an interactive table.\"\n",
              "            style=\"display:none;\">\n",
              "\n",
              "  <svg xmlns=\"http://www.w3.org/2000/svg\" height=\"24px\" viewBox=\"0 -960 960 960\">\n",
              "    <path d=\"M120-120v-720h720v720H120Zm60-500h600v-160H180v160Zm220 220h160v-160H400v160Zm0 220h160v-160H400v160ZM180-400h160v-160H180v160Zm440 0h160v-160H620v160ZM180-180h160v-160H180v160Zm440 0h160v-160H620v160Z\"/>\n",
              "  </svg>\n",
              "    </button>\n",
              "\n",
              "  <style>\n",
              "    .colab-df-container {\n",
              "      display:flex;\n",
              "      gap: 12px;\n",
              "    }\n",
              "\n",
              "    .colab-df-convert {\n",
              "      background-color: #E8F0FE;\n",
              "      border: none;\n",
              "      border-radius: 50%;\n",
              "      cursor: pointer;\n",
              "      display: none;\n",
              "      fill: #1967D2;\n",
              "      height: 32px;\n",
              "      padding: 0 0 0 0;\n",
              "      width: 32px;\n",
              "    }\n",
              "\n",
              "    .colab-df-convert:hover {\n",
              "      background-color: #E2EBFA;\n",
              "      box-shadow: 0px 1px 2px rgba(60, 64, 67, 0.3), 0px 1px 3px 1px rgba(60, 64, 67, 0.15);\n",
              "      fill: #174EA6;\n",
              "    }\n",
              "\n",
              "    .colab-df-buttons div {\n",
              "      margin-bottom: 4px;\n",
              "    }\n",
              "\n",
              "    [theme=dark] .colab-df-convert {\n",
              "      background-color: #3B4455;\n",
              "      fill: #D2E3FC;\n",
              "    }\n",
              "\n",
              "    [theme=dark] .colab-df-convert:hover {\n",
              "      background-color: #434B5C;\n",
              "      box-shadow: 0px 1px 3px 1px rgba(0, 0, 0, 0.15);\n",
              "      filter: drop-shadow(0px 1px 2px rgba(0, 0, 0, 0.3));\n",
              "      fill: #FFFFFF;\n",
              "    }\n",
              "  </style>\n",
              "\n",
              "    <script>\n",
              "      const buttonEl =\n",
              "        document.querySelector('#df-9a0504bb-247e-496a-8380-bc0c75781893 button.colab-df-convert');\n",
              "      buttonEl.style.display =\n",
              "        google.colab.kernel.accessAllowed ? 'block' : 'none';\n",
              "\n",
              "      async function convertToInteractive(key) {\n",
              "        const element = document.querySelector('#df-9a0504bb-247e-496a-8380-bc0c75781893');\n",
              "        const dataTable =\n",
              "          await google.colab.kernel.invokeFunction('convertToInteractive',\n",
              "                                                    [key], {});\n",
              "        if (!dataTable) return;\n",
              "\n",
              "        const docLinkHtml = 'Like what you see? Visit the ' +\n",
              "          '<a target=\"_blank\" href=https://colab.research.google.com/notebooks/data_table.ipynb>data table notebook</a>'\n",
              "          + ' to learn more about interactive tables.';\n",
              "        element.innerHTML = '';\n",
              "        dataTable['output_type'] = 'display_data';\n",
              "        await google.colab.output.renderOutput(dataTable, element);\n",
              "        const docLink = document.createElement('div');\n",
              "        docLink.innerHTML = docLinkHtml;\n",
              "        element.appendChild(docLink);\n",
              "      }\n",
              "    </script>\n",
              "  </div>\n",
              "\n",
              "\n",
              "<div id=\"df-f7778c3d-750a-4982-b307-8ce8a60f31a2\">\n",
              "  <button class=\"colab-df-quickchart\" onclick=\"quickchart('df-f7778c3d-750a-4982-b307-8ce8a60f31a2')\"\n",
              "            title=\"Suggest charts\"\n",
              "            style=\"display:none;\">\n",
              "\n",
              "<svg xmlns=\"http://www.w3.org/2000/svg\" height=\"24px\"viewBox=\"0 0 24 24\"\n",
              "     width=\"24px\">\n",
              "    <g>\n",
              "        <path d=\"M19 3H5c-1.1 0-2 .9-2 2v14c0 1.1.9 2 2 2h14c1.1 0 2-.9 2-2V5c0-1.1-.9-2-2-2zM9 17H7v-7h2v7zm4 0h-2V7h2v10zm4 0h-2v-4h2v4z\"/>\n",
              "    </g>\n",
              "</svg>\n",
              "  </button>\n",
              "\n",
              "<style>\n",
              "  .colab-df-quickchart {\n",
              "      --bg-color: #E8F0FE;\n",
              "      --fill-color: #1967D2;\n",
              "      --hover-bg-color: #E2EBFA;\n",
              "      --hover-fill-color: #174EA6;\n",
              "      --disabled-fill-color: #AAA;\n",
              "      --disabled-bg-color: #DDD;\n",
              "  }\n",
              "\n",
              "  [theme=dark] .colab-df-quickchart {\n",
              "      --bg-color: #3B4455;\n",
              "      --fill-color: #D2E3FC;\n",
              "      --hover-bg-color: #434B5C;\n",
              "      --hover-fill-color: #FFFFFF;\n",
              "      --disabled-bg-color: #3B4455;\n",
              "      --disabled-fill-color: #666;\n",
              "  }\n",
              "\n",
              "  .colab-df-quickchart {\n",
              "    background-color: var(--bg-color);\n",
              "    border: none;\n",
              "    border-radius: 50%;\n",
              "    cursor: pointer;\n",
              "    display: none;\n",
              "    fill: var(--fill-color);\n",
              "    height: 32px;\n",
              "    padding: 0;\n",
              "    width: 32px;\n",
              "  }\n",
              "\n",
              "  .colab-df-quickchart:hover {\n",
              "    background-color: var(--hover-bg-color);\n",
              "    box-shadow: 0 1px 2px rgba(60, 64, 67, 0.3), 0 1px 3px 1px rgba(60, 64, 67, 0.15);\n",
              "    fill: var(--button-hover-fill-color);\n",
              "  }\n",
              "\n",
              "  .colab-df-quickchart-complete:disabled,\n",
              "  .colab-df-quickchart-complete:disabled:hover {\n",
              "    background-color: var(--disabled-bg-color);\n",
              "    fill: var(--disabled-fill-color);\n",
              "    box-shadow: none;\n",
              "  }\n",
              "\n",
              "  .colab-df-spinner {\n",
              "    border: 2px solid var(--fill-color);\n",
              "    border-color: transparent;\n",
              "    border-bottom-color: var(--fill-color);\n",
              "    animation:\n",
              "      spin 1s steps(1) infinite;\n",
              "  }\n",
              "\n",
              "  @keyframes spin {\n",
              "    0% {\n",
              "      border-color: transparent;\n",
              "      border-bottom-color: var(--fill-color);\n",
              "      border-left-color: var(--fill-color);\n",
              "    }\n",
              "    20% {\n",
              "      border-color: transparent;\n",
              "      border-left-color: var(--fill-color);\n",
              "      border-top-color: var(--fill-color);\n",
              "    }\n",
              "    30% {\n",
              "      border-color: transparent;\n",
              "      border-left-color: var(--fill-color);\n",
              "      border-top-color: var(--fill-color);\n",
              "      border-right-color: var(--fill-color);\n",
              "    }\n",
              "    40% {\n",
              "      border-color: transparent;\n",
              "      border-right-color: var(--fill-color);\n",
              "      border-top-color: var(--fill-color);\n",
              "    }\n",
              "    60% {\n",
              "      border-color: transparent;\n",
              "      border-right-color: var(--fill-color);\n",
              "    }\n",
              "    80% {\n",
              "      border-color: transparent;\n",
              "      border-right-color: var(--fill-color);\n",
              "      border-bottom-color: var(--fill-color);\n",
              "    }\n",
              "    90% {\n",
              "      border-color: transparent;\n",
              "      border-bottom-color: var(--fill-color);\n",
              "    }\n",
              "  }\n",
              "</style>\n",
              "\n",
              "  <script>\n",
              "    async function quickchart(key) {\n",
              "      const quickchartButtonEl =\n",
              "        document.querySelector('#' + key + ' button');\n",
              "      quickchartButtonEl.disabled = true;  // To prevent multiple clicks.\n",
              "      quickchartButtonEl.classList.add('colab-df-spinner');\n",
              "      try {\n",
              "        const charts = await google.colab.kernel.invokeFunction(\n",
              "            'suggestCharts', [key], {});\n",
              "      } catch (error) {\n",
              "        console.error('Error during call to suggestCharts:', error);\n",
              "      }\n",
              "      quickchartButtonEl.classList.remove('colab-df-spinner');\n",
              "      quickchartButtonEl.classList.add('colab-df-quickchart-complete');\n",
              "    }\n",
              "    (() => {\n",
              "      let quickchartButtonEl =\n",
              "        document.querySelector('#df-f7778c3d-750a-4982-b307-8ce8a60f31a2 button');\n",
              "      quickchartButtonEl.style.display =\n",
              "        google.colab.kernel.accessAllowed ? 'block' : 'none';\n",
              "    })();\n",
              "  </script>\n",
              "</div>\n",
              "\n",
              "    </div>\n",
              "  </div>\n"
            ],
            "application/vnd.google.colaboratory.intrinsic+json": {
              "type": "dataframe",
              "variable_name": "data_dummies"
            }
          },
          "metadata": {},
          "execution_count": 22
        }
      ]
    },
    {
      "cell_type": "code",
      "source": [
        "data_dummies.corr()['Churn'].sort_values(ascending = False)"
      ],
      "metadata": {
        "id": "sCFA52iWVo6M",
        "execution": {
          "iopub.status.busy": "2024-03-19T16:10:56.41487Z",
          "iopub.execute_input": "2024-03-19T16:10:56.415391Z",
          "iopub.status.idle": "2024-03-19T16:10:56.463669Z",
          "shell.execute_reply.started": "2024-03-19T16:10:56.415362Z",
          "shell.execute_reply": "2024-03-19T16:10:56.462135Z"
        },
        "trusted": true,
        "colab": {
          "base_uri": "https://localhost:8080/"
        },
        "outputId": "0928ba14-40d4-46ca-8ac2-b28a752e88e5"
      },
      "execution_count": 23,
      "outputs": [
        {
          "output_type": "execute_result",
          "data": {
            "text/plain": [
              "Churn                                      1.000000\n",
              "Contract_Month-to-month                    0.404565\n",
              "OnlineSecurity_No                          0.342235\n",
              "TechSupport_No                             0.336877\n",
              "InternetService_Fiber optic                0.307463\n",
              "PaymentMethod_Electronic check             0.301455\n",
              "OnlineBackup_No                            0.267595\n",
              "DeviceProtection_No                        0.252056\n",
              "MonthlyCharges                             0.192858\n",
              "PaperlessBilling                           0.191454\n",
              "SeniorCitizen                              0.150541\n",
              "StreamingMovies_No                         0.130920\n",
              "StreamingTV_No                             0.128435\n",
              "StreamingTV_Yes                            0.063254\n",
              "StreamingMovies_Yes                        0.060860\n",
              "MultipleLines_Yes                          0.040033\n",
              "PhoneService                               0.011691\n",
              "gender_Female                              0.008545\n",
              "gender_Male                               -0.008545\n",
              "MultipleLines_No phone service            -0.011691\n",
              "MultipleLines_No                          -0.032654\n",
              "DeviceProtection_Yes                      -0.066193\n",
              "OnlineBackup_Yes                          -0.082307\n",
              "PaymentMethod_Mailed check                -0.090773\n",
              "PaymentMethod_Bank transfer (automatic)   -0.118136\n",
              "InternetService_DSL                       -0.124141\n",
              "PaymentMethod_Credit card (automatic)     -0.134687\n",
              "Partner                                   -0.149982\n",
              "Dependents                                -0.163128\n",
              "TechSupport_Yes                           -0.164716\n",
              "OnlineSecurity_Yes                        -0.171270\n",
              "Contract_One year                         -0.178225\n",
              "TotalCharges                              -0.199484\n",
              "StreamingTV_No internet service           -0.227578\n",
              "OnlineSecurity_No internet service        -0.227578\n",
              "TechSupport_No internet service           -0.227578\n",
              "DeviceProtection_No internet service      -0.227578\n",
              "OnlineBackup_No internet service          -0.227578\n",
              "StreamingMovies_No internet service       -0.227578\n",
              "InternetService_No                        -0.227578\n",
              "Contract_Two year                         -0.301552\n",
              "tenure                                    -0.354049\n",
              "Name: Churn, dtype: float64"
            ]
          },
          "metadata": {},
          "execution_count": 23
        }
      ]
    },
    {
      "cell_type": "markdown",
      "source": [
        "Churn shows a strong positive correlation with several factors, including Month-to-Month contracts, a lack of Online Security services, a lack of Technical Support, Fiber Optic Internet Service, and the use of Electronic Checks for payment. This suggests that customers with these characteristics are more prone to churn.\n",
        "\n",
        "Conversely, churn has a significant negative correlation with other factors such as Tenure, Two-Year Contracts, and a lack of Internet Service. This indicates that customers with longer tenure, those on two-year contracts, or those without Internet service are less likely to churn."
      ],
      "metadata": {
        "id": "Gljsz8Jbcp4u"
      }
    },
    {
      "cell_type": "code",
      "source": [
        "###################"
      ],
      "metadata": {
        "id": "OyMO75IpurJ7"
      },
      "execution_count": 24,
      "outputs": []
    },
    {
      "cell_type": "markdown",
      "source": [
        "# Exploratory Data Analysis\n",
        "Exploratory Data Analysis (EDA) is the initial phase in any data science or machine learning project. During this stage, we delve into the dataset to understand its structure, uncover patterns, and identify relationships among variables. EDA serves as a crucial step to clean and prepare the data for further analysis, ensuring that any anomalies, outliers, or inconsistencies are addressed.\n",
        "\n",
        "In this project, we will conduct EDA to examine the dataset's basic statistics, visualize distributions, and explore correlations among different features. By gaining a deeper understanding of the data, we can make informed decisions about feature engineering, model selection, and other critical processes as we work toward building a robust predictive model."
      ],
      "metadata": {
        "id": "OrX6TGwPDVhY"
      }
    },
    {
      "cell_type": "code",
      "source": [
        "ax = data.groupby(['Churn']).size().plot(kind='bar')\n",
        "label = data['Churn'].value_counts().apply(lambda x: x*100.0/len(data)).round(2).astype('str') + '%'\n",
        "for container in ax.containers:\n",
        "    ax.bar_label(container, labels = label)"
      ],
      "metadata": {
        "id": "Zqxb3vu4rYbA",
        "execution": {
          "iopub.status.busy": "2024-03-19T16:10:56.466866Z",
          "iopub.execute_input": "2024-03-19T16:10:56.467246Z",
          "iopub.status.idle": "2024-03-19T16:10:56.77154Z",
          "shell.execute_reply.started": "2024-03-19T16:10:56.467206Z",
          "shell.execute_reply": "2024-03-19T16:10:56.769952Z"
        },
        "trusted": true,
        "colab": {
          "base_uri": "https://localhost:8080/",
          "height": 458
        },
        "outputId": "b87e484c-ea4b-45e7-9f40-f1779b063ce6"
      },
      "execution_count": 25,
      "outputs": [
        {
          "output_type": "display_data",
          "data": {
            "text/plain": [
              "<Figure size 640x480 with 1 Axes>"
            ],
            "image/png": "[encoded data removed]"
          },
          "metadata": {}
        }
      ]
    },
    {
      "cell_type": "markdown",
      "source": [
        "The dataset shows a higher percentage of customers who did not churn, indicating that the data is skewed."
      ],
      "metadata": {
        "id": "xYiOrVk2D8S-"
      }
    },
    {
      "cell_type": "code",
      "source": [
        "data.groupby(['Churn','Contract']).size().unstack().plot(kind='pie',subplots=True, title='Churn Rate W.R.T. Contract' , autopct='%1.0f%%', figsize=(10, 5), legend = False)"
      ],
      "metadata": {
        "id": "l7wlPJJ9VoyN",
        "execution": {
          "iopub.status.busy": "2024-03-19T16:10:56.772768Z",
          "iopub.execute_input": "2024-03-19T16:10:56.77313Z",
          "iopub.status.idle": "2024-03-19T16:10:57.163061Z",
          "shell.execute_reply.started": "2024-03-19T16:10:56.773101Z",
          "shell.execute_reply": "2024-03-19T16:10:57.161555Z"
        },
        "trusted": true,
        "colab": {
          "base_uri": "https://localhost:8080/",
          "height": 428
        },
        "outputId": "7f4d59be-cfdc-432e-f7ed-933b8744ade1"
      },
      "execution_count": 26,
      "outputs": [
        {
          "output_type": "execute_result",
          "data": {
            "text/plain": [
              "array([<Axes: ylabel='Month-to-month'>, <Axes: ylabel='One year'>,\n",
              "       <Axes: ylabel='Two year'>], dtype=object)"
            ]
          },
          "metadata": {},
          "execution_count": 26
        },
        {
          "output_type": "display_data",
          "data": {
            "text/plain": [
              "<Figure size 1000x500 with 3 Axes>"
            ],
            "image/png": "[encoded data removed]"
          },
          "metadata": {}
        }
      ]
    },
    {
      "cell_type": "markdown",
      "source": [
        "Observations indicate that the majority of customers who churn typically have month-to-month contracts, whereas those with two-year contracts tend to be more loyal."
      ],
      "metadata": {
        "id": "g4Y23yzN1mAO"
      }
    },
    {
      "cell_type": "code",
      "source": [
        "ax = data.groupby(['Churn','PaymentMethod']).size().unstack().plot(kind='bar', title='Churn Rate W.R.T. Payment Method' , stacked = True)\n",
        "for container in ax.containers:\n",
        "  labels = [int(v.get_height()) for v in container]\n",
        "  ax.bar_label(container, labels=labels, label_type='center')"
      ],
      "metadata": {
        "id": "g8MkyeWJ59xp",
        "execution": {
          "iopub.status.busy": "2024-03-19T16:10:57.164799Z",
          "iopub.execute_input": "2024-03-19T16:10:57.165948Z",
          "iopub.status.idle": "2024-03-19T16:10:57.542806Z",
          "shell.execute_reply.started": "2024-03-19T16:10:57.165903Z",
          "shell.execute_reply": "2024-03-19T16:10:57.541546Z"
        },
        "trusted": true,
        "colab": {
          "base_uri": "https://localhost:8080/",
          "height": 480
        },
        "outputId": "12f12f9f-f2be-4e66-802b-30468c80c4ac"
      },
      "execution_count": 27,
      "outputs": [
        {
          "output_type": "display_data",
          "data": {
            "text/plain": [
              "<Figure size 640x480 with 1 Axes>"
            ],
            "image/png": "[encoded data removed]"
          },
          "metadata": {}
        }
      ]
    },
    {
      "cell_type": "markdown",
      "source": [
        "Customers using Electronic Checks as their payment method are significantly more prone to churn compared to those utilizing other payment methods."
      ],
      "metadata": {
        "id": "yGAr8R2eB78s"
      }
    },
    {
      "cell_type": "code",
      "source": [
        "data.groupby(['Churn'])['MonthlyCharges'].plot(kind='density', title='Churn Rate W.R.T. Monthly Charges' , figsize=(10, 5), legend= True)"
      ],
      "metadata": {
        "id": "mODrxduxDyCI",
        "execution": {
          "iopub.status.busy": "2024-03-19T16:10:57.544652Z",
          "iopub.execute_input": "2024-03-19T16:10:57.545353Z",
          "iopub.status.idle": "2024-03-19T16:10:58.201001Z",
          "shell.execute_reply.started": "2024-03-19T16:10:57.545319Z",
          "shell.execute_reply": "2024-03-19T16:10:58.199753Z"
        },
        "trusted": true,
        "colab": {
          "base_uri": "https://localhost:8080/",
          "height": 537
        },
        "outputId": "976bce1a-df68-4939-d98a-dd347b0b11b1"
      },
      "execution_count": 28,
      "outputs": [
        {
          "output_type": "execute_result",
          "data": {
            "text/plain": [
              "Churn\n",
              "No     Axes(0.125,0.11;0.775x0.77)\n",
              "Yes    Axes(0.125,0.11;0.775x0.77)\n",
              "Name: MonthlyCharges, dtype: object"
            ]
          },
          "metadata": {},
          "execution_count": 28
        },
        {
          "output_type": "display_data",
          "data": {
            "text/plain": [
              "<Figure size 1000x500 with 1 Axes>"
            ],
            "image/png": "[encoded data removed]"
          },
          "metadata": {}
        }
      ]
    },
    {
      "cell_type": "markdown",
      "source": [
        "Customers who incur higher monthly charges tend to have a higher likelihood of churning."
      ],
      "metadata": {
        "id": "-xckcyi2NJ48"
      }
    },
    {
      "cell_type": "code",
      "source": [
        "data.groupby(['Churn'])['TotalCharges'].plot(kind='density', title='Churn Rate W.R.T. Total Charges' , figsize=(10, 5), legend= True)"
      ],
      "metadata": {
        "id": "pMx1OPmvNRli",
        "execution": {
          "iopub.status.busy": "2024-03-19T16:10:58.202421Z",
          "iopub.execute_input": "2024-03-19T16:10:58.202827Z",
          "iopub.status.idle": "2024-03-19T16:10:58.794848Z",
          "shell.execute_reply.started": "2024-03-19T16:10:58.202796Z",
          "shell.execute_reply": "2024-03-19T16:10:58.793628Z"
        },
        "trusted": true,
        "colab": {
          "base_uri": "https://localhost:8080/",
          "height": 537
        },
        "outputId": "454b0018-0f39-46a4-e7cb-59d3b3e16bea"
      },
      "execution_count": 29,
      "outputs": [
        {
          "output_type": "execute_result",
          "data": {
            "text/plain": [
              "Churn\n",
              "No     Axes(0.125,0.11;0.775x0.77)\n",
              "Yes    Axes(0.125,0.11;0.775x0.77)\n",
              "Name: TotalCharges, dtype: object"
            ]
          },
          "metadata": {},
          "execution_count": 29
        },
        {
          "output_type": "display_data",
          "data": {
            "text/plain": [
              "<Figure size 1000x500 with 1 Axes>"
            ],
            "image/png": "[encoded data removed]"
          },
          "metadata": {}
        }
      ]
    },
    {
      "cell_type": "markdown",
      "source": [
        "Customers show similar trends when it comes to the Total Charges."
      ],
      "metadata": {
        "id": "JhVH9L-_NbpL"
      }
    },
    {
      "cell_type": "code",
      "source": [
        "data.groupby(['Churn'])['tenure'].plot(kind='hist', title='Churn Rate W.R.T. Tenure' , legend= True, color= {'Yes':'Pink','No':'grey'}, xticks = np.arange(0,80, step=5), bins=15)"
      ],
      "metadata": {
        "id": "4edDXn3YNo57",
        "execution": {
          "iopub.status.busy": "2024-03-19T16:10:58.796345Z",
          "iopub.execute_input": "2024-03-19T16:10:58.79667Z",
          "iopub.status.idle": "2024-03-19T16:10:59.284991Z",
          "shell.execute_reply.started": "2024-03-19T16:10:58.796643Z",
          "shell.execute_reply": "2024-03-19T16:10:59.283564Z"
        },
        "trusted": true,
        "colab": {
          "base_uri": "https://localhost:8080/",
          "height": 521
        },
        "outputId": "10235e92-cf63-4e37-ce50-4caeef3e3746"
      },
      "execution_count": 30,
      "outputs": [
        {
          "output_type": "execute_result",
          "data": {
            "text/plain": [
              "Churn\n",
              "No     Axes(0.125,0.11;0.775x0.77)\n",
              "Yes    Axes(0.125,0.11;0.775x0.77)\n",
              "Name: tenure, dtype: object"
            ]
          },
          "metadata": {},
          "execution_count": 30
        },
        {
          "output_type": "display_data",
          "data": {
            "text/plain": [
              "<Figure size 640x480 with 1 Axes>"
            ],
            "image/png": "[encoded data removed]"
          },
          "metadata": {}
        }
      ]
    },
    {
      "cell_type": "markdown",
      "source": [
        "Customers are more prone to churn during the initial months than later on. The churn rate diminishes after a tenure of six months."
      ],
      "metadata": {
        "id": "ksU8lljTPXp7"
      }
    },
    {
      "cell_type": "code",
      "source": [
        "ax = data.groupby(['Churn','PaperlessBilling']).size().unstack().plot(kind='bar', stacked = True, title='Churn Rate W.R.T. Paperless Billing' , color = {\"Yes\":\"Green\",\"No\":\"Orange\"})\n",
        "for container in ax.containers:\n",
        "  labels = [int(v.get_height()) for v in container]\n",
        "  ax.bar_label(container, labels=labels, label_type='center')"
      ],
      "metadata": {
        "id": "MOkDSo5NrEzr",
        "execution": {
          "iopub.status.busy": "2024-03-19T16:10:59.286551Z",
          "iopub.execute_input": "2024-03-19T16:10:59.286946Z",
          "iopub.status.idle": "2024-03-19T16:10:59.591439Z",
          "shell.execute_reply.started": "2024-03-19T16:10:59.286904Z",
          "shell.execute_reply": "2024-03-19T16:10:59.590208Z"
        },
        "trusted": true,
        "colab": {
          "base_uri": "https://localhost:8080/",
          "height": 480
        },
        "outputId": "e3f9dbd5-6e3b-4662-87a5-bd9d5461826d"
      },
      "execution_count": 31,
      "outputs": [
        {
          "output_type": "display_data",
          "data": {
            "text/plain": [
              "<Figure size 640x480 with 1 Axes>"
            ],
            "image/png": "[encoded data removed]"
          },
          "metadata": {}
        }
      ]
    },
    {
      "cell_type": "markdown",
      "source": [
        "Customers who choose paperless billing may be more inclined to churn."
      ],
      "metadata": {
        "id": "3yKVhrn48l-S"
      }
    },
    {
      "cell_type": "markdown",
      "source": [
        "## Churn relation with Demographic features.\n",
        "Here, by examining demographic characteristics such as gender, age range, marital status, and whether customers have dependents, we aim to identify trends and patterns. This analysis allows us to explore how these features might influence customer behavior and potentially impact churn rates. Understanding these trends is crucial for building a comprehensive model and developing targeted strategies to reduce churn"
      ],
      "metadata": {
        "id": "Q8EJGhSSEMt9"
      }
    },
    {
      "cell_type": "code",
      "source": [
        "data.groupby(['Churn','gender']).size().unstack().plot(kind='pie',subplots=True, title='Churn Rate W.R.T. Gender' , autopct='%1.0f%%', legend = False, colors =['blue','red'])"
      ],
      "metadata": {
        "id": "UWJW6sccPx7p",
        "execution": {
          "iopub.status.busy": "2024-03-19T16:10:59.593082Z",
          "iopub.execute_input": "2024-03-19T16:10:59.593554Z",
          "iopub.status.idle": "2024-03-19T16:10:59.80235Z",
          "shell.execute_reply.started": "2024-03-19T16:10:59.593511Z",
          "shell.execute_reply": "2024-03-19T16:10:59.801454Z"
        },
        "trusted": true,
        "colab": {
          "base_uri": "https://localhost:8080/",
          "height": 399
        },
        "outputId": "519fca7c-56a9-43de-e070-70d073a7a9db"
      },
      "execution_count": 32,
      "outputs": [
        {
          "output_type": "execute_result",
          "data": {
            "text/plain": [
              "array([<Axes: ylabel='Female'>, <Axes: ylabel='Male'>], dtype=object)"
            ]
          },
          "metadata": {},
          "execution_count": 32
        },
        {
          "output_type": "display_data",
          "data": {
            "text/plain": [
              "<Figure size 640x480 with 2 Axes>"
            ],
            "image/png": "[encoded data removed]"
          },
          "metadata": {}
        }
      ]
    },
    {
      "cell_type": "markdown",
      "source": [
        "The churn rate for both male and female customers shows a very close trend."
      ],
      "metadata": {
        "id": "gxgjmZZxX-2N"
      }
    },
    {
      "cell_type": "code",
      "source": [
        "data['SeniorCitizen'].replace([1,0],['Yes','No'], inplace=True)"
      ],
      "metadata": {
        "id": "Ux-3Mh5YYL0u",
        "execution": {
          "iopub.status.busy": "2024-03-19T16:10:59.803468Z",
          "iopub.execute_input": "2024-03-19T16:10:59.80408Z",
          "iopub.status.idle": "2024-03-19T16:10:59.817157Z",
          "shell.execute_reply.started": "2024-03-19T16:10:59.80405Z",
          "shell.execute_reply": "2024-03-19T16:10:59.814743Z"
        },
        "trusted": true
      },
      "execution_count": 33,
      "outputs": []
    },
    {
      "cell_type": "code",
      "source": [
        "ax = data.groupby(['Churn','SeniorCitizen']).size().unstack().plot(kind='bar', stacked = True, title='Churn Rate W.R.T. Age Range' , color = {'Yes':'yellow','No':'green'})\n",
        "for container in ax.containers:\n",
        "  labels = [int(v.get_height()) for v in container]\n",
        "  ax.bar_label(container, labels=labels, label_type='center')"
      ],
      "metadata": {
        "id": "2w79cvxeZvCu",
        "execution": {
          "iopub.status.busy": "2024-03-19T16:10:59.819506Z",
          "iopub.execute_input": "2024-03-19T16:10:59.820533Z",
          "iopub.status.idle": "2024-03-19T16:11:00.326143Z",
          "shell.execute_reply.started": "2024-03-19T16:10:59.820454Z",
          "shell.execute_reply": "2024-03-19T16:11:00.324951Z"
        },
        "trusted": true,
        "colab": {
          "base_uri": "https://localhost:8080/",
          "height": 480
        },
        "outputId": "159e3239-a712-4dce-e103-b32844393308"
      },
      "execution_count": 34,
      "outputs": [
        {
          "output_type": "display_data",
          "data": {
            "text/plain": [
              "<Figure size 640x480 with 1 Axes>"
            ],
            "image/png": "[encoded data removed]"
          },
          "metadata": {}
        }
      ]
    },
    {
      "cell_type": "markdown",
      "source": [
        "The data contains a small proportion of senior citizens, but it's noteworthy that nearly half of them end up churning."
      ],
      "metadata": {
        "id": "HSZCzB-ZbFQC"
      }
    },
    {
      "cell_type": "code",
      "source": [
        "ax = data.groupby(['Dependents', 'Partner', 'Churn']).size().unstack().plot(kind='bar', stacked = True, title='Churn Rate W.R.T. Dependents and Partner' , figsize=(10, 5), xlabel = 'Dependents and Partner')\n",
        "for container in ax.containers:\n",
        "  labels = [int(v.get_height()) for v in container]\n",
        "  ax.bar_label(container, labels=labels, label_type='center')"
      ],
      "metadata": {
        "id": "InAlg21jeRmh",
        "execution": {
          "iopub.status.busy": "2024-03-19T16:11:00.32744Z",
          "iopub.execute_input": "2024-03-19T16:11:00.327783Z",
          "iopub.status.idle": "2024-03-19T16:11:00.763759Z",
          "shell.execute_reply.started": "2024-03-19T16:11:00.327755Z",
          "shell.execute_reply": "2024-03-19T16:11:00.762308Z"
        },
        "trusted": true,
        "colab": {
          "base_uri": "https://localhost:8080/",
          "height": 537
        },
        "outputId": "4f4c8510-692a-4990-a82e-6e68534f1d95"
      },
      "execution_count": 35,
      "outputs": [
        {
          "output_type": "display_data",
          "data": {
            "text/plain": [
              "<Figure size 1000x500 with 1 Axes>"
            ],
            "image/png": "[encoded data removed]"
          },
          "metadata": {}
        }
      ]
    },
    {
      "cell_type": "markdown",
      "source": [
        "Customers without dependents and partners are more prone to churn."
      ],
      "metadata": {
        "id": "JsaaCB9BjdgD"
      }
    },
    {
      "cell_type": "markdown",
      "source": [
        "## Churn relation with Services taken by customers.\n",
        "When exploring customer churn, understanding how it correlates with the services that customers use is crucial. By examining the relationship between churn and various services taken by customers—such as internet services, online security, technical support, and others—we can identify key factors contributing to customer attrition. This analysis helps reveal patterns indicating which services are more associated with higher churn rates and which ones might encourage customer retention.\n",
        "\n",
        "By delving into this relationship, we gain insights into customer behavior and preferences. It also informs potential business strategies for reducing churn by focusing on enhancing or modifying services that are correlated with increased customer loyalty. This exploration plays a significant role in predicting churn and developing effective measures to address it."
      ],
      "metadata": {
        "id": "idVTLL9pETM3"
      }
    },
    {
      "cell_type": "code",
      "source": [
        "data.groupby(['Churn','InternetService']).size().unstack().plot(kind='pie',subplots=True, title='Churn Rate W.R.T. Internet Service' , autopct='%1.0f%%', figsize=(10, 5), legend = False, colors =['green','red'])"
      ],
      "metadata": {
        "id": "69sQIH-986rw",
        "execution": {
          "iopub.status.busy": "2024-03-19T16:11:00.770706Z",
          "iopub.execute_input": "2024-03-19T16:11:00.771088Z",
          "iopub.status.idle": "2024-03-19T16:11:01.135999Z",
          "shell.execute_reply.started": "2024-03-19T16:11:00.771058Z",
          "shell.execute_reply": "2024-03-19T16:11:01.134332Z"
        },
        "trusted": true,
        "colab": {
          "base_uri": "https://localhost:8080/",
          "height": 428
        },
        "outputId": "d1fcdf7b-39c7-4374-bb2f-365fa8ecfdd2"
      },
      "execution_count": 36,
      "outputs": [
        {
          "output_type": "execute_result",
          "data": {
            "text/plain": [
              "array([<Axes: ylabel='DSL'>, <Axes: ylabel='Fiber optic'>,\n",
              "       <Axes: ylabel='No'>], dtype=object)"
            ]
          },
          "metadata": {},
          "execution_count": 36
        },
        {
          "output_type": "display_data",
          "data": {
            "text/plain": [
              "<Figure size 1000x500 with 3 Axes>"
            ],
            "image/png": "[encoded data removed]"
          },
          "metadata": {}
        }
      ]
    },
    {
      "cell_type": "markdown",
      "source": [
        "Customers using Fiber Optic internet services exhibit a higher likelihood of churning compared to those using DSL. Conversely, customers with no internet service are less prone to churn."
      ],
      "metadata": {
        "id": "1VY1rSz49D9h"
      }
    },
    {
      "cell_type": "code",
      "source": [
        "services = ['PhoneService','MultipleLines','OnlineSecurity','OnlineBackup','DeviceProtection','TechSupport','StreamingTV','StreamingMovies']\n",
        "fig, axes = plt.subplots(4,2,figsize = (15,15))\n",
        "fig.tight_layout(pad=5.0)\n",
        "k = 0\n",
        "for i in range(4):\n",
        "  for j in range(2):\n",
        "    ax = data.groupby(['Churn',services[k]]).size().unstack().plot(kind='bar', stacked = True, title='Churn Rate W.R.T. '+services[k], ax=axes[i,j])\n",
        "    k = k+1\n",
        "    for container in ax.containers:\n",
        "      labels = [int(v.get_height()) for v in container]\n",
        "      ax.bar_label(container, labels=labels, label_type='center')"
      ],
      "metadata": {
        "id": "FcEAiaKA0Ztw",
        "execution": {
          "iopub.status.busy": "2024-03-19T16:11:01.138568Z",
          "iopub.execute_input": "2024-03-19T16:11:01.14005Z",
          "iopub.status.idle": "2024-03-19T16:11:03.926215Z",
          "shell.execute_reply.started": "2024-03-19T16:11:01.139977Z",
          "shell.execute_reply": "2024-03-19T16:11:03.924798Z"
        },
        "trusted": true,
        "colab": {
          "base_uri": "https://localhost:8080/",
          "height": 1000
        },
        "outputId": "43603e4b-b701-4d52-eb3a-3763261c1049"
      },
      "execution_count": 37,
      "outputs": [
        {
          "output_type": "display_data",
          "data": {
            "text/plain": [
              "<Figure size 1500x1500 with 8 Axes>"
            ],
            "image/png": "[encoded data removed]"
          },
          "metadata": {}
        }
      ]
    },
    {
      "cell_type": "markdown",
      "source": [
        "- Features such as Phone Service and Multiple Lines tend to exhibit similar trends among both Churn and Non-Churn customers.\n",
        "- The absence of Online Security, Online Backup, Device Protection, or Tech Support makes customers more likely to churn.\n",
        "- On the other hand, whether customers have Streaming TV or Streaming Movies services appears to have little impact on their likelihood of churning."
      ],
      "metadata": {
        "id": "lh18fyKftZ3p"
      }
    },
    {
      "cell_type": "markdown",
      "source": [
        "###############"
      ],
      "metadata": {
        "id": "fu6vBFtF9alg"
      }
    },
    {
      "cell_type": "markdown",
      "source": [
        "# Data Prepration and Model Implementation.\n",
        "Data preparation and model implementation are critical stages in any data science project. During data preparation, the focus is on cleaning, transforming, and structuring the dataset to ensure it's ready for analysis. This stage involves handling missing values, encoding categorical data, scaling numerical features, and conducting other preprocessing steps necessary for building a reliable model.\n",
        "\n",
        "Model implementation follows the data preparation phase. This is where you select appropriate machine learning algorithms, train models, and evaluate their performance. This stage also involves tuning model parameters, selecting optimal features, and assessing various performance metrics to ensure the model's accuracy and effectiveness in predicting outcomes.\n",
        "\n",
        "In this section, we will detail the steps taken to prepare the data and implement the machine learning models used for our analysis. This includes the specific techniques used to clean and preprocess the data, as well as the algorithms and evaluation methods applied to build and validate our predictive models."
      ],
      "metadata": {
        "id": "FxBUoE8ezbbh"
      }
    },
    {
      "cell_type": "code",
      "source": [
        "def encoding(dataframe_series):\n",
        "    if dataframe_series.dtype=='object':\n",
        "        dataframe_series = LabelEncoder().fit_transform(dataframe_series)\n",
        "    return dataframe_series"
      ],
      "metadata": {
        "id": "432TpNWrBn1H",
        "execution": {
          "iopub.status.busy": "2024-03-19T16:11:03.928096Z",
          "iopub.execute_input": "2024-03-19T16:11:03.928576Z",
          "iopub.status.idle": "2024-03-19T16:11:03.935794Z",
          "shell.execute_reply.started": "2024-03-19T16:11:03.928537Z",
          "shell.execute_reply": "2024-03-19T16:11:03.934161Z"
        },
        "trusted": true
      },
      "execution_count": 38,
      "outputs": []
    },
    {
      "cell_type": "markdown",
      "source": [
        "A Label encoder converts the categorical features into numerical data by encoding the labels."
      ],
      "metadata": {
        "id": "3Gqii4YCBnYe"
      }
    },
    {
      "cell_type": "code",
      "source": [
        "df = data.apply(lambda x: encoding(x))\n",
        "df.head()"
      ],
      "metadata": {
        "id": "qUJ8fx8iBvUJ",
        "execution": {
          "iopub.status.busy": "2024-03-19T16:11:03.938148Z",
          "iopub.execute_input": "2024-03-19T16:11:03.938557Z",
          "iopub.status.idle": "2024-03-19T16:11:04.003676Z",
          "shell.execute_reply.started": "2024-03-19T16:11:03.938528Z",
          "shell.execute_reply": "2024-03-19T16:11:04.002449Z"
        },
        "trusted": true,
        "colab": {
          "base_uri": "https://localhost:8080/",
          "height": 226
        },
        "outputId": "e7547828-8239-4d25-dc59-5ff78f6124ac"
      },
      "execution_count": 39,
      "outputs": [
        {
          "output_type": "execute_result",
          "data": {
            "text/plain": [
              "   gender  SeniorCitizen  Partner  Dependents  tenure  PhoneService  \\\n",
              "0       0              0        1           0       1             0   \n",
              "1       1              0        0           0      34             1   \n",
              "2       1              0        0           0       2             1   \n",
              "3       1              0        0           0      45             0   \n",
              "4       0              0        0           0       2             1   \n",
              "\n",
              "   MultipleLines  InternetService  OnlineSecurity  OnlineBackup  \\\n",
              "0              1                0               0             2   \n",
              "1              0                0               2             0   \n",
              "2              0                0               2             2   \n",
              "3              1                0               2             0   \n",
              "4              0                1               0             0   \n",
              "\n",
              "   DeviceProtection  TechSupport  StreamingTV  StreamingMovies  Contract  \\\n",
              "0                 0            0            0                0         0   \n",
              "1                 2            0            0                0         1   \n",
              "2                 0            0            0                0         0   \n",
              "3                 2            2            0                0         1   \n",
              "4                 0            0            0                0         0   \n",
              "\n",
              "   PaperlessBilling  PaymentMethod  MonthlyCharges  TotalCharges  Churn  \n",
              "0                 1              2           29.85         29.85      0  \n",
              "1                 0              3           56.95       1889.50      0  \n",
              "2                 1              3           53.85        108.15      1  \n",
              "3                 0              0           42.30       1840.75      0  \n",
              "4                 1              2           70.70        151.65      1  "
            ],
            "text/html": [
              "\n",
              "  <div id=\"df-3b3f447f-1a20-455e-94d5-cbd03ba2961f\" class=\"colab-df-container\">\n",
              "    <div>\n",
              "<style scoped>\n",
              "    .dataframe tbody tr th:only-of-type {\n",
              "        vertical-align: middle;\n",
              "    }\n",
              "\n",
              "    .dataframe tbody tr th {\n",
              "        vertical-align: top;\n",
              "    }\n",
              "\n",
              "    .dataframe thead th {\n",
              "        text-align: right;\n",
              "    }\n",
              "</style>\n",
              "<table border=\"1\" class=\"dataframe\">\n",
              "  <thead>\n",
              "    <tr style=\"text-align: right;\">\n",
              "      <th></th>\n",
              "      <th>gender</th>\n",
              "      <th>SeniorCitizen</th>\n",
              "      <th>Partner</th>\n",
              "      <th>Dependents</th>\n",
              "      <th>tenure</th>\n",
              "      <th>PhoneService</th>\n",
              "      <th>MultipleLines</th>\n",
              "      <th>InternetService</th>\n",
              "      <th>OnlineSecurity</th>\n",
              "      <th>OnlineBackup</th>\n",
              "      <th>DeviceProtection</th>\n",
              "      <th>TechSupport</th>\n",
              "      <th>StreamingTV</th>\n",
              "      <th>StreamingMovies</th>\n",
              "      <th>Contract</th>\n",
              "      <th>PaperlessBilling</th>\n",
              "      <th>PaymentMethod</th>\n",
              "      <th>MonthlyCharges</th>\n",
              "      <th>TotalCharges</th>\n",
              "      <th>Churn</th>\n",
              "    </tr>\n",
              "  </thead>\n",
              "  <tbody>\n",
              "    <tr>\n",
              "      <th>0</th>\n",
              "      <td>0</td>\n",
              "      <td>0</td>\n",
              "      <td>1</td>\n",
              "      <td>0</td>\n",
              "      <td>1</td>\n",
              "      <td>0</td>\n",
              "      <td>1</td>\n",
              "      <td>0</td>\n",
              "      <td>0</td>\n",
              "      <td>2</td>\n",
              "      <td>0</td>\n",
              "      <td>0</td>\n",
              "      <td>0</td>\n",
              "      <td>0</td>\n",
              "      <td>0</td>\n",
              "      <td>1</td>\n",
              "      <td>2</td>\n",
              "      <td>29.85</td>\n",
              "      <td>29.85</td>\n",
              "      <td>0</td>\n",
              "    </tr>\n",
              "    <tr>\n",
              "      <th>1</th>\n",
              "      <td>1</td>\n",
              "      <td>0</td>\n",
              "      <td>0</td>\n",
              "      <td>0</td>\n",
              "      <td>34</td>\n",
              "      <td>1</td>\n",
              "      <td>0</td>\n",
              "      <td>0</td>\n",
              "      <td>2</td>\n",
              "      <td>0</td>\n",
              "      <td>2</td>\n",
              "      <td>0</td>\n",
              "      <td>0</td>\n",
              "      <td>0</td>\n",
              "      <td>1</td>\n",
              "      <td>0</td>\n",
              "      <td>3</td>\n",
              "      <td>56.95</td>\n",
              "      <td>1889.50</td>\n",
              "      <td>0</td>\n",
              "    </tr>\n",
              "    <tr>\n",
              "      <th>2</th>\n",
              "      <td>1</td>\n",
              "      <td>0</td>\n",
              "      <td>0</td>\n",
              "      <td>0</td>\n",
              "      <td>2</td>\n",
              "      <td>1</td>\n",
              "      <td>0</td>\n",
              "      <td>0</td>\n",
              "      <td>2</td>\n",
              "      <td>2</td>\n",
              "      <td>0</td>\n",
              "      <td>0</td>\n",
              "      <td>0</td>\n",
              "      <td>0</td>\n",
              "      <td>0</td>\n",
              "      <td>1</td>\n",
              "      <td>3</td>\n",
              "      <td>53.85</td>\n",
              "      <td>108.15</td>\n",
              "      <td>1</td>\n",
              "    </tr>\n",
              "    <tr>\n",
              "      <th>3</th>\n",
              "      <td>1</td>\n",
              "      <td>0</td>\n",
              "      <td>0</td>\n",
              "      <td>0</td>\n",
              "      <td>45</td>\n",
              "      <td>0</td>\n",
              "      <td>1</td>\n",
              "      <td>0</td>\n",
              "      <td>2</td>\n",
              "      <td>0</td>\n",
              "      <td>2</td>\n",
              "      <td>2</td>\n",
              "      <td>0</td>\n",
              "      <td>0</td>\n",
              "      <td>1</td>\n",
              "      <td>0</td>\n",
              "      <td>0</td>\n",
              "      <td>42.30</td>\n",
              "      <td>1840.75</td>\n",
              "      <td>0</td>\n",
              "    </tr>\n",
              "    <tr>\n",
              "      <th>4</th>\n",
              "      <td>0</td>\n",
              "      <td>0</td>\n",
              "      <td>0</td>\n",
              "      <td>0</td>\n",
              "      <td>2</td>\n",
              "      <td>1</td>\n",
              "      <td>0</td>\n",
              "      <td>1</td>\n",
              "      <td>0</td>\n",
              "      <td>0</td>\n",
              "      <td>0</td>\n",
              "      <td>0</td>\n",
              "      <td>0</td>\n",
              "      <td>0</td>\n",
              "      <td>0</td>\n",
              "      <td>1</td>\n",
              "      <td>2</td>\n",
              "      <td>70.70</td>\n",
              "      <td>151.65</td>\n",
              "      <td>1</td>\n",
              "    </tr>\n",
              "  </tbody>\n",
              "</table>\n",
              "</div>\n",
              "    <div class=\"colab-df-buttons\">\n",
              "\n",
              "  <div class=\"colab-df-container\">\n",
              "    <button class=\"colab-df-convert\" onclick=\"convertToInteractive('df-3b3f447f-1a20-455e-94d5-cbd03ba2961f')\"\n",
              "            title=\"Convert this dataframe to an interactive table.\"\n",
              "            style=\"display:none;\">\n",
              "\n",
              "  <svg xmlns=\"http://www.w3.org/2000/svg\" height=\"24px\" viewBox=\"0 -960 960 960\">\n",
              "    <path d=\"M120-120v-720h720v720H120Zm60-500h600v-160H180v160Zm220 220h160v-160H400v160Zm0 220h160v-160H400v160ZM180-400h160v-160H180v160Zm440 0h160v-160H620v160ZM180-180h160v-160H180v160Zm440 0h160v-160H620v160Z\"/>\n",
              "  </svg>\n",
              "    </button>\n",
              "\n",
              "  <style>\n",
              "    .colab-df-container {\n",
              "      display:flex;\n",
              "      gap: 12px;\n",
              "    }\n",
              "\n",
              "    .colab-df-convert {\n",
              "      background-color: #E8F0FE;\n",
              "      border: none;\n",
              "      border-radius: 50%;\n",
              "      cursor: pointer;\n",
              "      display: none;\n",
              "      fill: #1967D2;\n",
              "      height: 32px;\n",
              "      padding: 0 0 0 0;\n",
              "      width: 32px;\n",
              "    }\n",
              "\n",
              "    .colab-df-convert:hover {\n",
              "      background-color: #E2EBFA;\n",
              "      box-shadow: 0px 1px 2px rgba(60, 64, 67, 0.3), 0px 1px 3px 1px rgba(60, 64, 67, 0.15);\n",
              "      fill: #174EA6;\n",
              "    }\n",
              "\n",
              "    .colab-df-buttons div {\n",
              "      margin-bottom: 4px;\n",
              "    }\n",
              "\n",
              "    [theme=dark] .colab-df-convert {\n",
              "      background-color: #3B4455;\n",
              "      fill: #D2E3FC;\n",
              "    }\n",
              "\n",
              "    [theme=dark] .colab-df-convert:hover {\n",
              "      background-color: #434B5C;\n",
              "      box-shadow: 0px 1px 3px 1px rgba(0, 0, 0, 0.15);\n",
              "      filter: drop-shadow(0px 1px 2px rgba(0, 0, 0, 0.3));\n",
              "      fill: #FFFFFF;\n",
              "    }\n",
              "  </style>\n",
              "\n",
              "    <script>\n",
              "      const buttonEl =\n",
              "        document.querySelector('#df-3b3f447f-1a20-455e-94d5-cbd03ba2961f button.colab-df-convert');\n",
              "      buttonEl.style.display =\n",
              "        google.colab.kernel.accessAllowed ? 'block' : 'none';\n",
              "\n",
              "      async function convertToInteractive(key) {\n",
              "        const element = document.querySelector('#df-3b3f447f-1a20-455e-94d5-cbd03ba2961f');\n",
              "        const dataTable =\n",
              "          await google.colab.kernel.invokeFunction('convertToInteractive',\n",
              "                                                    [key], {});\n",
              "        if (!dataTable) return;\n",
              "\n",
              "        const docLinkHtml = 'Like what you see? Visit the ' +\n",
              "          '<a target=\"_blank\" href=https://colab.research.google.com/notebooks/data_table.ipynb>data table notebook</a>'\n",
              "          + ' to learn more about interactive tables.';\n",
              "        element.innerHTML = '';\n",
              "        dataTable['output_type'] = 'display_data';\n",
              "        await google.colab.output.renderOutput(dataTable, element);\n",
              "        const docLink = document.createElement('div');\n",
              "        docLink.innerHTML = docLinkHtml;\n",
              "        element.appendChild(docLink);\n",
              "      }\n",
              "    </script>\n",
              "  </div>\n",
              "\n",
              "\n",
              "<div id=\"df-b9d71895-52ce-4afb-91e0-aa5e9fd09cf5\">\n",
              "  <button class=\"colab-df-quickchart\" onclick=\"quickchart('df-b9d71895-52ce-4afb-91e0-aa5e9fd09cf5')\"\n",
              "            title=\"Suggest charts\"\n",
              "            style=\"display:none;\">\n",
              "\n",
              "<svg xmlns=\"http://www.w3.org/2000/svg\" height=\"24px\"viewBox=\"0 0 24 24\"\n",
              "     width=\"24px\">\n",
              "    <g>\n",
              "        <path d=\"M19 3H5c-1.1 0-2 .9-2 2v14c0 1.1.9 2 2 2h14c1.1 0 2-.9 2-2V5c0-1.1-.9-2-2-2zM9 17H7v-7h2v7zm4 0h-2V7h2v10zm4 0h-2v-4h2v4z\"/>\n",
              "    </g>\n",
              "</svg>\n",
              "  </button>\n",
              "\n",
              "<style>\n",
              "  .colab-df-quickchart {\n",
              "      --bg-color: #E8F0FE;\n",
              "      --fill-color: #1967D2;\n",
              "      --hover-bg-color: #E2EBFA;\n",
              "      --hover-fill-color: #174EA6;\n",
              "      --disabled-fill-color: #AAA;\n",
              "      --disabled-bg-color: #DDD;\n",
              "  }\n",
              "\n",
              "  [theme=dark] .colab-df-quickchart {\n",
              "      --bg-color: #3B4455;\n",
              "      --fill-color: #D2E3FC;\n",
              "      --hover-bg-color: #434B5C;\n",
              "      --hover-fill-color: #FFFFFF;\n",
              "      --disabled-bg-color: #3B4455;\n",
              "      --disabled-fill-color: #666;\n",
              "  }\n",
              "\n",
              "  .colab-df-quickchart {\n",
              "    background-color: var(--bg-color);\n",
              "    border: none;\n",
              "    border-radius: 50%;\n",
              "    cursor: pointer;\n",
              "    display: none;\n",
              "    fill: var(--fill-color);\n",
              "    height: 32px;\n",
              "    padding: 0;\n",
              "    width: 32px;\n",
              "  }\n",
              "\n",
              "  .colab-df-quickchart:hover {\n",
              "    background-color: var(--hover-bg-color);\n",
              "    box-shadow: 0 1px 2px rgba(60, 64, 67, 0.3), 0 1px 3px 1px rgba(60, 64, 67, 0.15);\n",
              "    fill: var(--button-hover-fill-color);\n",
              "  }\n",
              "\n",
              "  .colab-df-quickchart-complete:disabled,\n",
              "  .colab-df-quickchart-complete:disabled:hover {\n",
              "    background-color: var(--disabled-bg-color);\n",
              "    fill: var(--disabled-fill-color);\n",
              "    box-shadow: none;\n",
              "  }\n",
              "\n",
              "  .colab-df-spinner {\n",
              "    border: 2px solid var(--fill-color);\n",
              "    border-color: transparent;\n",
              "    border-bottom-color: var(--fill-color);\n",
              "    animation:\n",
              "      spin 1s steps(1) infinite;\n",
              "  }\n",
              "\n",
              "  @keyframes spin {\n",
              "    0% {\n",
              "      border-color: transparent;\n",
              "      border-bottom-color: var(--fill-color);\n",
              "      border-left-color: var(--fill-color);\n",
              "    }\n",
              "    20% {\n",
              "      border-color: transparent;\n",
              "      border-left-color: var(--fill-color);\n",
              "      border-top-color: var(--fill-color);\n",
              "    }\n",
              "    30% {\n",
              "      border-color: transparent;\n",
              "      border-left-color: var(--fill-color);\n",
              "      border-top-color: var(--fill-color);\n",
              "      border-right-color: var(--fill-color);\n",
              "    }\n",
              "    40% {\n",
              "      border-color: transparent;\n",
              "      border-right-color: var(--fill-color);\n",
              "      border-top-color: var(--fill-color);\n",
              "    }\n",
              "    60% {\n",
              "      border-color: transparent;\n",
              "      border-right-color: var(--fill-color);\n",
              "    }\n",
              "    80% {\n",
              "      border-color: transparent;\n",
              "      border-right-color: var(--fill-color);\n",
              "      border-bottom-color: var(--fill-color);\n",
              "    }\n",
              "    90% {\n",
              "      border-color: transparent;\n",
              "      border-bottom-color: var(--fill-color);\n",
              "    }\n",
              "  }\n",
              "</style>\n",
              "\n",
              "  <script>\n",
              "    async function quickchart(key) {\n",
              "      const quickchartButtonEl =\n",
              "        document.querySelector('#' + key + ' button');\n",
              "      quickchartButtonEl.disabled = true;  // To prevent multiple clicks.\n",
              "      quickchartButtonEl.classList.add('colab-df-spinner');\n",
              "      try {\n",
              "        const charts = await google.colab.kernel.invokeFunction(\n",
              "            'suggestCharts', [key], {});\n",
              "      } catch (error) {\n",
              "        console.error('Error during call to suggestCharts:', error);\n",
              "      }\n",
              "      quickchartButtonEl.classList.remove('colab-df-spinner');\n",
              "      quickchartButtonEl.classList.add('colab-df-quickchart-complete');\n",
              "    }\n",
              "    (() => {\n",
              "      let quickchartButtonEl =\n",
              "        document.querySelector('#df-b9d71895-52ce-4afb-91e0-aa5e9fd09cf5 button');\n",
              "      quickchartButtonEl.style.display =\n",
              "        google.colab.kernel.accessAllowed ? 'block' : 'none';\n",
              "    })();\n",
              "  </script>\n",
              "</div>\n",
              "\n",
              "    </div>\n",
              "  </div>\n"
            ],
            "application/vnd.google.colaboratory.intrinsic+json": {
              "type": "dataframe",
              "variable_name": "df",
              "summary": "{\n  \"name\": \"df\",\n  \"rows\": 7032,\n  \"fields\": [\n    {\n      \"column\": \"gender\",\n      \"properties\": {\n        \"dtype\": \"number\",\n        \"std\": 0,\n        \"min\": 0,\n        \"max\": 1,\n        \"num_unique_values\": 2,\n        \"samples\": [\n          1,\n          0\n        ],\n        \"semantic_type\": \"\",\n        \"description\": \"\"\n      }\n    },\n    {\n      \"column\": \"SeniorCitizen\",\n      \"properties\": {\n        \"dtype\": \"number\",\n        \"std\": 0,\n        \"min\": 0,\n        \"max\": 1,\n        \"num_unique_values\": 2,\n        \"samples\": [\n          1,\n          0\n        ],\n        \"semantic_type\": \"\",\n        \"description\": \"\"\n      }\n    },\n    {\n      \"column\": \"Partner\",\n      \"properties\": {\n        \"dtype\": \"number\",\n        \"std\": 0,\n        \"min\": 0,\n        \"max\": 1,\n        \"num_unique_values\": 2,\n        \"samples\": [\n          0,\n          1\n        ],\n        \"semantic_type\": \"\",\n        \"description\": \"\"\n      }\n    },\n    {\n      \"column\": \"Dependents\",\n      \"properties\": {\n        \"dtype\": \"number\",\n        \"std\": 0,\n        \"min\": 0,\n        \"max\": 1,\n        \"num_unique_values\": 2,\n        \"samples\": [\n          1,\n          0\n        ],\n        \"semantic_type\": \"\",\n        \"description\": \"\"\n      }\n    },\n    {\n      \"column\": \"tenure\",\n      \"properties\": {\n        \"dtype\": \"number\",\n        \"std\": 24,\n        \"min\": 1,\n        \"max\": 72,\n        \"num_unique_values\": 72,\n        \"samples\": [\n          8,\n          53\n        ],\n        \"semantic_type\": \"\",\n        \"description\": \"\"\n      }\n    },\n    {\n      \"column\": \"PhoneService\",\n      \"properties\": {\n        \"dtype\": \"number\",\n        \"std\": 0,\n        \"min\": 0,\n        \"max\": 1,\n        \"num_unique_values\": 2,\n        \"samples\": [\n          1,\n          0\n        ],\n        \"semantic_type\": \"\",\n        \"description\": \"\"\n      }\n    },\n    {\n      \"column\": \"MultipleLines\",\n      \"properties\": {\n        \"dtype\": \"number\",\n        \"std\": 0,\n        \"min\": 0,\n        \"max\": 2,\n        \"num_unique_values\": 3,\n        \"samples\": [\n          1,\n          0\n        ],\n        \"semantic_type\": \"\",\n        \"description\": \"\"\n      }\n    },\n    {\n      \"column\": \"InternetService\",\n      \"properties\": {\n        \"dtype\": \"number\",\n        \"std\": 0,\n        \"min\": 0,\n        \"max\": 2,\n        \"num_unique_values\": 3,\n        \"samples\": [\n          0,\n          1\n        ],\n        \"semantic_type\": \"\",\n        \"description\": \"\"\n      }\n    },\n    {\n      \"column\": \"OnlineSecurity\",\n      \"properties\": {\n        \"dtype\": \"number\",\n        \"std\": 0,\n        \"min\": 0,\n        \"max\": 2,\n        \"num_unique_values\": 3,\n        \"samples\": [\n          0,\n          2\n        ],\n        \"semantic_type\": \"\",\n        \"description\": \"\"\n      }\n    },\n    {\n      \"column\": \"OnlineBackup\",\n      \"properties\": {\n        \"dtype\": \"number\",\n        \"std\": 0,\n        \"min\": 0,\n        \"max\": 2,\n        \"num_unique_values\": 3,\n        \"samples\": [\n          2,\n          0\n        ],\n        \"semantic_type\": \"\",\n        \"description\": \"\"\n      }\n    },\n    {\n      \"column\": \"DeviceProtection\",\n      \"properties\": {\n        \"dtype\": \"number\",\n        \"std\": 0,\n        \"min\": 0,\n        \"max\": 2,\n        \"num_unique_values\": 3,\n        \"samples\": [\n          0,\n          2\n        ],\n        \"semantic_type\": \"\",\n        \"description\": \"\"\n      }\n    },\n    {\n      \"column\": \"TechSupport\",\n      \"properties\": {\n        \"dtype\": \"number\",\n        \"std\": 0,\n        \"min\": 0,\n        \"max\": 2,\n        \"num_unique_values\": 3,\n        \"samples\": [\n          0,\n          2\n        ],\n        \"semantic_type\": \"\",\n        \"description\": \"\"\n      }\n    },\n    {\n      \"column\": \"StreamingTV\",\n      \"properties\": {\n        \"dtype\": \"number\",\n        \"std\": 0,\n        \"min\": 0,\n        \"max\": 2,\n        \"num_unique_values\": 3,\n        \"samples\": [\n          0,\n          2\n        ],\n        \"semantic_type\": \"\",\n        \"description\": \"\"\n      }\n    },\n    {\n      \"column\": \"StreamingMovies\",\n      \"properties\": {\n        \"dtype\": \"number\",\n        \"std\": 0,\n        \"min\": 0,\n        \"max\": 2,\n        \"num_unique_values\": 3,\n        \"samples\": [\n          0,\n          2\n        ],\n        \"semantic_type\": \"\",\n        \"description\": \"\"\n      }\n    },\n    {\n      \"column\": \"Contract\",\n      \"properties\": {\n        \"dtype\": \"number\",\n        \"std\": 0,\n        \"min\": 0,\n        \"max\": 2,\n        \"num_unique_values\": 3,\n        \"samples\": [\n          0,\n          1\n        ],\n        \"semantic_type\": \"\",\n        \"description\": \"\"\n      }\n    },\n    {\n      \"column\": \"PaperlessBilling\",\n      \"properties\": {\n        \"dtype\": \"number\",\n        \"std\": 0,\n        \"min\": 0,\n        \"max\": 1,\n        \"num_unique_values\": 2,\n        \"samples\": [\n          0,\n          1\n        ],\n        \"semantic_type\": \"\",\n        \"description\": \"\"\n      }\n    },\n    {\n      \"column\": \"PaymentMethod\",\n      \"properties\": {\n        \"dtype\": \"number\",\n        \"std\": 1,\n        \"min\": 0,\n        \"max\": 3,\n        \"num_unique_values\": 4,\n        \"samples\": [\n          3,\n          1\n        ],\n        \"semantic_type\": \"\",\n        \"description\": \"\"\n      }\n    },\n    {\n      \"column\": \"MonthlyCharges\",\n      \"properties\": {\n        \"dtype\": \"number\",\n        \"std\": 30.085973884049842,\n        \"min\": 18.25,\n        \"max\": 118.75,\n        \"num_unique_values\": 1584,\n        \"samples\": [\n          102.85,\n          20.05\n        ],\n        \"semantic_type\": \"\",\n        \"description\": \"\"\n      }\n    },\n    {\n      \"column\": \"TotalCharges\",\n      \"properties\": {\n        \"dtype\": \"number\",\n        \"std\": 2266.771361883145,\n        \"min\": 18.8,\n        \"max\": 8684.8,\n        \"num_unique_values\": 6530,\n        \"samples\": [\n          5594.0,\n          6840.95\n        ],\n        \"semantic_type\": \"\",\n        \"description\": \"\"\n      }\n    },\n    {\n      \"column\": \"Churn\",\n      \"properties\": {\n        \"dtype\": \"number\",\n        \"std\": 0,\n        \"min\": 0,\n        \"max\": 1,\n        \"num_unique_values\": 2,\n        \"samples\": [\n          1,\n          0\n        ],\n        \"semantic_type\": \"\",\n        \"description\": \"\"\n      }\n    }\n  ]\n}"
            }
          },
          "metadata": {},
          "execution_count": 39
        }
      ]
    },
    {
      "cell_type": "code",
      "source": [
        "y = df['Churn']\n",
        "X = df.drop('Churn', axis=1)"
      ],
      "metadata": {
        "id": "xTguTSslzkOm",
        "execution": {
          "iopub.status.busy": "2024-03-19T16:11:04.004907Z",
          "iopub.execute_input": "2024-03-19T16:11:04.005225Z",
          "iopub.status.idle": "2024-03-19T16:11:04.012221Z",
          "shell.execute_reply.started": "2024-03-19T16:11:04.005196Z",
          "shell.execute_reply": "2024-03-19T16:11:04.010782Z"
        },
        "trusted": true
      },
      "execution_count": 40,
      "outputs": []
    },
    {
      "cell_type": "markdown",
      "source": [
        "Since the data has different features with different range of values, it is important to scale them>"
      ],
      "metadata": {
        "id": "A84hJMOrEiJY"
      }
    },
    {
      "cell_type": "code",
      "source": [
        "scaler = MinMaxScaler()\n",
        "column_name = X.columns\n",
        "X_scaled = pd.DataFrame(scaler.fit_transform(X), columns = column_name)\n",
        "X_scaled.head()"
      ],
      "metadata": {
        "id": "fMa09kL7Cuc3",
        "execution": {
          "iopub.status.busy": "2024-03-19T16:11:04.0138Z",
          "iopub.execute_input": "2024-03-19T16:11:04.014203Z",
          "iopub.status.idle": "2024-03-19T16:11:04.056723Z",
          "shell.execute_reply.started": "2024-03-19T16:11:04.014173Z",
          "shell.execute_reply": "2024-03-19T16:11:04.055451Z"
        },
        "trusted": true,
        "colab": {
          "base_uri": "https://localhost:8080/",
          "height": 226
        },
        "outputId": "9e513573-09ee-4584-b9b1-b6dd7c998e3e"
      },
      "execution_count": 41,
      "outputs": [
        {
          "output_type": "execute_result",
          "data": {
            "text/plain": [
              "   gender  SeniorCitizen  Partner  Dependents    tenure  PhoneService  \\\n",
              "0     0.0            0.0      1.0         0.0  0.000000           0.0   \n",
              "1     1.0            0.0      0.0         0.0  0.464789           1.0   \n",
              "2     1.0            0.0      0.0         0.0  0.014085           1.0   \n",
              "3     1.0            0.0      0.0         0.0  0.619718           0.0   \n",
              "4     0.0            0.0      0.0         0.0  0.014085           1.0   \n",
              "\n",
              "   MultipleLines  InternetService  OnlineSecurity  OnlineBackup  \\\n",
              "0            0.5              0.0             0.0           1.0   \n",
              "1            0.0              0.0             1.0           0.0   \n",
              "2            0.0              0.0             1.0           1.0   \n",
              "3            0.5              0.0             1.0           0.0   \n",
              "4            0.0              0.5             0.0           0.0   \n",
              "\n",
              "   DeviceProtection  TechSupport  StreamingTV  StreamingMovies  Contract  \\\n",
              "0               0.0          0.0          0.0              0.0       0.0   \n",
              "1               1.0          0.0          0.0              0.0       0.5   \n",
              "2               0.0          0.0          0.0              0.0       0.0   \n",
              "3               1.0          1.0          0.0              0.0       0.5   \n",
              "4               0.0          0.0          0.0              0.0       0.0   \n",
              "\n",
              "   PaperlessBilling  PaymentMethod  MonthlyCharges  TotalCharges  \n",
              "0               1.0       0.666667        0.115423      0.001275  \n",
              "1               0.0       1.000000        0.385075      0.215867  \n",
              "2               1.0       1.000000        0.354229      0.010310  \n",
              "3               0.0       0.000000        0.239303      0.210241  \n",
              "4               1.0       0.666667        0.521891      0.015330  "
            ],
            "text/html": [
              "\n",
              "  <div id=\"df-edb18cc9-3aaa-46ca-bd46-86f99a0ff7a7\" class=\"colab-df-container\">\n",
              "    <div>\n",
              "<style scoped>\n",
              "    .dataframe tbody tr th:only-of-type {\n",
              "        vertical-align: middle;\n",
              "    }\n",
              "\n",
              "    .dataframe tbody tr th {\n",
              "        vertical-align: top;\n",
              "    }\n",
              "\n",
              "    .dataframe thead th {\n",
              "        text-align: right;\n",
              "    }\n",
              "</style>\n",
              "<table border=\"1\" class=\"dataframe\">\n",
              "  <thead>\n",
              "    <tr style=\"text-align: right;\">\n",
              "      <th></th>\n",
              "      <th>gender</th>\n",
              "      <th>SeniorCitizen</th>\n",
              "      <th>Partner</th>\n",
              "      <th>Dependents</th>\n",
              "      <th>tenure</th>\n",
              "      <th>PhoneService</th>\n",
              "      <th>MultipleLines</th>\n",
              "      <th>InternetService</th>\n",
              "      <th>OnlineSecurity</th>\n",
              "      <th>OnlineBackup</th>\n",
              "      <th>DeviceProtection</th>\n",
              "      <th>TechSupport</th>\n",
              "      <th>StreamingTV</th>\n",
              "      <th>StreamingMovies</th>\n",
              "      <th>Contract</th>\n",
              "      <th>PaperlessBilling</th>\n",
              "      <th>PaymentMethod</th>\n",
              "      <th>MonthlyCharges</th>\n",
              "      <th>TotalCharges</th>\n",
              "    </tr>\n",
              "  </thead>\n",
              "  <tbody>\n",
              "    <tr>\n",
              "      <th>0</th>\n",
              "      <td>0.0</td>\n",
              "      <td>0.0</td>\n",
              "      <td>1.0</td>\n",
              "      <td>0.0</td>\n",
              "      <td>0.000000</td>\n",
              "      <td>0.0</td>\n",
              "      <td>0.5</td>\n",
              "      <td>0.0</td>\n",
              "      <td>0.0</td>\n",
              "      <td>1.0</td>\n",
              "      <td>0.0</td>\n",
              "      <td>0.0</td>\n",
              "      <td>0.0</td>\n",
              "      <td>0.0</td>\n",
              "      <td>0.0</td>\n",
              "      <td>1.0</td>\n",
              "      <td>0.666667</td>\n",
              "      <td>0.115423</td>\n",
              "      <td>0.001275</td>\n",
              "    </tr>\n",
              "    <tr>\n",
              "      <th>1</th>\n",
              "      <td>1.0</td>\n",
              "      <td>0.0</td>\n",
              "      <td>0.0</td>\n",
              "      <td>0.0</td>\n",
              "      <td>0.464789</td>\n",
              "      <td>1.0</td>\n",
              "      <td>0.0</td>\n",
              "      <td>0.0</td>\n",
              "      <td>1.0</td>\n",
              "      <td>0.0</td>\n",
              "      <td>1.0</td>\n",
              "      <td>0.0</td>\n",
              "      <td>0.0</td>\n",
              "      <td>0.0</td>\n",
              "      <td>0.5</td>\n",
              "      <td>0.0</td>\n",
              "      <td>1.000000</td>\n",
              "      <td>0.385075</td>\n",
              "      <td>0.215867</td>\n",
              "    </tr>\n",
              "    <tr>\n",
              "      <th>2</th>\n",
              "      <td>1.0</td>\n",
              "      <td>0.0</td>\n",
              "      <td>0.0</td>\n",
              "      <td>0.0</td>\n",
              "      <td>0.014085</td>\n",
              "      <td>1.0</td>\n",
              "      <td>0.0</td>\n",
              "      <td>0.0</td>\n",
              "      <td>1.0</td>\n",
              "      <td>1.0</td>\n",
              "      <td>0.0</td>\n",
              "      <td>0.0</td>\n",
              "      <td>0.0</td>\n",
              "      <td>0.0</td>\n",
              "      <td>0.0</td>\n",
              "      <td>1.0</td>\n",
              "      <td>1.000000</td>\n",
              "      <td>0.354229</td>\n",
              "      <td>0.010310</td>\n",
              "    </tr>\n",
              "    <tr>\n",
              "      <th>3</th>\n",
              "      <td>1.0</td>\n",
              "      <td>0.0</td>\n",
              "      <td>0.0</td>\n",
              "      <td>0.0</td>\n",
              "      <td>0.619718</td>\n",
              "      <td>0.0</td>\n",
              "      <td>0.5</td>\n",
              "      <td>0.0</td>\n",
              "      <td>1.0</td>\n",
              "      <td>0.0</td>\n",
              "      <td>1.0</td>\n",
              "      <td>1.0</td>\n",
              "      <td>0.0</td>\n",
              "      <td>0.0</td>\n",
              "      <td>0.5</td>\n",
              "      <td>0.0</td>\n",
              "      <td>0.000000</td>\n",
              "      <td>0.239303</td>\n",
              "      <td>0.210241</td>\n",
              "    </tr>\n",
              "    <tr>\n",
              "      <th>4</th>\n",
              "      <td>0.0</td>\n",
              "      <td>0.0</td>\n",
              "      <td>0.0</td>\n",
              "      <td>0.0</td>\n",
              "      <td>0.014085</td>\n",
              "      <td>1.0</td>\n",
              "      <td>0.0</td>\n",
              "      <td>0.5</td>\n",
              "      <td>0.0</td>\n",
              "      <td>0.0</td>\n",
              "      <td>0.0</td>\n",
              "      <td>0.0</td>\n",
              "      <td>0.0</td>\n",
              "      <td>0.0</td>\n",
              "      <td>0.0</td>\n",
              "      <td>1.0</td>\n",
              "      <td>0.666667</td>\n",
              "      <td>0.521891</td>\n",
              "      <td>0.015330</td>\n",
              "    </tr>\n",
              "  </tbody>\n",
              "</table>\n",
              "</div>\n",
              "    <div class=\"colab-df-buttons\">\n",
              "\n",
              "  <div class=\"colab-df-container\">\n",
              "    <button class=\"colab-df-convert\" onclick=\"convertToInteractive('df-edb18cc9-3aaa-46ca-bd46-86f99a0ff7a7')\"\n",
              "            title=\"Convert this dataframe to an interactive table.\"\n",
              "            style=\"display:none;\">\n",
              "\n",
              "  <svg xmlns=\"http://www.w3.org/2000/svg\" height=\"24px\" viewBox=\"0 -960 960 960\">\n",
              "    <path d=\"M120-120v-720h720v720H120Zm60-500h600v-160H180v160Zm220 220h160v-160H400v160Zm0 220h160v-160H400v160ZM180-400h160v-160H180v160Zm440 0h160v-160H620v160ZM180-180h160v-160H180v160Zm440 0h160v-160H620v160Z\"/>\n",
              "  </svg>\n",
              "    </button>\n",
              "\n",
              "  <style>\n",
              "    .colab-df-container {\n",
              "      display:flex;\n",
              "      gap: 12px;\n",
              "    }\n",
              "\n",
              "    .colab-df-convert {\n",
              "      background-color: #E8F0FE;\n",
              "      border: none;\n",
              "      border-radius: 50%;\n",
              "      cursor: pointer;\n",
              "      display: none;\n",
              "      fill: #1967D2;\n",
              "      height: 32px;\n",
              "      padding: 0 0 0 0;\n",
              "      width: 32px;\n",
              "    }\n",
              "\n",
              "    .colab-df-convert:hover {\n",
              "      background-color: #E2EBFA;\n",
              "      box-shadow: 0px 1px 2px rgba(60, 64, 67, 0.3), 0px 1px 3px 1px rgba(60, 64, 67, 0.15);\n",
              "      fill: #174EA6;\n",
              "    }\n",
              "\n",
              "    .colab-df-buttons div {\n",
              "      margin-bottom: 4px;\n",
              "    }\n",
              "\n",
              "    [theme=dark] .colab-df-convert {\n",
              "      background-color: #3B4455;\n",
              "      fill: #D2E3FC;\n",
              "    }\n",
              "\n",
              "    [theme=dark] .colab-df-convert:hover {\n",
              "      background-color: #434B5C;\n",
              "      box-shadow: 0px 1px 3px 1px rgba(0, 0, 0, 0.15);\n",
              "      filter: drop-shadow(0px 1px 2px rgba(0, 0, 0, 0.3));\n",
              "      fill: #FFFFFF;\n",
              "    }\n",
              "  </style>\n",
              "\n",
              "    <script>\n",
              "      const buttonEl =\n",
              "        document.querySelector('#df-edb18cc9-3aaa-46ca-bd46-86f99a0ff7a7 button.colab-df-convert');\n",
              "      buttonEl.style.display =\n",
              "        google.colab.kernel.accessAllowed ? 'block' : 'none';\n",
              "\n",
              "      async function convertToInteractive(key) {\n",
              "        const element = document.querySelector('#df-edb18cc9-3aaa-46ca-bd46-86f99a0ff7a7');\n",
              "        const dataTable =\n",
              "          await google.colab.kernel.invokeFunction('convertToInteractive',\n",
              "                                                    [key], {});\n",
              "        if (!dataTable) return;\n",
              "\n",
              "        const docLinkHtml = 'Like what you see? Visit the ' +\n",
              "          '<a target=\"_blank\" href=https://colab.research.google.com/notebooks/data_table.ipynb>data table notebook</a>'\n",
              "          + ' to learn more about interactive tables.';\n",
              "        element.innerHTML = '';\n",
              "        dataTable['output_type'] = 'display_data';\n",
              "        await google.colab.output.renderOutput(dataTable, element);\n",
              "        const docLink = document.createElement('div');\n",
              "        docLink.innerHTML = docLinkHtml;\n",
              "        element.appendChild(docLink);\n",
              "      }\n",
              "    </script>\n",
              "  </div>\n",
              "\n",
              "\n",
              "<div id=\"df-f643bfeb-9c5c-41fe-82e4-0e0e48d5feec\">\n",
              "  <button class=\"colab-df-quickchart\" onclick=\"quickchart('df-f643bfeb-9c5c-41fe-82e4-0e0e48d5feec')\"\n",
              "            title=\"Suggest charts\"\n",
              "            style=\"display:none;\">\n",
              "\n",
              "<svg xmlns=\"http://www.w3.org/2000/svg\" height=\"24px\"viewBox=\"0 0 24 24\"\n",
              "     width=\"24px\">\n",
              "    <g>\n",
              "        <path d=\"M19 3H5c-1.1 0-2 .9-2 2v14c0 1.1.9 2 2 2h14c1.1 0 2-.9 2-2V5c0-1.1-.9-2-2-2zM9 17H7v-7h2v7zm4 0h-2V7h2v10zm4 0h-2v-4h2v4z\"/>\n",
              "    </g>\n",
              "</svg>\n",
              "  </button>\n",
              "\n",
              "<style>\n",
              "  .colab-df-quickchart {\n",
              "      --bg-color: #E8F0FE;\n",
              "      --fill-color: #1967D2;\n",
              "      --hover-bg-color: #E2EBFA;\n",
              "      --hover-fill-color: #174EA6;\n",
              "      --disabled-fill-color: #AAA;\n",
              "      --disabled-bg-color: #DDD;\n",
              "  }\n",
              "\n",
              "  [theme=dark] .colab-df-quickchart {\n",
              "      --bg-color: #3B4455;\n",
              "      --fill-color: #D2E3FC;\n",
              "      --hover-bg-color: #434B5C;\n",
              "      --hover-fill-color: #FFFFFF;\n",
              "      --disabled-bg-color: #3B4455;\n",
              "      --disabled-fill-color: #666;\n",
              "  }\n",
              "\n",
              "  .colab-df-quickchart {\n",
              "    background-color: var(--bg-color);\n",
              "    border: none;\n",
              "    border-radius: 50%;\n",
              "    cursor: pointer;\n",
              "    display: none;\n",
              "    fill: var(--fill-color);\n",
              "    height: 32px;\n",
              "    padding: 0;\n",
              "    width: 32px;\n",
              "  }\n",
              "\n",
              "  .colab-df-quickchart:hover {\n",
              "    background-color: var(--hover-bg-color);\n",
              "    box-shadow: 0 1px 2px rgba(60, 64, 67, 0.3), 0 1px 3px 1px rgba(60, 64, 67, 0.15);\n",
              "    fill: var(--button-hover-fill-color);\n",
              "  }\n",
              "\n",
              "  .colab-df-quickchart-complete:disabled,\n",
              "  .colab-df-quickchart-complete:disabled:hover {\n",
              "    background-color: var(--disabled-bg-color);\n",
              "    fill: var(--disabled-fill-color);\n",
              "    box-shadow: none;\n",
              "  }\n",
              "\n",
              "  .colab-df-spinner {\n",
              "    border: 2px solid var(--fill-color);\n",
              "    border-color: transparent;\n",
              "    border-bottom-color: var(--fill-color);\n",
              "    animation:\n",
              "      spin 1s steps(1) infinite;\n",
              "  }\n",
              "\n",
              "  @keyframes spin {\n",
              "    0% {\n",
              "      border-color: transparent;\n",
              "      border-bottom-color: var(--fill-color);\n",
              "      border-left-color: var(--fill-color);\n",
              "    }\n",
              "    20% {\n",
              "      border-color: transparent;\n",
              "      border-left-color: var(--fill-color);\n",
              "      border-top-color: var(--fill-color);\n",
              "    }\n",
              "    30% {\n",
              "      border-color: transparent;\n",
              "      border-left-color: var(--fill-color);\n",
              "      border-top-color: var(--fill-color);\n",
              "      border-right-color: var(--fill-color);\n",
              "    }\n",
              "    40% {\n",
              "      border-color: transparent;\n",
              "      border-right-color: var(--fill-color);\n",
              "      border-top-color: var(--fill-color);\n",
              "    }\n",
              "    60% {\n",
              "      border-color: transparent;\n",
              "      border-right-color: var(--fill-color);\n",
              "    }\n",
              "    80% {\n",
              "      border-color: transparent;\n",
              "      border-right-color: var(--fill-color);\n",
              "      border-bottom-color: var(--fill-color);\n",
              "    }\n",
              "    90% {\n",
              "      border-color: transparent;\n",
              "      border-bottom-color: var(--fill-color);\n",
              "    }\n",
              "  }\n",
              "</style>\n",
              "\n",
              "  <script>\n",
              "    async function quickchart(key) {\n",
              "      const quickchartButtonEl =\n",
              "        document.querySelector('#' + key + ' button');\n",
              "      quickchartButtonEl.disabled = true;  // To prevent multiple clicks.\n",
              "      quickchartButtonEl.classList.add('colab-df-spinner');\n",
              "      try {\n",
              "        const charts = await google.colab.kernel.invokeFunction(\n",
              "            'suggestCharts', [key], {});\n",
              "      } catch (error) {\n",
              "        console.error('Error during call to suggestCharts:', error);\n",
              "      }\n",
              "      quickchartButtonEl.classList.remove('colab-df-spinner');\n",
              "      quickchartButtonEl.classList.add('colab-df-quickchart-complete');\n",
              "    }\n",
              "    (() => {\n",
              "      let quickchartButtonEl =\n",
              "        document.querySelector('#df-f643bfeb-9c5c-41fe-82e4-0e0e48d5feec button');\n",
              "      quickchartButtonEl.style.display =\n",
              "        google.colab.kernel.accessAllowed ? 'block' : 'none';\n",
              "    })();\n",
              "  </script>\n",
              "</div>\n",
              "\n",
              "    </div>\n",
              "  </div>\n"
            ],
            "application/vnd.google.colaboratory.intrinsic+json": {
              "type": "dataframe",
              "variable_name": "X_scaled",
              "summary": "{\n  \"name\": \"X_scaled\",\n  \"rows\": 7032,\n  \"fields\": [\n    {\n      \"column\": \"gender\",\n      \"properties\": {\n        \"dtype\": \"number\",\n        \"std\": 0.5000135308251334,\n        \"min\": 0.0,\n        \"max\": 1.0,\n        \"num_unique_values\": 2,\n        \"samples\": [\n          1.0,\n          0.0\n        ],\n        \"semantic_type\": \"\",\n        \"description\": \"\"\n      }\n    },\n    {\n      \"column\": \"SeniorCitizen\",\n      \"properties\": {\n        \"dtype\": \"number\",\n        \"std\": 0.3688439967571051,\n        \"min\": 0.0,\n        \"max\": 1.0,\n        \"num_unique_values\": 2,\n        \"samples\": [\n          1.0,\n          0.0\n        ],\n        \"semantic_type\": \"\",\n        \"description\": \"\"\n      }\n    },\n    {\n      \"column\": \"Partner\",\n      \"properties\": {\n        \"dtype\": \"number\",\n        \"std\": 0.4997294886907991,\n        \"min\": 0.0,\n        \"max\": 1.0,\n        \"num_unique_values\": 2,\n        \"samples\": [\n          0.0,\n          1.0\n        ],\n        \"semantic_type\": \"\",\n        \"description\": \"\"\n      }\n    },\n    {\n      \"column\": \"Dependents\",\n      \"properties\": {\n        \"dtype\": \"number\",\n        \"std\": 0.45762927299583706,\n        \"min\": 0.0,\n        \"max\": 1.0,\n        \"num_unique_values\": 2,\n        \"samples\": [\n          1.0,\n          0.0\n        ],\n        \"semantic_type\": \"\",\n        \"description\": \"\"\n      }\n    },\n    {\n      \"column\": \"tenure\",\n      \"properties\": {\n        \"dtype\": \"number\",\n        \"std\": 0.34570788322905993,\n        \"min\": 0.0,\n        \"max\": 1.0,\n        \"num_unique_values\": 72,\n        \"samples\": [\n          0.09859154929577466,\n          0.7323943661971831\n        ],\n        \"semantic_type\": \"\",\n        \"description\": \"\"\n      }\n    },\n    {\n      \"column\": \"PhoneService\",\n      \"properties\": {\n        \"dtype\": \"number\",\n        \"std\": 0.2955709320291018,\n        \"min\": 0.0,\n        \"max\": 1.0,\n        \"num_unique_values\": 2,\n        \"samples\": [\n          1.0,\n          0.0\n        ],\n        \"semantic_type\": \"\",\n        \"description\": \"\"\n      }\n    },\n    {\n      \"column\": \"MultipleLines\",\n      \"properties\": {\n        \"dtype\": \"number\",\n        \"std\": 0.4743136510595912,\n        \"min\": 0.0,\n        \"max\": 1.0,\n        \"num_unique_values\": 3,\n        \"samples\": [\n          0.5,\n          0.0\n        ],\n        \"semantic_type\": \"\",\n        \"description\": \"\"\n      }\n    },\n    {\n      \"column\": \"InternetService\",\n      \"properties\": {\n        \"dtype\": \"number\",\n        \"std\": 0.36863567293085964,\n        \"min\": 0.0,\n        \"max\": 1.0,\n        \"num_unique_values\": 3,\n        \"samples\": [\n          0.0,\n          0.5\n        ],\n        \"semantic_type\": \"\",\n        \"description\": \"\"\n      }\n    },\n    {\n      \"column\": \"OnlineSecurity\",\n      \"properties\": {\n        \"dtype\": \"number\",\n        \"std\": 0.4299809657441246,\n        \"min\": 0.0,\n        \"max\": 1.0,\n        \"num_unique_values\": 3,\n        \"samples\": [\n          0.0,\n          1.0\n        ],\n        \"semantic_type\": \"\",\n        \"description\": \"\"\n      }\n    },\n    {\n      \"column\": \"OnlineBackup\",\n      \"properties\": {\n        \"dtype\": \"number\",\n        \"std\": 0.44019682003190946,\n        \"min\": 0.0,\n        \"max\": 1.0,\n        \"num_unique_values\": 3,\n        \"samples\": [\n          1.0,\n          0.0\n        ],\n        \"semantic_type\": \"\",\n        \"description\": \"\"\n      }\n    },\n    {\n      \"column\": \"DeviceProtection\",\n      \"properties\": {\n        \"dtype\": \"number\",\n        \"std\": 0.4400892219865066,\n        \"min\": 0.0,\n        \"max\": 1.0,\n        \"num_unique_values\": 3,\n        \"samples\": [\n          0.0,\n          1.0\n        ],\n        \"semantic_type\": \"\",\n        \"description\": \"\"\n      }\n    },\n    {\n      \"column\": \"TechSupport\",\n      \"properties\": {\n        \"dtype\": \"number\",\n        \"std\": 0.4308368053415544,\n        \"min\": 0.0,\n        \"max\": 1.0,\n        \"num_unique_values\": 3,\n        \"samples\": [\n          0.0,\n          1.0\n        ],\n        \"semantic_type\": \"\",\n        \"description\": \"\"\n      }\n    },\n    {\n      \"column\": \"StreamingTV\",\n      \"properties\": {\n        \"dtype\": \"number\",\n        \"std\": 0.44264249307183473,\n        \"min\": 0.0,\n        \"max\": 1.0,\n        \"num_unique_values\": 3,\n        \"samples\": [\n          0.0,\n          1.0\n        ],\n        \"semantic_type\": \"\",\n        \"description\": \"\"\n      }\n    },\n    {\n      \"column\": \"StreamingMovies\",\n      \"properties\": {\n        \"dtype\": \"number\",\n        \"std\": 0.4426923871610464,\n        \"min\": 0.0,\n        \"max\": 1.0,\n        \"num_unique_values\": 3,\n        \"samples\": [\n          0.0,\n          1.0\n        ],\n        \"semantic_type\": \"\",\n        \"description\": \"\"\n      }\n    },\n    {\n      \"column\": \"Contract\",\n      \"properties\": {\n        \"dtype\": \"number\",\n        \"std\": 0.41646701117854135,\n        \"min\": 0.0,\n        \"max\": 1.0,\n        \"num_unique_values\": 3,\n        \"samples\": [\n          0.0,\n          0.5\n        ],\n        \"semantic_type\": \"\",\n        \"description\": \"\"\n      }\n    },\n    {\n      \"column\": \"PaperlessBilling\",\n      \"properties\": {\n        \"dtype\": \"number\",\n        \"std\": 0.49136292225652883,\n        \"min\": 0.0,\n        \"max\": 1.0,\n        \"num_unique_values\": 2,\n        \"samples\": [\n          0.0,\n          1.0\n        ],\n        \"semantic_type\": \"\",\n        \"description\": \"\"\n      }\n    },\n    {\n      \"column\": \"PaymentMethod\",\n      \"properties\": {\n        \"dtype\": \"number\",\n        \"std\": 0.35583473540716615,\n        \"min\": 0.0,\n        \"max\": 1.0,\n        \"num_unique_values\": 4,\n        \"samples\": [\n          1.0,\n          0.3333333333333333\n        ],\n        \"semantic_type\": \"\",\n        \"description\": \"\"\n      }\n    },\n    {\n      \"column\": \"MonthlyCharges\",\n      \"properties\": {\n        \"dtype\": \"number\",\n        \"std\": 0.2993629242194014,\n        \"min\": 0.0,\n        \"max\": 0.9999999999999999,\n        \"num_unique_values\": 1584,\n        \"samples\": [\n          0.8417910447761193,\n          0.01791044776119402\n        ],\n        \"semantic_type\": \"\",\n        \"description\": \"\"\n      }\n    },\n    {\n      \"column\": \"TotalCharges\",\n      \"properties\": {\n        \"dtype\": \"number\",\n        \"std\": 0.26157066257594563,\n        \"min\": 0.0,\n        \"max\": 0.9999999999999999,\n        \"num_unique_values\": 6530,\n        \"samples\": [\n          0.6433417955227325,\n          0.7872317101315486\n        ],\n        \"semantic_type\": \"\",\n        \"description\": \"\"\n      }\n    }\n  ]\n}"
            }
          },
          "metadata": {},
          "execution_count": 41
        }
      ]
    },
    {
      "cell_type": "markdown",
      "source": [
        "Now lets splitting the data in Train and Test sets for evaluation:"
      ],
      "metadata": {
        "id": "EBwbuujCEqOl"
      }
    },
    {
      "cell_type": "code",
      "source": [
        "X_train, X_test, y_train, y_test = train_test_split(X_scaled, y, test_size=0.3, random_state=101)"
      ],
      "metadata": {
        "id": "xeRUABJdEKzv",
        "execution": {
          "iopub.status.busy": "2024-03-19T16:11:04.058264Z",
          "iopub.execute_input": "2024-03-19T16:11:04.058651Z",
          "iopub.status.idle": "2024-03-19T16:11:04.070306Z",
          "shell.execute_reply.started": "2024-03-19T16:11:04.05862Z",
          "shell.execute_reply": "2024-03-19T16:11:04.069024Z"
        },
        "trusted": true
      },
      "execution_count": 44,
      "outputs": []
    },
    {
      "cell_type": "code",
      "source": [
        "folder = KFold(n_splits=5)\n",
        "def classify(model, X_train, y_train):\n",
        "  model_cross_val = cross_val_score(model , X_train, y_train, cv = folder)\n",
        "  print(\"Model: \",model ,\"and Cross Validation Score(mean): \" , model_cross_val.mean())"
      ],
      "metadata": {
        "id": "Qp3ua162bmWk",
        "execution": {
          "iopub.status.busy": "2024-03-19T16:11:04.071975Z",
          "iopub.execute_input": "2024-03-19T16:11:04.072348Z",
          "iopub.status.idle": "2024-03-19T16:11:04.084057Z",
          "shell.execute_reply.started": "2024-03-19T16:11:04.072317Z",
          "shell.execute_reply": "2024-03-19T16:11:04.082792Z"
        },
        "trusted": true
      },
      "execution_count": 46,
      "outputs": []
    },
    {
      "cell_type": "code",
      "source": [
        "rand_grid = RandomForestClassifier()\n",
        "rand_param_grid = {\n",
        "    'n_estimators': [100,500,1000],\n",
        "    'max_features': ['sqrt', 'log2'],\n",
        "    'max_depth' : [10,20,30],\n",
        "    'criterion' :['gini', 'entropy','log_loss']\n",
        "}\n",
        "\n",
        "CV_rand = RandomizedSearchCV(estimator=rand_grid, param_distributions = rand_param_grid)\n",
        "CV_rand.fit(X_train, y_train)\n",
        "print(CV_rand.best_params_)"
      ],
      "metadata": {
        "id": "6lXb9VFmfDmR",
        "execution": {
          "iopub.status.busy": "2024-03-19T16:11:04.085717Z",
          "iopub.execute_input": "2024-03-19T16:11:04.086168Z",
          "iopub.status.idle": "2024-03-19T16:14:37.847738Z",
          "shell.execute_reply.started": "2024-03-19T16:11:04.086127Z",
          "shell.execute_reply": "2024-03-19T16:14:37.846473Z"
        },
        "trusted": true,
        "colab": {
          "base_uri": "https://localhost:8080/"
        },
        "outputId": "f6ad6382-7d3b-453d-c73f-79f92714a0a6"
      },
      "execution_count": 49,
      "outputs": [
        {
          "output_type": "stream",
          "name": "stdout",
          "text": [
            "{'n_estimators': 500, 'max_features': 'sqrt', 'max_depth': 10, 'criterion': 'entropy'}\n"
          ]
        }
      ]
    },
    {
      "cell_type": "code",
      "source": [
        "svc_grid = SVC()\n",
        "svc_param_grid = {\n",
        "    'kernel':['linear', 'rbf', 'sigmoid', 'poly'],\n",
        "    'C':[0.5,1,1.5]\n",
        "    }\n",
        "\n",
        "CV_svc = GridSearchCV(estimator=svc_grid, param_grid=svc_param_grid, cv= 5)\n",
        "CV_svc.fit(X_train, y_train)\n",
        "print(CV_svc.best_params_)"
      ],
      "metadata": {
        "id": "XmU4nE8nfPzh",
        "execution": {
          "iopub.status.busy": "2024-03-19T16:14:37.849561Z",
          "iopub.execute_input": "2024-03-19T16:14:37.849988Z",
          "iopub.status.idle": "2024-03-19T16:15:11.052554Z",
          "shell.execute_reply.started": "2024-03-19T16:14:37.84995Z",
          "shell.execute_reply": "2024-03-19T16:15:11.051322Z"
        },
        "trusted": true,
        "colab": {
          "base_uri": "https://localhost:8080/"
        },
        "outputId": "ce247ce3-41cc-46e7-b06a-c7924ead2783"
      },
      "execution_count": 58,
      "outputs": [
        {
          "output_type": "stream",
          "name": "stdout",
          "text": [
            "{'C': 0.5, 'kernel': 'linear'}\n"
          ]
        }
      ]
    },
    {
      "cell_type": "code",
      "source": [
        "GB_grid = GradientBoostingClassifier()\n",
        "GB_param_grid = {\n",
        "    'loss' : ['exponential','log_loss'],\n",
        "    'n_estimators' :[100,300,500],\n",
        "    'max_depth' : [3,4,5]\n",
        "}\n",
        "CV_GB = RandomizedSearchCV(estimator=GB_grid, param_distributions = GB_param_grid)\n",
        "CV_GB.fit(X_train, y_train)\n",
        "print(CV_GB.best_params_)"
      ],
      "metadata": {
        "id": "SNgfp2y5f-LI",
        "execution": {
          "iopub.status.busy": "2024-03-19T16:15:11.053756Z",
          "iopub.execute_input": "2024-03-19T16:15:11.054069Z",
          "iopub.status.idle": "2024-03-19T16:17:22.807054Z",
          "shell.execute_reply.started": "2024-03-19T16:15:11.054042Z",
          "shell.execute_reply": "2024-03-19T16:17:22.805843Z"
        },
        "trusted": true,
        "colab": {
          "base_uri": "https://localhost:8080/"
        },
        "outputId": "eaa12fe6-831b-4460-86c4-eae88a8562e9"
      },
      "execution_count": 59,
      "outputs": [
        {
          "output_type": "stream",
          "name": "stdout",
          "text": [
            "{'n_estimators': 100, 'max_depth': 3, 'loss': 'log_loss'}\n"
          ]
        }
      ]
    },
    {
      "cell_type": "code",
      "source": [
        "model_list = []\n",
        "\n",
        "#Naive Bayes\n",
        "clf= MultinomialNB()\n",
        "model_list.append(clf)\n",
        "\n",
        "#Logistic Regression\n",
        "lg = LogisticRegression(C = 1.5, max_iter=200)\n",
        "model_list.append(lg)\n",
        "\n",
        "#Random Forest\n",
        "rf = RandomForestClassifier(n_estimators= 100,criterion = 'gini', max_depth = 10, max_features = 'log2')\n",
        "model_list.append(rf)\n",
        "\n",
        "#Support Vector Machine\n",
        "svm = SVC(C =0.5 ,kernel='linear')\n",
        "model_list.append(svm)\n",
        "\n",
        "#KNN\n",
        "KNN = KNeighborsClassifier()\n",
        "model_list.append(KNN)\n",
        "\n",
        "#Gradient Boosting\n",
        "GB = GradientBoostingClassifier(n_estimators= 100, max_depth= 3, loss = 'log_loss')\n",
        "model_list.append(GB)"
      ],
      "metadata": {
        "id": "qsCUMZjId56X",
        "execution": {
          "iopub.status.busy": "2024-03-19T16:18:34.625399Z",
          "iopub.execute_input": "2024-03-19T16:18:34.625958Z",
          "iopub.status.idle": "2024-03-19T16:18:34.636208Z",
          "shell.execute_reply.started": "2024-03-19T16:18:34.625916Z",
          "shell.execute_reply": "2024-03-19T16:18:34.634744Z"
        },
        "trusted": true
      },
      "execution_count": 60,
      "outputs": []
    },
    {
      "cell_type": "markdown",
      "source": [
        "We are utilizing six distinct models, each built on a unique algorithm. The top-performing model among the six will be selected for further evaluation.\n",
        "\n",
        "\n",
        "\n",
        "\n"
      ],
      "metadata": {
        "id": "cxSkbsKjE31G"
      }
    },
    {
      "cell_type": "markdown",
      "source": [
        "## Using all the features:"
      ],
      "metadata": {
        "id": "c-lYJwuAltF_"
      }
    },
    {
      "cell_type": "code",
      "source": [
        "for model in model_list:\n",
        "  classify(model,X_train,y_train)"
      ],
      "metadata": {
        "id": "J0K2_UjNk_ow",
        "execution": {
          "iopub.status.busy": "2024-03-19T16:18:38.0382Z",
          "iopub.execute_input": "2024-03-19T16:18:38.038725Z",
          "iopub.status.idle": "2024-03-19T16:18:47.811959Z",
          "shell.execute_reply.started": "2024-03-19T16:18:38.038683Z",
          "shell.execute_reply": "2024-03-19T16:18:47.810582Z"
        },
        "trusted": true,
        "colab": {
          "base_uri": "https://localhost:8080/"
        },
        "outputId": "52df1c5c-1e9e-4760-875e-3bdd7f77fceb"
      },
      "execution_count": 61,
      "outputs": [
        {
          "output_type": "stream",
          "name": "stdout",
          "text": [
            "Model:  MultinomialNB() and Cross Validation Score(mean):  0.7805779786224258\n",
            "Model:  LogisticRegression(C=1.5, max_iter=200) and Cross Validation Score(mean):  0.8004869794890842\n",
            "Model:  RandomForestClassifier(max_depth=10, max_features='log2') and Cross Validation Score(mean):  0.7943923073748504\n",
            "Model:  SVC(C=0.5, kernel='linear') and Cross Validation Score(mean):  0.79357764846684\n",
            "Model:  KNeighborsClassifier() and Cross Validation Score(mean):  0.7494950683009369\n",
            "Model:  GradientBoostingClassifier() and Cross Validation Score(mean):  0.8004873921835666\n"
          ]
        }
      ]
    },
    {
      "cell_type": "markdown",
      "source": [
        "The Gradient Boosting Classifier and the Logistic Regression Classifier both perform comparably on the dataset. However, the Gradient Boosting Classifier has a slight edge over Logistic Regression, so we will use it for further evaluation."
      ],
      "metadata": {
        "id": "jYrfyO3FlL5z"
      }
    },
    {
      "cell_type": "code",
      "source": [
        "GB =GradientBoostingClassifier()\n",
        "GB.fit(X_train, y_train)\n",
        "y_pred = GB.predict(X_test)\n",
        "print(metrics.classification_report(y_test, y_pred))\n",
        "cm=confusion_matrix(y_test, y_pred)\n",
        "ax= plt.subplot()\n",
        "sns.heatmap(cm, annot=True, fmt='g', ax=ax);\n",
        "ax.set_xlabel('Predicted labels');ax.set_ylabel('True labels');\n",
        "ax.set_title('Confusion Matrix Test Set');"
      ],
      "metadata": {
        "id": "G19mXkzIwRcL",
        "execution": {
          "iopub.status.busy": "2024-03-19T16:18:55.411774Z",
          "iopub.execute_input": "2024-03-19T16:18:55.41218Z",
          "iopub.status.idle": "2024-03-19T16:18:56.642899Z",
          "shell.execute_reply.started": "2024-03-19T16:18:55.412145Z",
          "shell.execute_reply": "2024-03-19T16:18:56.641317Z"
        },
        "trusted": true,
        "colab": {
          "base_uri": "https://localhost:8080/",
          "height": 628
        },
        "outputId": "03675aeb-d0c4-453c-8f02-eb59d6ca561f"
      },
      "execution_count": 62,
      "outputs": [
        {
          "output_type": "stream",
          "name": "stdout",
          "text": [
            "              precision    recall  f1-score   support\n",
            "\n",
            "           0       0.85      0.90      0.87      1580\n",
            "           1       0.64      0.52      0.57       530\n",
            "\n",
            "    accuracy                           0.81      2110\n",
            "   macro avg       0.74      0.71      0.72      2110\n",
            "weighted avg       0.80      0.81      0.80      2110\n",
            "\n"
          ]
        },
        {
          "output_type": "display_data",
          "data": {
            "text/plain": [
              "<Figure size 640x480 with 2 Axes>"
            ],
            "image/png": "[encoded data removed]"
          },
          "metadata": {}
        }
      ]
    },
    {
      "cell_type": "markdown",
      "source": [
        "The Gradient Boosting Classifier achieved an accuracy of 81% on the test set, demonstrating solid performance in our evaluation."
      ],
      "metadata": {
        "id": "DA1cOr1o04ai"
      }
    },
    {
      "cell_type": "markdown",
      "source": [
        "To balance the dataset, we will use the RandomOverSampler technique, which ensures that both classes have an equal number of entries, achieving a consistent proportion between them."
      ],
      "metadata": {
        "id": "PL1oJo_clWY5"
      }
    },
    {
      "cell_type": "code",
      "source": [
        "oversample = RandomOverSampler(random_state = 101)\n",
        "X_train_over, y_train_over = oversample.fit_resample(X_train, y_train)"
      ],
      "metadata": {
        "id": "3OADRunhHsoi",
        "execution": {
          "iopub.status.busy": "2024-03-19T16:18:56.645082Z",
          "iopub.execute_input": "2024-03-19T16:18:56.645477Z",
          "iopub.status.idle": "2024-03-19T16:18:56.659416Z",
          "shell.execute_reply.started": "2024-03-19T16:18:56.645445Z",
          "shell.execute_reply": "2024-03-19T16:18:56.658557Z"
        },
        "trusted": true
      },
      "execution_count": 63,
      "outputs": []
    },
    {
      "cell_type": "markdown",
      "source": [
        "## Using All features and the balanced data:"
      ],
      "metadata": {
        "id": "Ze62atUImEy_"
      }
    },
    {
      "cell_type": "code",
      "source": [
        "for model in model_list:\n",
        "  classify(model,X_train_over,y_train_over)"
      ],
      "metadata": {
        "id": "29VbdgP8mBfm",
        "execution": {
          "iopub.status.busy": "2024-03-19T16:18:56.660617Z",
          "iopub.execute_input": "2024-03-19T16:18:56.661238Z",
          "iopub.status.idle": "2024-03-19T16:19:12.323535Z",
          "shell.execute_reply.started": "2024-03-19T16:18:56.661204Z",
          "shell.execute_reply": "2024-03-19T16:19:12.322194Z"
        },
        "trusted": true,
        "colab": {
          "base_uri": "https://localhost:8080/"
        },
        "outputId": "71371147-deb6-47b9-8384-56d5e6fa6151"
      },
      "execution_count": 64,
      "outputs": [
        {
          "output_type": "stream",
          "name": "stdout",
          "text": [
            "Model:  MultinomialNB() and Cross Validation Score(mean):  0.7015073078199562\n",
            "Model:  LogisticRegression(C=1.5, max_iter=200) and Cross Validation Score(mean):  0.735280463200063\n",
            "Model:  RandomForestClassifier(max_depth=10, max_features='log2') and Cross Validation Score(mean):  0.8336651220824927\n",
            "Model:  SVC(C=0.5, kernel='linear') and Cross Validation Score(mean):  0.7146287790972115\n",
            "Model:  KNeighborsClassifier() and Cross Validation Score(mean):  0.7238416835286205\n",
            "Model:  GradientBoostingClassifier() and Cross Validation Score(mean):  0.7521650943442134\n"
          ]
        }
      ]
    },
    {
      "cell_type": "markdown",
      "source": [
        "The Random Forest Classifier outperforms other models when working with balanced data. This model's advantage is its ability to handle complex relationships and interactions among features, making it particularly effective when the dataset has been balanced to ensure each class has a similar number of samples. The balancing process allows the Random Forest Classifier to better identify patterns without being biased toward the majority class, leading to improved performance compared to other models."
      ],
      "metadata": {
        "id": "_zHqcyj4wsbD"
      }
    },
    {
      "cell_type": "code",
      "source": [
        "rf = RandomForestClassifier(n_estimators= 500,criterion = 'log_loss', max_depth = 10, max_features = 'sqrt')\n",
        "rf.fit(X_train_over, y_train_over)\n",
        "y_pred = rf.predict(X_test)\n",
        "print(metrics.classification_report(y_test, y_pred))\n",
        "cm=confusion_matrix(y_test, y_pred)\n",
        "ax= plt.subplot()\n",
        "sns.heatmap(cm, annot=True, fmt='g', ax=ax);\n",
        "ax.set_xlabel('Predicted labels');ax.set_ylabel('True labels');\n",
        "ax.set_title('Confusion Matrix Test Set');"
      ],
      "metadata": {
        "id": "ikSmmJIiw4nr",
        "execution": {
          "iopub.status.busy": "2024-03-19T16:19:12.327948Z",
          "iopub.execute_input": "2024-03-19T16:19:12.328726Z",
          "iopub.status.idle": "2024-03-19T16:19:17.652407Z",
          "shell.execute_reply.started": "2024-03-19T16:19:12.328691Z",
          "shell.execute_reply": "2024-03-19T16:19:17.651253Z"
        },
        "trusted": true,
        "colab": {
          "base_uri": "https://localhost:8080/",
          "height": 628
        },
        "outputId": "da8d50ba-4fdf-48ff-b019-975038d6e6d0"
      },
      "execution_count": 65,
      "outputs": [
        {
          "output_type": "stream",
          "name": "stdout",
          "text": [
            "              precision    recall  f1-score   support\n",
            "\n",
            "           0       0.89      0.78      0.83      1580\n",
            "           1       0.52      0.72      0.61       530\n",
            "\n",
            "    accuracy                           0.77      2110\n",
            "   macro avg       0.71      0.75      0.72      2110\n",
            "weighted avg       0.80      0.77      0.78      2110\n",
            "\n"
          ]
        },
        {
          "output_type": "display_data",
          "data": {
            "text/plain": [
              "<Figure size 640x480 with 2 Axes>"
            ],
            "image/png": "[encoded data removed]"
          },
          "metadata": {}
        }
      ]
    },
    {
      "cell_type": "markdown",
      "source": [
        "The Random Forest Classifier achieved a 77% accuracy on the test set, which is lower than the accuracy of the Gradient Boosting Classifier when trained on unbalanced data."
      ],
      "metadata": {
        "id": "-MY1MD571ZZU"
      }
    },
    {
      "cell_type": "markdown",
      "source": [
        "## Now lets Use important features\n",
        "\n",
        "1.   List item\n",
        "2.   List item\n",
        "\n"
      ],
      "metadata": {
        "id": "R0fzzf5p8tX7"
      }
    },
    {
      "cell_type": "code",
      "source": [
        "GB_weights = pd.Series(GB.feature_importances_, index=X_train.columns.values)\n",
        "rf_weights = pd.Series(rf.feature_importances_, index=X_train.columns.values)\n",
        "weights = pd.concat([GB_weights,rf_weights], axis=1)"
      ],
      "metadata": {
        "id": "luYlicZE21aJ",
        "execution": {
          "iopub.status.busy": "2024-03-19T16:19:17.653854Z",
          "iopub.execute_input": "2024-03-19T16:19:17.654207Z",
          "iopub.status.idle": "2024-03-19T16:19:17.699453Z",
          "shell.execute_reply.started": "2024-03-19T16:19:17.654177Z",
          "shell.execute_reply": "2024-03-19T16:19:17.69819Z"
        },
        "trusted": true
      },
      "execution_count": 66,
      "outputs": []
    },
    {
      "cell_type": "code",
      "source": [
        "weights.sort_values(by=[0], ascending = False)"
      ],
      "metadata": {
        "id": "CfCteF2A3YJx",
        "execution": {
          "iopub.status.busy": "2024-03-19T16:19:17.701211Z",
          "iopub.execute_input": "2024-03-19T16:19:17.701615Z",
          "iopub.status.idle": "2024-03-19T16:19:17.716057Z",
          "shell.execute_reply.started": "2024-03-19T16:19:17.701582Z",
          "shell.execute_reply": "2024-03-19T16:19:17.714764Z"
        },
        "trusted": true,
        "colab": {
          "base_uri": "https://localhost:8080/",
          "height": 645
        },
        "outputId": "bbdd1767-becf-46c7-c747-83ad21493ba1"
      },
      "execution_count": 67,
      "outputs": [
        {
          "output_type": "execute_result",
          "data": {
            "text/plain": [
              "                         0         1\n",
              "Contract          0.415914  0.172052\n",
              "tenure            0.142910  0.154375\n",
              "MonthlyCharges    0.139624  0.133020\n",
              "TotalCharges      0.095168  0.142518\n",
              "OnlineSecurity    0.064642  0.059105\n",
              "TechSupport       0.061792  0.064838\n",
              "PaymentMethod     0.014812  0.040243\n",
              "PaperlessBilling  0.014114  0.020382\n",
              "InternetService   0.013672  0.047950\n",
              "OnlineBackup      0.010194  0.026923\n",
              "SeniorCitizen     0.009610  0.015629\n",
              "MultipleLines     0.004644  0.016560\n",
              "Dependents        0.003058  0.015822\n",
              "StreamingTV       0.002406  0.014958\n",
              "StreamingMovies   0.002387  0.013976\n",
              "DeviceProtection  0.002106  0.024529\n",
              "gender            0.001538  0.016279\n",
              "PhoneService      0.001287  0.006113\n",
              "Partner           0.000121  0.014728"
            ],
            "text/html": [
              "\n",
              "  <div id=\"df-8100fe87-a2ff-4ee1-8601-6b90b486a518\" class=\"colab-df-container\">\n",
              "    <div>\n",
              "<style scoped>\n",
              "    .dataframe tbody tr th:only-of-type {\n",
              "        vertical-align: middle;\n",
              "    }\n",
              "\n",
              "    .dataframe tbody tr th {\n",
              "        vertical-align: top;\n",
              "    }\n",
              "\n",
              "    .dataframe thead th {\n",
              "        text-align: right;\n",
              "    }\n",
              "</style>\n",
              "<table border=\"1\" class=\"dataframe\">\n",
              "  <thead>\n",
              "    <tr style=\"text-align: right;\">\n",
              "      <th></th>\n",
              "      <th>0</th>\n",
              "      <th>1</th>\n",
              "    </tr>\n",
              "  </thead>\n",
              "  <tbody>\n",
              "    <tr>\n",
              "      <th>Contract</th>\n",
              "      <td>0.415914</td>\n",
              "      <td>0.172052</td>\n",
              "    </tr>\n",
              "    <tr>\n",
              "      <th>tenure</th>\n",
              "      <td>0.142910</td>\n",
              "      <td>0.154375</td>\n",
              "    </tr>\n",
              "    <tr>\n",
              "      <th>MonthlyCharges</th>\n",
              "      <td>0.139624</td>\n",
              "      <td>0.133020</td>\n",
              "    </tr>\n",
              "    <tr>\n",
              "      <th>TotalCharges</th>\n",
              "      <td>0.095168</td>\n",
              "      <td>0.142518</td>\n",
              "    </tr>\n",
              "    <tr>\n",
              "      <th>OnlineSecurity</th>\n",
              "      <td>0.064642</td>\n",
              "      <td>0.059105</td>\n",
              "    </tr>\n",
              "    <tr>\n",
              "      <th>TechSupport</th>\n",
              "      <td>0.061792</td>\n",
              "      <td>0.064838</td>\n",
              "    </tr>\n",
              "    <tr>\n",
              "      <th>PaymentMethod</th>\n",
              "      <td>0.014812</td>\n",
              "      <td>0.040243</td>\n",
              "    </tr>\n",
              "    <tr>\n",
              "      <th>PaperlessBilling</th>\n",
              "      <td>0.014114</td>\n",
              "      <td>0.020382</td>\n",
              "    </tr>\n",
              "    <tr>\n",
              "      <th>InternetService</th>\n",
              "      <td>0.013672</td>\n",
              "      <td>0.047950</td>\n",
              "    </tr>\n",
              "    <tr>\n",
              "      <th>OnlineBackup</th>\n",
              "      <td>0.010194</td>\n",
              "      <td>0.026923</td>\n",
              "    </tr>\n",
              "    <tr>\n",
              "      <th>SeniorCitizen</th>\n",
              "      <td>0.009610</td>\n",
              "      <td>0.015629</td>\n",
              "    </tr>\n",
              "    <tr>\n",
              "      <th>MultipleLines</th>\n",
              "      <td>0.004644</td>\n",
              "      <td>0.016560</td>\n",
              "    </tr>\n",
              "    <tr>\n",
              "      <th>Dependents</th>\n",
              "      <td>0.003058</td>\n",
              "      <td>0.015822</td>\n",
              "    </tr>\n",
              "    <tr>\n",
              "      <th>StreamingTV</th>\n",
              "      <td>0.002406</td>\n",
              "      <td>0.014958</td>\n",
              "    </tr>\n",
              "    <tr>\n",
              "      <th>StreamingMovies</th>\n",
              "      <td>0.002387</td>\n",
              "      <td>0.013976</td>\n",
              "    </tr>\n",
              "    <tr>\n",
              "      <th>DeviceProtection</th>\n",
              "      <td>0.002106</td>\n",
              "      <td>0.024529</td>\n",
              "    </tr>\n",
              "    <tr>\n",
              "      <th>gender</th>\n",
              "      <td>0.001538</td>\n",
              "      <td>0.016279</td>\n",
              "    </tr>\n",
              "    <tr>\n",
              "      <th>PhoneService</th>\n",
              "      <td>0.001287</td>\n",
              "      <td>0.006113</td>\n",
              "    </tr>\n",
              "    <tr>\n",
              "      <th>Partner</th>\n",
              "      <td>0.000121</td>\n",
              "      <td>0.014728</td>\n",
              "    </tr>\n",
              "  </tbody>\n",
              "</table>\n",
              "</div>\n",
              "    <div class=\"colab-df-buttons\">\n",
              "\n",
              "  <div class=\"colab-df-container\">\n",
              "    <button class=\"colab-df-convert\" onclick=\"convertToInteractive('df-8100fe87-a2ff-4ee1-8601-6b90b486a518')\"\n",
              "            title=\"Convert this dataframe to an interactive table.\"\n",
              "            style=\"display:none;\">\n",
              "\n",
              "  <svg xmlns=\"http://www.w3.org/2000/svg\" height=\"24px\" viewBox=\"0 -960 960 960\">\n",
              "    <path d=\"M120-120v-720h720v720H120Zm60-500h600v-160H180v160Zm220 220h160v-160H400v160Zm0 220h160v-160H400v160ZM180-400h160v-160H180v160Zm440 0h160v-160H620v160ZM180-180h160v-160H180v160Zm440 0h160v-160H620v160Z\"/>\n",
              "  </svg>\n",
              "    </button>\n",
              "\n",
              "  <style>\n",
              "    .colab-df-container {\n",
              "      display:flex;\n",
              "      gap: 12px;\n",
              "    }\n",
              "\n",
              "    .colab-df-convert {\n",
              "      background-color: #E8F0FE;\n",
              "      border: none;\n",
              "      border-radius: 50%;\n",
              "      cursor: pointer;\n",
              "      display: none;\n",
              "      fill: #1967D2;\n",
              "      height: 32px;\n",
              "      padding: 0 0 0 0;\n",
              "      width: 32px;\n",
              "    }\n",
              "\n",
              "    .colab-df-convert:hover {\n",
              "      background-color: #E2EBFA;\n",
              "      box-shadow: 0px 1px 2px rgba(60, 64, 67, 0.3), 0px 1px 3px 1px rgba(60, 64, 67, 0.15);\n",
              "      fill: #174EA6;\n",
              "    }\n",
              "\n",
              "    .colab-df-buttons div {\n",
              "      margin-bottom: 4px;\n",
              "    }\n",
              "\n",
              "    [theme=dark] .colab-df-convert {\n",
              "      background-color: #3B4455;\n",
              "      fill: #D2E3FC;\n",
              "    }\n",
              "\n",
              "    [theme=dark] .colab-df-convert:hover {\n",
              "      background-color: #434B5C;\n",
              "      box-shadow: 0px 1px 3px 1px rgba(0, 0, 0, 0.15);\n",
              "      filter: drop-shadow(0px 1px 2px rgba(0, 0, 0, 0.3));\n",
              "      fill: #FFFFFF;\n",
              "    }\n",
              "  </style>\n",
              "\n",
              "    <script>\n",
              "      const buttonEl =\n",
              "        document.querySelector('#df-8100fe87-a2ff-4ee1-8601-6b90b486a518 button.colab-df-convert');\n",
              "      buttonEl.style.display =\n",
              "        google.colab.kernel.accessAllowed ? 'block' : 'none';\n",
              "\n",
              "      async function convertToInteractive(key) {\n",
              "        const element = document.querySelector('#df-8100fe87-a2ff-4ee1-8601-6b90b486a518');\n",
              "        const dataTable =\n",
              "          await google.colab.kernel.invokeFunction('convertToInteractive',\n",
              "                                                    [key], {});\n",
              "        if (!dataTable) return;\n",
              "\n",
              "        const docLinkHtml = 'Like what you see? Visit the ' +\n",
              "          '<a target=\"_blank\" href=https://colab.research.google.com/notebooks/data_table.ipynb>data table notebook</a>'\n",
              "          + ' to learn more about interactive tables.';\n",
              "        element.innerHTML = '';\n",
              "        dataTable['output_type'] = 'display_data';\n",
              "        await google.colab.output.renderOutput(dataTable, element);\n",
              "        const docLink = document.createElement('div');\n",
              "        docLink.innerHTML = docLinkHtml;\n",
              "        element.appendChild(docLink);\n",
              "      }\n",
              "    </script>\n",
              "  </div>\n",
              "\n",
              "\n",
              "<div id=\"df-eec56a9c-8e3a-4bb4-ac62-5a64b26655c6\">\n",
              "  <button class=\"colab-df-quickchart\" onclick=\"quickchart('df-eec56a9c-8e3a-4bb4-ac62-5a64b26655c6')\"\n",
              "            title=\"Suggest charts\"\n",
              "            style=\"display:none;\">\n",
              "\n",
              "<svg xmlns=\"http://www.w3.org/2000/svg\" height=\"24px\"viewBox=\"0 0 24 24\"\n",
              "     width=\"24px\">\n",
              "    <g>\n",
              "        <path d=\"M19 3H5c-1.1 0-2 .9-2 2v14c0 1.1.9 2 2 2h14c1.1 0 2-.9 2-2V5c0-1.1-.9-2-2-2zM9 17H7v-7h2v7zm4 0h-2V7h2v10zm4 0h-2v-4h2v4z\"/>\n",
              "    </g>\n",
              "</svg>\n",
              "  </button>\n",
              "\n",
              "<style>\n",
              "  .colab-df-quickchart {\n",
              "      --bg-color: #E8F0FE;\n",
              "      --fill-color: #1967D2;\n",
              "      --hover-bg-color: #E2EBFA;\n",
              "      --hover-fill-color: #174EA6;\n",
              "      --disabled-fill-color: #AAA;\n",
              "      --disabled-bg-color: #DDD;\n",
              "  }\n",
              "\n",
              "  [theme=dark] .colab-df-quickchart {\n",
              "      --bg-color: #3B4455;\n",
              "      --fill-color: #D2E3FC;\n",
              "      --hover-bg-color: #434B5C;\n",
              "      --hover-fill-color: #FFFFFF;\n",
              "      --disabled-bg-color: #3B4455;\n",
              "      --disabled-fill-color: #666;\n",
              "  }\n",
              "\n",
              "  .colab-df-quickchart {\n",
              "    background-color: var(--bg-color);\n",
              "    border: none;\n",
              "    border-radius: 50%;\n",
              "    cursor: pointer;\n",
              "    display: none;\n",
              "    fill: var(--fill-color);\n",
              "    height: 32px;\n",
              "    padding: 0;\n",
              "    width: 32px;\n",
              "  }\n",
              "\n",
              "  .colab-df-quickchart:hover {\n",
              "    background-color: var(--hover-bg-color);\n",
              "    box-shadow: 0 1px 2px rgba(60, 64, 67, 0.3), 0 1px 3px 1px rgba(60, 64, 67, 0.15);\n",
              "    fill: var(--button-hover-fill-color);\n",
              "  }\n",
              "\n",
              "  .colab-df-quickchart-complete:disabled,\n",
              "  .colab-df-quickchart-complete:disabled:hover {\n",
              "    background-color: var(--disabled-bg-color);\n",
              "    fill: var(--disabled-fill-color);\n",
              "    box-shadow: none;\n",
              "  }\n",
              "\n",
              "  .colab-df-spinner {\n",
              "    border: 2px solid var(--fill-color);\n",
              "    border-color: transparent;\n",
              "    border-bottom-color: var(--fill-color);\n",
              "    animation:\n",
              "      spin 1s steps(1) infinite;\n",
              "  }\n",
              "\n",
              "  @keyframes spin {\n",
              "    0% {\n",
              "      border-color: transparent;\n",
              "      border-bottom-color: var(--fill-color);\n",
              "      border-left-color: var(--fill-color);\n",
              "    }\n",
              "    20% {\n",
              "      border-color: transparent;\n",
              "      border-left-color: var(--fill-color);\n",
              "      border-top-color: var(--fill-color);\n",
              "    }\n",
              "    30% {\n",
              "      border-color: transparent;\n",
              "      border-left-color: var(--fill-color);\n",
              "      border-top-color: var(--fill-color);\n",
              "      border-right-color: var(--fill-color);\n",
              "    }\n",
              "    40% {\n",
              "      border-color: transparent;\n",
              "      border-right-color: var(--fill-color);\n",
              "      border-top-color: var(--fill-color);\n",
              "    }\n",
              "    60% {\n",
              "      border-color: transparent;\n",
              "      border-right-color: var(--fill-color);\n",
              "    }\n",
              "    80% {\n",
              "      border-color: transparent;\n",
              "      border-right-color: var(--fill-color);\n",
              "      border-bottom-color: var(--fill-color);\n",
              "    }\n",
              "    90% {\n",
              "      border-color: transparent;\n",
              "      border-bottom-color: var(--fill-color);\n",
              "    }\n",
              "  }\n",
              "</style>\n",
              "\n",
              "  <script>\n",
              "    async function quickchart(key) {\n",
              "      const quickchartButtonEl =\n",
              "        document.querySelector('#' + key + ' button');\n",
              "      quickchartButtonEl.disabled = true;  // To prevent multiple clicks.\n",
              "      quickchartButtonEl.classList.add('colab-df-spinner');\n",
              "      try {\n",
              "        const charts = await google.colab.kernel.invokeFunction(\n",
              "            'suggestCharts', [key], {});\n",
              "      } catch (error) {\n",
              "        console.error('Error during call to suggestCharts:', error);\n",
              "      }\n",
              "      quickchartButtonEl.classList.remove('colab-df-spinner');\n",
              "      quickchartButtonEl.classList.add('colab-df-quickchart-complete');\n",
              "    }\n",
              "    (() => {\n",
              "      let quickchartButtonEl =\n",
              "        document.querySelector('#df-eec56a9c-8e3a-4bb4-ac62-5a64b26655c6 button');\n",
              "      quickchartButtonEl.style.display =\n",
              "        google.colab.kernel.accessAllowed ? 'block' : 'none';\n",
              "    })();\n",
              "  </script>\n",
              "</div>\n",
              "\n",
              "    </div>\n",
              "  </div>\n"
            ],
            "application/vnd.google.colaboratory.intrinsic+json": {
              "type": "dataframe",
              "summary": "{\n  \"name\": \"weights\",\n  \"rows\": 19,\n  \"fields\": [\n    {\n      \"column\": 0,\n      \"properties\": {\n        \"dtype\": \"number\",\n        \"std\": 0.09949245915149335,\n        \"min\": 0.00012143044420736522,\n        \"max\": 0.41591381793490495,\n        \"num_unique_values\": 19,\n        \"samples\": [\n          0.41591381793490495,\n          0.06179219464916128,\n          0.004643511446008153\n        ],\n        \"semantic_type\": \"\",\n        \"description\": \"\"\n      }\n    },\n    {\n      \"column\": 1,\n      \"properties\": {\n        \"dtype\": \"number\",\n        \"std\": 0.054707688442603424,\n        \"min\": 0.006112858537689072,\n        \"max\": 0.1720519496417838,\n        \"num_unique_values\": 19,\n        \"samples\": [\n          0.1720519496417838,\n          0.06483758306471653,\n          0.016560224726216998\n        ],\n        \"semantic_type\": \"\",\n        \"description\": \"\"\n      }\n    }\n  ]\n}"
            }
          },
          "metadata": {},
          "execution_count": 67
        }
      ]
    },
    {
      "cell_type": "markdown",
      "source": [
        "During the Data Analysis phase, we observed that factors such as Streaming Movies, Streaming TV, Multiple Lines, Phone Service, and Gender have minimal influence on the trend of customer churn.\n",
        "\n",
        "However, the analysis identified key features that significantly impact churn. These include contract type, customer tenure, type of internet service, monthly charges, payment method, and services like Online Security and Tech Support."
      ],
      "metadata": {
        "id": "zRRg3Yfq9hlq"
      }
    },
    {
      "cell_type": "markdown",
      "source": [
        "Considering the key features identified by the Gradient Boosting Classifier and Random Forest Classifier, along with insights from the data analysis, we have compiled a list of the 10 most significant features. These features play a crucial role in influencing customer churn."
      ],
      "metadata": {
        "id": "WnMOHlMc4FgB"
      }
    },
    {
      "cell_type": "code",
      "source": [
        "X_selected_features = X_scaled[['tenure','Contract','MonthlyCharges','TotalCharges','InternetService','OnlineSecurity','TechSupport','PaymentMethod','PaperlessBilling','OnlineBackup']]"
      ],
      "metadata": {
        "id": "4Z4h1Zsk3-ij",
        "execution": {
          "iopub.status.busy": "2024-03-19T16:19:17.717849Z",
          "iopub.execute_input": "2024-03-19T16:19:17.718306Z",
          "iopub.status.idle": "2024-03-19T16:19:17.729023Z",
          "shell.execute_reply.started": "2024-03-19T16:19:17.718265Z",
          "shell.execute_reply": "2024-03-19T16:19:17.727884Z"
        },
        "trusted": true
      },
      "execution_count": 68,
      "outputs": []
    },
    {
      "cell_type": "code",
      "source": [
        "X_train_selected, X_test_selected, y_train_selected, y_test_selected = train_test_split(X_selected_features, y, test_size=0.3, random_state=101)"
      ],
      "metadata": {
        "id": "JyVDVDmywzyG",
        "execution": {
          "iopub.status.busy": "2024-03-19T16:19:17.730451Z",
          "iopub.execute_input": "2024-03-19T16:19:17.730903Z",
          "iopub.status.idle": "2024-03-19T16:19:17.750537Z",
          "shell.execute_reply.started": "2024-03-19T16:19:17.730873Z",
          "shell.execute_reply": "2024-03-19T16:19:17.749344Z"
        },
        "trusted": true
      },
      "execution_count": 69,
      "outputs": []
    },
    {
      "cell_type": "code",
      "source": [
        "for model in model_list:\n",
        "  classify(model,X_train_selected,y_train_selected)"
      ],
      "metadata": {
        "id": "wr_W126UzejU",
        "execution": {
          "iopub.status.busy": "2024-03-19T16:19:17.751781Z",
          "iopub.execute_input": "2024-03-19T16:19:17.752104Z",
          "iopub.status.idle": "2024-03-19T16:19:26.728989Z",
          "shell.execute_reply.started": "2024-03-19T16:19:17.752078Z",
          "shell.execute_reply": "2024-03-19T16:19:26.727793Z"
        },
        "trusted": true,
        "colab": {
          "base_uri": "https://localhost:8080/"
        },
        "outputId": "ccca3bb9-f497-412e-c275-93eb65328852"
      },
      "execution_count": 70,
      "outputs": [
        {
          "output_type": "stream",
          "name": "stdout",
          "text": [
            "Model:  MultinomialNB() and Cross Validation Score(mean):  0.7813889232800957\n",
            "Model:  LogisticRegression(C=1.5, max_iter=200) and Cross Validation Score(mean):  0.7939855969625687\n",
            "Model:  RandomForestClassifier(max_depth=10, max_features='log2') and Cross Validation Score(mean):  0.7966276670380917\n",
            "Model:  SVC(C=0.5, kernel='linear') and Cross Validation Score(mean):  0.791139862160043\n",
            "Model:  KNeighborsClassifier() and Cross Validation Score(mean):  0.7720453138541539\n",
            "Model:  GradientBoostingClassifier() and Cross Validation Score(mean):  0.7990664850810945\n"
          ]
        }
      ]
    },
    {
      "cell_type": "markdown",
      "source": [
        "Now its important to note the Random Forest Classifier and the Gradient Boosting Classifier exhibit comparable performance when applied to the dataset containing the important features."
      ],
      "metadata": {
        "id": "U4znQuPdJcim"
      }
    },
    {
      "cell_type": "code",
      "source": [
        "rf_selected_features =  RandomForestClassifier(n_estimators= 500,criterion = 'log_loss', max_depth = 10, max_features = 'sqrt')\n",
        "rf_selected_features.fit(X_train_selected, y_train_selected)\n",
        "y_pred = rf_selected_features.predict(X_test_selected)\n",
        "print(metrics.classification_report(y_test_selected, y_pred))\n",
        "cm=confusion_matrix(y_test_selected, y_pred)\n",
        "ax= plt.subplot()\n",
        "sns.heatmap(cm, annot=True, fmt='g', ax=ax);\n",
        "ax.set_xlabel('Predicted labels');ax.set_ylabel('True labels');\n",
        "ax.set_title('Confusion Matrix Test Set');"
      ],
      "metadata": {
        "id": "xE0epi0NxJwv",
        "execution": {
          "iopub.status.busy": "2024-03-19T16:19:26.732075Z",
          "iopub.execute_input": "2024-03-19T16:19:26.732421Z",
          "iopub.status.idle": "2024-03-19T16:19:31.350005Z",
          "shell.execute_reply.started": "2024-03-19T16:19:26.732393Z",
          "shell.execute_reply": "2024-03-19T16:19:31.348756Z"
        },
        "trusted": true,
        "colab": {
          "base_uri": "https://localhost:8080/",
          "height": 628
        },
        "outputId": "a3df98f3-2060-488f-d0e0-c2f6f81aa3d6"
      },
      "execution_count": 71,
      "outputs": [
        {
          "output_type": "stream",
          "name": "stdout",
          "text": [
            "              precision    recall  f1-score   support\n",
            "\n",
            "           0       0.85      0.90      0.87      1580\n",
            "           1       0.62      0.52      0.57       530\n",
            "\n",
            "    accuracy                           0.80      2110\n",
            "   macro avg       0.74      0.71      0.72      2110\n",
            "weighted avg       0.79      0.80      0.79      2110\n",
            "\n"
          ]
        },
        {
          "output_type": "display_data",
          "data": {
            "text/plain": [
              "<Figure size 640x480 with 2 Axes>"
            ],
            "image/png": "[encoded data removed]"
          },
          "metadata": {}
        }
      ]
    },
    {
      "cell_type": "code",
      "source": [
        "GB_selected_features =  GradientBoostingClassifier()\n",
        "GB_selected_features.fit(X_train_selected, y_train_selected)\n",
        "y_pred = GB_selected_features.predict(X_test_selected)\n",
        "print(metrics.classification_report(y_test_selected, y_pred))\n",
        "cm=confusion_matrix(y_test_selected, y_pred)\n",
        "ax= plt.subplot()\n",
        "sns.heatmap(cm, annot=True, fmt='g', ax=ax);\n",
        "ax.set_xlabel('Predicted labels');ax.set_ylabel('True labels');\n",
        "ax.set_title('Confusion Matrix Test Set');"
      ],
      "metadata": {
        "id": "SYPWK3aALAAY",
        "execution": {
          "iopub.status.busy": "2024-03-19T16:19:31.352111Z",
          "iopub.execute_input": "2024-03-19T16:19:31.352609Z",
          "iopub.status.idle": "2024-03-19T16:19:32.452202Z",
          "shell.execute_reply.started": "2024-03-19T16:19:31.352556Z",
          "shell.execute_reply": "2024-03-19T16:19:32.450727Z"
        },
        "trusted": true,
        "colab": {
          "base_uri": "https://localhost:8080/",
          "height": 628
        },
        "outputId": "a5c93298-e2d6-4c32-b085-1023c04f40d1"
      },
      "execution_count": 72,
      "outputs": [
        {
          "output_type": "stream",
          "name": "stdout",
          "text": [
            "              precision    recall  f1-score   support\n",
            "\n",
            "           0       0.85      0.90      0.87      1580\n",
            "           1       0.64      0.51      0.57       530\n",
            "\n",
            "    accuracy                           0.81      2110\n",
            "   macro avg       0.74      0.71      0.72      2110\n",
            "weighted avg       0.80      0.81      0.80      2110\n",
            "\n"
          ]
        },
        {
          "output_type": "display_data",
          "data": {
            "text/plain": [
              "<Figure size 640x480 with 2 Axes>"
            ],
            "image/png": "[encoded data removed]"
          },
          "metadata": {}
        }
      ]
    },
    {
      "cell_type": "markdown",
      "source": [
        "The Random Forest Classifier achieves an 81% accuracy on the test set when trained on important features. This outperforms the Random Forest Classifier trained on balanced data, which attained a 77% accuracy. However, it falls slightly short of the accuracy achieved by the Gradient Boosting Classifier trained on unbalanced data (81%). Meanwhile, the Gradient Boosting Classifier demonstrates consistent performance across both all features data and important features data, achieving an 81% accuracy in both cases."
      ],
      "metadata": {
        "id": "EC02FkfGKPIm"
      }
    },
    {
      "cell_type": "markdown",
      "source": [
        "####################"
      ],
      "metadata": {
        "id": "SAzMX9pKHgKg"
      }
    },
    {
      "cell_type": "markdown",
      "source": [
        "# Final Report: TELCO-CHURN PREDICTION WITH DATA SCIENCE\n",
        "\n",
        "## Introduction\n",
        "The aim of this project was to predict customer churn using a telecommunications dataset. We analyzed the data, implemented machine learning models, and identified the most significant factors influencing churn. This report summarizes our final findings and results.\n",
        "\n",
        "## Data Analysis\n",
        "In the exploratory data analysis (EDA) phase, we explored various customer demographics, services used, and contract details. We identified several features that had minimal impact on churn, including Streaming Movies, Streaming TV, Multiple Lines, Phone Service, and Gender. However, features like contract type, tenure, internet service, monthly charges, payment method, and services like Online Security and Tech Support showed a strong correlation with customer churn.\n",
        "\n",
        "## Model Selection\n",
        "We used a combination of Gradient Boosting Classifier and Random Forest Classifier to identify the most important features for predicting churn. Our final list included the top 10 features from both classifiers, along with insights from the EDA.\n",
        "\n",
        "## Model Performance\n",
        "We evaluated multiple machine learning models to predict customer churn. Below is a summary of our results:\n",
        "\n",
        "- **Random Forest Classifier on Important Features**: This model achieved an accuracy of 81% on the test set, outperforming the Random Forest Classifier trained on balanced data (77%). However, it was slightly less accurate than the Gradient Boosting Classifier trained on unbalanced data (81%).\n",
        "\n",
        "- **Gradient Boosting Classifier**: This classifier demonstrated consistent performance, achieving 81% accuracy across various datasets, including the one with all features and the one with important features.\n",
        "\n",
        "## Conclusion\n",
        "Our final findings indicate that the Gradient Boosting Classifier is the most reliable model for predicting customer churn, providing consistent results across different datasets. The Random Forest Classifier, when trained on key features, also performed well, reaching an accuracy of 81%.\n",
        "\n",
        "These results suggest that focusing on important features, rather than using a balanced dataset, can lead to better model performance. Furthermore, the significant features identified during our analysis provide actionable insights for business strategies aimed at reducing customer churn.\n",
        "\n",
        "Overall, this project underscores the importance of feature selection and model tuning in creating effective churn prediction models. The results also highlight the value of using Gradient Boosting Classifier for consistent and robust predictions."
      ],
      "metadata": {
        "id": "SYx-_3r5Hbvn"
      }
    },
    {
      "cell_type": "code",
      "source": [],
      "metadata": {
        "id": "bYPJETLHGlO4"
      },
      "execution_count": null,
      "outputs": []
    }
  ]
}